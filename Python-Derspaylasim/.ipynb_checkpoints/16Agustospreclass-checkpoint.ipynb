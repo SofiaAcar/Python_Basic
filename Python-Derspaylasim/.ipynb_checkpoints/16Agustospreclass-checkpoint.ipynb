{
 "cells": [
  {
   "cell_type": "code",
   "execution_count": 1,
   "id": "9b512719",
   "metadata": {},
   "outputs": [
    {
     "name": "stdout",
     "output_type": "stream",
     "text": [
      "['__doc__', '__loader__', '__name__', '__package__', '__spec__', 'acos', 'acosh', 'asin', 'asinh', 'atan', 'atan2', 'atanh', 'ceil', 'comb', 'copysign', 'cos', 'cosh', 'degrees', 'dist', 'e', 'erf', 'erfc', 'exp', 'expm1', 'fabs', 'factorial', 'floor', 'fmod', 'frexp', 'fsum', 'gamma', 'gcd', 'hypot', 'inf', 'isclose', 'isfinite', 'isinf', 'isnan', 'isqrt', 'ldexp', 'lgamma', 'log', 'log10', 'log1p', 'log2', 'modf', 'nan', 'perm', 'pi', 'pow', 'prod', 'radians', 'remainder', 'sin', 'sinh', 'sqrt', 'tan', 'tanh', 'tau', 'trunc']\n"
     ]
    }
   ],
   "source": [
    "import math\n",
    "print(dir(math))"
   ]
  },
  {
   "cell_type": "code",
   "execution_count": 10,
   "id": "3aedc294",
   "metadata": {},
   "outputs": [
    {
     "name": "stdout",
     "output_type": "stream",
     "text": [
      "3.141592653589793\n",
      "24\n",
      "3.0\n"
     ]
    }
   ],
   "source": [
    "from math import pi, factorial, log10  # we'll use the functions directly\n",
    "\n",
    "print(pi)  # it also contains several arithmetic constants\n",
    "print(factorial(4))  # gives the value of 4!\n",
    "print(log10(1000))  # prints the common logarithm of 1000\n"
   ]
  },
  {
   "cell_type": "code",
   "execution_count": 11,
   "id": "ea7d651f",
   "metadata": {},
   "outputs": [],
   "source": [
    "def factor(x):\n",
    "\n",
    "    result = 1\n",
    "    for i in range(x):\n",
    "        result *= (i+1)\n",
    "    return print(result)\n"
   ]
  },
  {
   "cell_type": "code",
   "execution_count": 13,
   "id": "caee309d",
   "metadata": {},
   "outputs": [
    {
     "name": "stdout",
     "output_type": "stream",
     "text": [
      "!\"#$%&'()*+,-./:;<=>?@[\\]^_`{|}~\n",
      "0123456789\n"
     ]
    }
   ],
   "source": [
    "import string as stg  # we've used alias for 'string' module\n",
    "\n",
    "print(stg.punctuation)  # prints all available punctuation marks\n",
    "print(stg.digits)  # prints all the digits\n"
   ]
  },
  {
   "cell_type": "code",
   "execution_count": 14,
   "id": "195c79de",
   "metadata": {},
   "outputs": [
    {
     "name": "stdout",
     "output_type": "stream",
     "text": [
      "2021-08-16\n",
      "2021-08-16 01:09:59.885784\n"
     ]
    }
   ],
   "source": [
    "import datetime\n",
    "\n",
    "print(datetime.date.today())  # prints today's date (yyyy-mm-dd)\n",
    "print(datetime.datetime.now())  # prints the current time in microseconds\n"
   ]
  },
  {
   "cell_type": "code",
   "execution_count": 23,
   "id": "65960632",
   "metadata": {},
   "outputs": [
    {
     "name": "stdout",
     "output_type": "stream",
     "text": [
      "Seul\n"
     ]
    }
   ],
   "source": [
    "from random import choice\n",
    "\n",
    "city = ['Stockholm', 'Istanbul', 'Seul', 'Cape Town']\n",
    "print(choice(city))  "
   ]
  },
  {
   "cell_type": "code",
   "execution_count": 27,
   "id": "93367f6a",
   "metadata": {},
   "outputs": [
    {
     "name": "stdout",
     "output_type": "stream",
     "text": [
      "0.9883069218447362\n"
     ]
    }
   ],
   "source": [
    "import random\n",
    "print(random.random())\n",
    "'''\n",
    "The statement \"random.random()\" method return the floating point number that is in the range of (0, 1).\n",
    "The function generates random float numbers.  \n",
    "'''"
   ]
  },
  {
   "cell_type": "code",
   "execution_count": 28,
   "id": "17ef7ef0",
   "metadata": {},
   "outputs": [
    {
     "ename": "SyntaxError",
     "evalue": "invalid syntax (<ipython-input-28-30bf370d66a3>, line 1)",
     "output_type": "error",
     "traceback": [
      "\u001b[1;36m  File \u001b[1;32m\"<ipython-input-28-30bf370d66a3>\"\u001b[1;36m, line \u001b[1;32m1\u001b[0m\n\u001b[1;33m    hello.py :\u001b[0m\n\u001b[1;37m              ^\u001b[0m\n\u001b[1;31mSyntaxError\u001b[0m\u001b[1;31m:\u001b[0m invalid syntax\n"
     ]
    }
   ],
   "source": [
    "hello.py :\n",
    "\"\"\" this is my first module & script \"\"\"\n",
    "\n",
    "def my_func1(x):\n",
    "    return print(x**2)\n",
    "\n",
    "def my_func2(y):\n",
    "    return print(*y)\n",
    "\n",
    "if __name__ == '__main__':  # output-generating statements are here\n",
    "    print('hello') \n",
    "    my_func1(3)\n",
    "    my_func2(\"clarusway\")\n"
   ]
  },
  {
   "cell_type": "code",
   "execution_count": null,
   "id": "c87c989f",
   "metadata": {},
   "outputs": [],
   "source": [
    "import module\n",
    "from module import my_function_2\n",
    "\n",
    "hypotenuse_1 =module.my_function_2(3,4) \n",
    "hypotenuse_2 =module.my_function_2(6,8)\n",
    "hypotenuse_3 =module.my_function_2(9,12)"
   ]
  },
  {
   "cell_type": "code",
   "execution_count": null,
   "id": "7c5e268e",
   "metadata": {},
   "outputs": [],
   "source": [
    "import module\n",
    "from module import my_function_1\n",
    "\n",
    "area_1 = module.my_function_1(3,4)\n",
    "area_2 = module.my_function_1(5,6)\n",
    "area_3 = module.my_function_1(6,8)"
   ]
  },
  {
   "cell_type": "code",
   "execution_count": null,
   "id": "498b5e92",
   "metadata": {},
   "outputs": [],
   "source": [
    "earth/                          # Top-level package\n",
    "      __init__.py               # Initialize the earth package\n",
    "      asia/                     # Subpackage for file asia\n",
    "              __init__.py\n",
    "              japan.py\n",
    "              mongolia.py       # A module under a subpackage\n",
    "              pakistan.py\n",
    "              taiwan.py\n",
    "              ...\n",
    "      europe/                   # Subpackage for file europe\n",
    "              __init__.py\n",
    "              germany.py        # A module under a subpackage\n",
    "              england.py\n",
    "              turkey.py\n",
    "              kosovo.py\n",
    "              ...\n",
    "      america/                  # Subpackage for file america\n",
    "              __init__.py\n",
    "              canada.py\n",
    "              ustates.py\n",
    "              mexico.py\n",
    "              peru.py           # A module under a subpackage\n",
    "              ...\n"
   ]
  },
  {
   "cell_type": "code",
   "execution_count": null,
   "id": "36d1df6b",
   "metadata": {},
   "outputs": [],
   "source": [
    "import earth.europe.kosovo  # importing with naming package, subpackage and module\n",
    "\n",
    "earth.europe.kosovo.a_function()  # we want to access a function defined in kosovo module"
   ]
  },
  {
   "cell_type": "code",
   "execution_count": null,
   "id": "daedb8f2",
   "metadata": {},
   "outputs": [],
   "source": [
    "from earth import europe.kosovo  # importing with naming subpackage and module\n",
    "\n",
    "europe.kosovo.a_function()  # we want to access a function defined in kosovo module"
   ]
  },
  {
   "cell_type": "code",
   "execution_count": null,
   "id": "9ce38392",
   "metadata": {},
   "outputs": [],
   "source": [
    "from earth.europe import kosovo  # importing without naming package and subpackage\n",
    "\n",
    "kosovo.a_function()  # we want to access a function defined in kosovo module"
   ]
  },
  {
   "cell_type": "code",
   "execution_count": null,
   "id": "3562a95e",
   "metadata": {},
   "outputs": [],
   "source": [
    "from earth.europe.kosovo import a_function  # importing without any naming\n",
    "\n",
    "a_function()  # we use directly the function's name"
   ]
  },
  {
   "cell_type": "code",
   "execution_count": null,
   "id": "4ebac453",
   "metadata": {},
   "outputs": [],
   "source": [
    "from . import mongolia  # one dot means addressing to a current package/subpackage\n",
    " \n",
    "from .. import europe  # two dots mean addressing to a parent package/subpackage\n",
    " \n",
    "from ..europe import kosovo  # subpackage name comes immediately after two dots\n"
   ]
  },
  {
   "cell_type": "code",
   "execution_count": null,
   "id": "03574eb7",
   "metadata": {},
   "outputs": [],
   "source": [
    "\"\"\" this is my first module & script \"\"\"\n",
    "\n",
    "def my_func1(x):\n",
    "    return print(x**2)\n",
    "\n",
    "def my_func2(y):\n",
    "    return print(*y)\n",
    "\n",
    "from ..asia import japan  # we've added importing syntax using two dots\n",
    "japan.my_func1(6)         # and the name of parent subpackage (asia)\n",
    "\n",
    "if __name__ == '__main__':\n",
    "    print('hello') \n",
    "    my_func1(3)\n",
    "    my_func2(\"clarusway\")\n"
   ]
  },
  {
   "cell_type": "code",
   "execution_count": null,
   "id": "d3e4859d",
   "metadata": {},
   "outputs": [],
   "source": [
    "import earth.europe.germany"
   ]
  },
  {
   "cell_type": "code",
   "execution_count": null,
   "id": "1da3a9e7",
   "metadata": {},
   "outputs": [],
   "source": []
  },
  {
   "cell_type": "code",
   "execution_count": 33,
   "id": "98e1321c",
   "metadata": {},
   "outputs": [
    {
     "name": "stdout",
     "output_type": "stream",
     "text": [
      "False\n"
     ]
    }
   ],
   "source": [
    "#https://edabit.com/challenge/vTGXrd5ntYRk3t6Ma\n",
    "\n",
    "#Solution 1\n",
    "\n",
    "def is_isogram(txt):\n",
    "    txt = txt.lower()\n",
    "    for letter in txt:\n",
    "        if txt.count(letter) > 1: \n",
    "            return False\n",
    "    return True\n",
    "print(is_isogram(\"HheLlo\"))\n",
    "\n"
   ]
  },
  {
   "cell_type": "code",
   "execution_count": 32,
   "id": "3052afc7",
   "metadata": {},
   "outputs": [
    {
     "name": "stdout",
     "output_type": "stream",
     "text": [
      "False\n"
     ]
    }
   ],
   "source": [
    "\n",
    "def is_isogram(txt):\n",
    "    return len(txt) == len(set(txt.lower()))\n",
    "print(is_isogram(\"Heloh\"))"
   ]
  },
  {
   "cell_type": "code",
   "execution_count": null,
   "id": "08736094",
   "metadata": {},
   "outputs": [],
   "source": [
    "https://edabit.com/challenge/6CGomPbu3dK536PH2\n",
    "\n",
    "# Solution 1\n",
    "\n",
    "# def accumulating_list(lst):\n",
    "#     k=0\n",
    "#     t=[]\n",
    "#     for i in range(len(lst)):\n",
    "#         k=k+lst[i]\n",
    "#         t.append(k)\n",
    "#     return t\n",
    "# print(accumulating_list([1, 2, 3, 4]))\n",
    "\n",
    "# Solution 2\n",
    "\n",
    "# def accumulating_list(lst):\n",
    "#     return [sum(lst[0:i+1]) for i in range(len(lst))]\n",
    "# print(accumulating_list([1, 2, 3, 4]))"
   ]
  },
  {
   "cell_type": "code",
   "execution_count": null,
   "id": "3e61f1cd",
   "metadata": {},
   "outputs": [],
   "source": [
    "https://edabit.com/challenge/rQkriLJBc9CbfRbJb\n",
    "\n",
    "# Solution 1\n",
    "\n",
    "# def index_of_caps(word):\n",
    "#     result = []\n",
    "#     for letter in word:\n",
    "#         if letter.isupper():\n",
    "#             result.append(word.index(letter))\n",
    "#     return result\n",
    "# print(index_of_caps(\"eDaBiT\"))\n",
    "\n",
    "# Solution 2\n",
    "\n",
    "# def index_of_caps(word):\n",
    "# \treturn [word.index(letter) for letter in word if letter.isupper()]\n",
    "# print(index_of_caps(\"eDabiT\"))"
   ]
  },
  {
   "cell_type": "code",
   "execution_count": null,
   "id": "908094ae",
   "metadata": {},
   "outputs": [],
   "source": [
    "https://edabit.com/challenge/646cCaFig6AP89YRo\n",
    "\n",
    "# Solution 1\n",
    "\n",
    "# def fizz_buzz(num):\n",
    "#     a=[]\n",
    "#     for i in range(1,num+1):\n",
    "#         if not i%15 :\n",
    "#             a.append('FizzBuzz')\n",
    "#         else:\n",
    "#             if not i%5:\n",
    "#                 a.append('Buzz')\n",
    "#             else: \n",
    "#                 if not i%3:\n",
    "#                     a.append('Fizz')\n",
    "#                 else:\n",
    "#                     a.append(i)\n",
    "#     return a\n",
    "# print(fizz_buzz(15))\n",
    "\n",
    "# Solution 2\n",
    "\n",
    "# def fizz_buzz(num):\n",
    "#   return ['FizzBuzz' if not n%15 else 'Buzz' if not n%5 else 'Fizz' if not n%3 else n for n in range(1,num+1)]\n",
    "# print(fizz_buzz(15))"
   ]
  },
  {
   "cell_type": "code",
   "execution_count": null,
   "id": "9c06a5b6",
   "metadata": {},
   "outputs": [],
   "source": [
    "https://edabit.com/challenge/fmQ9QvPBWL7N9hSkq\n",
    "\n",
    "# Last List Comprehension Question\n",
    "# Solution 1\n",
    "\n",
    "# def unstretch(word):\n",
    "#     return word[0]+\"\".join([word[i] for i in range(1,len(word)) if word[i]!=word[i-1]])\n",
    "# print(unstretch(\"ppooeemmm\"))\n",
    "\n",
    "# Solution 2\n",
    "\n",
    "# def unstretch(word):\n",
    "#     return ''.join([x for x,y in zip(word,word[1:]) if x!=y]) + word[-1]\n",
    "# print(unstretch(\"ppooeemmm\"))"
   ]
  },
  {
   "cell_type": "code",
   "execution_count": null,
   "id": "d234bfa6",
   "metadata": {},
   "outputs": [],
   "source": [
    "Write a Python code to sort the list at below without using .sort() method of list. elements of list = [999, 333, 2, 8982, 12, 45, 77, 99, 11] Expected output: [2, 11, 12, 45, 77, 99, 333, 999, 8982]\n",
    "\n",
    "# Solution 1\n",
    "\n",
    "# list_ = [999, 333, 2, 8982, 12, 45, 77, 99, 11]\n",
    "# new_list = []\n",
    "\n",
    "# while list_:\n",
    "#     min_element = list_[0]\n",
    "#     for i in list_:\n",
    "#         if i < min_element:\n",
    "#             min_element = i\n",
    "#     new_list.append(min_element)\n",
    "#     list_.remove(min_element)\n",
    "# print(new_list)\n",
    "\n",
    "# Solution 2\n",
    "\n",
    "# my_list = [999, 333, 2, 8982, 12, 45, 77, 99, 11]\n",
    "# for i in range(len(my_list)):\n",
    "#     for j in range(i+1, len(my_list)):\n",
    "#         if my_list[i] > my_list[j]:\n",
    "#             my_list[i], my_list[j] = my_list[j],  my_list[i]\n",
    "# print(my_list)\n",
    "\n"
   ]
  },
  {
   "cell_type": "code",
   "execution_count": null,
   "id": "c54ae3d4",
   "metadata": {},
   "outputs": [],
   "source": [
    "ir dize kabul eden ve büyük harf ve küçük harf sayısını hesaplayan bir Python işlevi yazın. \n",
    "# Örnek Dizge : 'The quick Brow Fox'\n",
    "# Beklenen Çıktı :\n",
    "# Büyük harf karakter sayısı : 3\n",
    "# Küçük harf karakter sayısı : 12\n",
    "\n",
    "# Solution\n",
    "\n",
    "# string_ = \"The quick Brow Fox\"\n",
    "# new_string_ = \"\".join(string_.split(\" \"))\n",
    "# up , low = 0, 0\n",
    "# for i in new_string_:\n",
    "#     if i.isupper():\n",
    "#         up += 1\n",
    "#     else:\n",
    "#         low += 1\n",
    "# print(\"Büyük harf karakter sayısı : {}\\nKüçük harf karakter sayısı : {}\".format(up,low))\n"
   ]
  },
  {
   "cell_type": "code",
   "execution_count": null,
   "id": "915793af",
   "metadata": {},
   "outputs": [],
   "source": [
    " https://www.reddit.com/r/clarusway/comments/o2t0uj/do_you_want_to_solve_an_interview_question_that/\n",
    "\n",
    "\n",
    "# Solution\n",
    "\n",
    "# a=[[1,2,3],[4,5,6],[7,8,9]]\n",
    "# for i in range(len(a)):\n",
    "#     for j in range(i,len(a)):\n",
    "#         a[i][j], a[j][i] = a[j][i], a[i][j]\n",
    "# for i in a:\n",
    "#     i.reverse()\n",
    "# print(a)\n",
    "\n",
    "# -------------------------------------------\n",
    "\n",
    "#map ve filtre fonksiyonu bir arada bir cözüm\n",
    "# Bu listede \"ek\" ifadesini barindiran sözcüklerin uzunluklarini bir listeye yazdiralim\n",
    "\n",
    "# liste_1 = [\"sarma\", \"ekeske\", \"börek\", \"ekmek\", \"dolma\", \"kebap\"]\n",
    "\n",
    "# liste_2 = filter(lambda x:\"ek\" in x, liste_1)\n",
    "# liste_3 = map(lambda x:len(x),liste_2)\n",
    "# print(list(liste_3))\n"
   ]
  },
  {
   "cell_type": "code",
   "execution_count": null,
   "id": "f2015ec7",
   "metadata": {},
   "outputs": [],
   "source": []
  }
 ],
 "metadata": {
  "kernelspec": {
   "display_name": "Python 3",
   "language": "python",
   "name": "python3"
  },
  "language_info": {
   "codemirror_mode": {
    "name": "ipython",
    "version": 3
   },
   "file_extension": ".py",
   "mimetype": "text/x-python",
   "name": "python",
   "nbconvert_exporter": "python",
   "pygments_lexer": "ipython3",
   "version": "3.8.8"
  }
 },
 "nbformat": 4,
 "nbformat_minor": 5
}
