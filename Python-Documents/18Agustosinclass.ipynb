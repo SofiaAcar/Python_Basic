{
 "cells": [
  {
   "cell_type": "code",
   "execution_count": null,
   "id": "f7d553e7",
   "metadata": {},
   "outputs": [],
   "source": [
    "def add(a,b):\n",
    "    print(a + b)"
   ]
  },
  {
   "cell_type": "code",
   "execution_count": null,
   "id": "e1020b4f",
   "metadata": {},
   "outputs": [],
   "source": [
    "def multiply(a,b):\n",
    "    print(a * b)"
   ]
  },
  {
   "cell_type": "code",
   "execution_count": null,
   "id": "1a53b23e",
   "metadata": {},
   "outputs": [],
   "source": [
    "def divide(a/b):\n",
    "    print(a / b)"
   ]
  },
  {
   "cell_type": "code",
   "execution_count": null,
   "id": "7c4f7d71",
   "metadata": {},
   "outputs": [],
   "source": [
    "def subtract(a-b):\n",
    "    print(a - b)"
   ]
  },
  {
   "cell_type": "code",
   "execution_count": 1,
   "id": "53d704f6",
   "metadata": {},
   "outputs": [
    {
     "data": {
      "text/plain": [
       "'C:\\\\Users\\\\Pc\\\\Documents\\\\Pythoncular\\\\Python-Addicts'"
      ]
     },
     "execution_count": 1,
     "metadata": {},
     "output_type": "execute_result"
    }
   ],
   "source": [
    "pwd"
   ]
  },
  {
   "cell_type": "code",
   "execution_count": 1,
   "id": "2a2c850d",
   "metadata": {},
   "outputs": [],
   "source": [
    "def repeater(n):\n",
    "    return lambda x:x*n"
   ]
  },
  {
   "cell_type": "code",
   "execution_count": 3,
   "id": "f82b7fac",
   "metadata": {},
   "outputs": [
    {
     "data": {
      "text/plain": [
       "<function __main__.repeater.<locals>.<lambda>(x)>"
      ]
     },
     "execution_count": 3,
     "metadata": {},
     "output_type": "execute_result"
    }
   ],
   "source": [
    "repeat_5 = repeater(5)\n",
    "repeat_5"
   ]
  },
  {
   "cell_type": "code",
   "execution_count": 4,
   "id": "d0b9e692",
   "metadata": {},
   "outputs": [
    {
     "data": {
      "text/plain": [
       "'sizi cok ozledim..sizi cok ozledim..sizi cok ozledim..sizi cok ozledim..sizi cok ozledim..'"
      ]
     },
     "execution_count": 4,
     "metadata": {},
     "output_type": "execute_result"
    }
   ],
   "source": [
    "repeat_5(\"sizi cok ozledim..\")"
   ]
  },
  {
   "cell_type": "code",
   "execution_count": 25,
   "id": "7d6da0d2",
   "metadata": {},
   "outputs": [
    {
     "data": {
      "text/plain": [
       "'sizlerden ayrilacagima uzulmemek elde misizlerden ayrilacagima uzulmemek elde misizlerden ayrilacagima uzulmemek elde misizlerden ayrilacagima uzulmemek elde misizlerden ayrilacagima uzulmemek elde mi'"
      ]
     },
     "execution_count": 25,
     "metadata": {},
     "output_type": "execute_result"
    }
   ],
   "source": [
    "repeat_5(\"sizlerden ayrilacagima uzulmemek elde mi\")"
   ]
  },
  {
   "cell_type": "code",
   "execution_count": 20,
   "id": "39a242a0",
   "metadata": {},
   "outputs": [],
   "source": [
    "def functioner(emoji) :\n",
    "    return lambda message : print(message, emoji)"
   ]
  },
  {
   "cell_type": "code",
   "execution_count": 22,
   "id": "a031b843",
   "metadata": {},
   "outputs": [],
   "source": [
    "smile_print = functioner(\":-)\")\n",
    "sad_print = functioner(\":-(\")\n",
    "notr_print = functioner(\":-|\")"
   ]
  },
  {
   "cell_type": "code",
   "execution_count": 10,
   "id": "633196f9",
   "metadata": {},
   "outputs": [
    {
     "name": "stdout",
     "output_type": "stream",
     "text": [
      "Hello :-)\n"
     ]
    }
   ],
   "source": [
    "smile_print(\"Hello\")"
   ]
  },
  {
   "cell_type": "code",
   "execution_count": 19,
   "id": "9a28a5f6",
   "metadata": {},
   "outputs": [
    {
     "name": "stdout",
     "output_type": "stream",
     "text": [
      "[1, '1', False] :-(\n"
     ]
    }
   ],
   "source": [
    "sad_print([1, \"1\", False])"
   ]
  },
  {
   "cell_type": "code",
   "execution_count": 23,
   "id": "f84a22ec",
   "metadata": {},
   "outputs": [
    {
     "name": "stdout",
     "output_type": "stream",
     "text": [
      "merhaba hocam :-|\n"
     ]
    }
   ],
   "source": [
    "notr_print(\"merhaba hocam\")"
   ]
  },
  {
   "cell_type": "code",
   "execution_count": 24,
   "id": "d181a10f",
   "metadata": {},
   "outputs": [
    {
     "data": {
      "text/plain": [
       "'hello:)'"
      ]
     },
     "execution_count": 24,
     "metadata": {},
     "output_type": "execute_result"
    }
   ],
   "source": [
    "(lambda a: a + \":)\")(\"hello\")"
   ]
  },
  {
   "cell_type": "code",
   "execution_count": 26,
   "id": "792d778d",
   "metadata": {},
   "outputs": [],
   "source": [
    "def x():    #tuple verir.   \n",
    "    return 1,2,3,4\n",
    "\n",
    "# x() = return un sagindakini verir"
   ]
  },
  {
   "cell_type": "code",
   "execution_count": 27,
   "id": "d9371ecf",
   "metadata": {},
   "outputs": [
    {
     "data": {
      "text/plain": [
       "(1, 2, 3, 4)"
      ]
     },
     "execution_count": 27,
     "metadata": {},
     "output_type": "execute_result"
    }
   ],
   "source": [
    "x()"
   ]
  },
  {
   "cell_type": "code",
   "execution_count": 29,
   "id": "f292140e",
   "metadata": {},
   "outputs": [
    {
     "data": {
      "text/plain": [
       "1"
      ]
     },
     "execution_count": 29,
     "metadata": {},
     "output_type": "execute_result"
    }
   ],
   "source": [
    "a, b, c, d, = x()\n",
    "a"
   ]
  },
  {
   "cell_type": "code",
   "execution_count": 30,
   "id": "26ddebb8",
   "metadata": {},
   "outputs": [
    {
     "data": {
      "text/plain": [
       "2"
      ]
     },
     "execution_count": 30,
     "metadata": {},
     "output_type": "execute_result"
    }
   ],
   "source": [
    "b"
   ]
  },
  {
   "cell_type": "code",
   "execution_count": 31,
   "id": "e3d7a8a2",
   "metadata": {},
   "outputs": [
    {
     "name": "stdout",
     "output_type": "stream",
     "text": [
      "1\n",
      "2\n",
      "3\n",
      "4\n"
     ]
    }
   ],
   "source": [
    "for i in x():\n",
    "    print(i)"
   ]
  },
  {
   "cell_type": "code",
   "execution_count": 32,
   "id": "6440667e",
   "metadata": {},
   "outputs": [],
   "source": [
    "num = [1,4,4]"
   ]
  },
  {
   "cell_type": "code",
   "execution_count": 33,
   "id": "f5fa2af9",
   "metadata": {},
   "outputs": [
    {
     "data": {
      "text/plain": [
       "4"
      ]
     },
     "execution_count": 33,
     "metadata": {},
     "output_type": "execute_result"
    }
   ],
   "source": [
    "max(num, key= num.count)"
   ]
  },
  {
   "cell_type": "code",
   "execution_count": 34,
   "id": "4792b7e9",
   "metadata": {},
   "outputs": [
    {
     "data": {
      "text/plain": [
       "2"
      ]
     },
     "execution_count": 34,
     "metadata": {},
     "output_type": "execute_result"
    }
   ],
   "source": [
    "num.count(4)"
   ]
  },
  {
   "cell_type": "code",
   "execution_count": 35,
   "id": "8152f6fc",
   "metadata": {},
   "outputs": [
    {
     "data": {
      "text/plain": [
       "2"
      ]
     },
     "execution_count": 35,
     "metadata": {},
     "output_type": "execute_result"
    }
   ],
   "source": [
    "num.count(max(num, key = num.count))"
   ]
  },
  {
   "cell_type": "code",
   "execution_count": 40,
   "id": "260ca06d",
   "metadata": {},
   "outputs": [
    {
     "data": {
      "text/plain": [
       "3"
      ]
     },
     "execution_count": 40,
     "metadata": {},
     "output_type": "execute_result"
    }
   ],
   "source": [
    "num = [1,2,3,4,5,5,5]\n",
    "def kac(num):\n",
    "    return num.count(max(num, key = num.count))\n",
    "kac(num)"
   ]
  },
  {
   "cell_type": "code",
   "execution_count": 38,
   "id": "99790a5c",
   "metadata": {},
   "outputs": [
    {
     "name": "stdout",
     "output_type": "stream",
     "text": [
      "(5, 3)\n"
     ]
    }
   ],
   "source": [
    "def repeater(num):\n",
    "    return max(num,key=num.count),num.count(max(num,key=num.count))\n",
    "\n",
    "print(repeater([1,2,3,4,5,5,5]))"
   ]
  },
  {
   "cell_type": "code",
   "execution_count": 45,
   "id": "5e3b97ec",
   "metadata": {},
   "outputs": [],
   "source": [
    "def equal (a,b,c):\n",
    "    numbers = [a,b,c]\n",
    "    \n",
    "    res = numbers.count(max(numbers, key=numbers.count))\n",
    "    if res > 1:\n",
    "        return res\n",
    "    else:\n",
    "        return 0"
   ]
  },
  {
   "cell_type": "code",
   "execution_count": 46,
   "id": "5975c33f",
   "metadata": {},
   "outputs": [
    {
     "data": {
      "text/plain": [
       "2"
      ]
     },
     "execution_count": 46,
     "metadata": {},
     "output_type": "execute_result"
    }
   ],
   "source": [
    "equal(1,4,4)"
   ]
  },
  {
   "cell_type": "code",
   "execution_count": 48,
   "id": "9fe6b9d1",
   "metadata": {},
   "outputs": [
    {
     "data": {
      "text/plain": [
       "3"
      ]
     },
     "execution_count": 48,
     "metadata": {},
     "output_type": "execute_result"
    }
   ],
   "source": [
    "equal(2,2,2)"
   ]
  },
  {
   "cell_type": "code",
   "execution_count": 50,
   "id": "49a73ba9",
   "metadata": {},
   "outputs": [],
   "source": [
    "def equall (* arg):\n",
    "    numbers = list(arg)\n",
    "    \n",
    "    res = numbers.count(max(numbers, key=numbers.count))\n",
    "    if res > 1:\n",
    "        return res\n",
    "    else:\n",
    "        return 0"
   ]
  },
  {
   "cell_type": "code",
   "execution_count": 51,
   "id": "99b6bad0",
   "metadata": {},
   "outputs": [
    {
     "data": {
      "text/plain": [
       "3"
      ]
     },
     "execution_count": 51,
     "metadata": {},
     "output_type": "execute_result"
    }
   ],
   "source": [
    "equall(1,2,3,4,5,5,5)"
   ]
  },
  {
   "cell_type": "code",
   "execution_count": 61,
   "id": "778455ce",
   "metadata": {},
   "outputs": [
    {
     "ename": "NameError",
     "evalue": "name 'y' is not defined",
     "output_type": "error",
     "traceback": [
      "\u001b[1;31m---------------------------------------------------------------------------\u001b[0m",
      "\u001b[1;31mNameError\u001b[0m                                 Traceback (most recent call last)",
      "\u001b[1;32m<ipython-input-61-e2c4a51245e6>\u001b[0m in \u001b[0;36m<module>\u001b[1;34m\u001b[0m\n\u001b[1;32m----> 1\u001b[1;33m \u001b[0mres\u001b[0m \u001b[1;33m=\u001b[0m \u001b[1;33m[\u001b[0m\u001b[0mx\u001b[0m\u001b[1;33m,\u001b[0m\u001b[0my\u001b[0m\u001b[1;33m,\u001b[0m\u001b[0mz\u001b[0m\u001b[1;33m]\u001b[0m\u001b[1;33m.\u001b[0m\u001b[0mcount\u001b[0m\u001b[1;33m(\u001b[0m\u001b[0mmax\u001b[0m\u001b[1;33m(\u001b[0m\u001b[1;33m[\u001b[0m\u001b[0mx\u001b[0m\u001b[1;33m,\u001b[0m\u001b[0my\u001b[0m\u001b[1;33m,\u001b[0m\u001b[0mz\u001b[0m\u001b[1;33m]\u001b[0m\u001b[1;33m,\u001b[0m \u001b[0mkey\u001b[0m \u001b[1;33m=\u001b[0m \u001b[1;33m[\u001b[0m\u001b[0mx\u001b[0m\u001b[1;33m,\u001b[0m\u001b[0my\u001b[0m\u001b[1;33m,\u001b[0m\u001b[0mz\u001b[0m\u001b[1;33m]\u001b[0m\u001b[1;33m.\u001b[0m\u001b[0mcount\u001b[0m\u001b[1;33m)\u001b[0m\u001b[1;33m)\u001b[0m\u001b[1;33m\u001b[0m\u001b[1;33m\u001b[0m\u001b[0m\n\u001b[0m",
      "\u001b[1;31mNameError\u001b[0m: name 'y' is not defined"
     ]
    }
   ],
   "source": [
    "res = [x, y, z].count(max([x, y, z], key = [x, y, z].count))"
   ]
  },
  {
   "cell_type": "code",
   "execution_count": 66,
   "id": "c2177b20",
   "metadata": {},
   "outputs": [],
   "source": [
    "equalambda = lambda x,y,z : [x,y,z].count(max([x,y,z], key = [x,y,z].count)) if [x, y, z].count(max([x, y, z], key = [x, y, z].count)) > 1 else 0"
   ]
  },
  {
   "cell_type": "code",
   "execution_count": 67,
   "id": "e91c22ba",
   "metadata": {},
   "outputs": [
    {
     "data": {
      "text/plain": [
       "2"
      ]
     },
     "execution_count": 67,
     "metadata": {},
     "output_type": "execute_result"
    }
   ],
   "source": [
    "equalambda(1,4,4)"
   ]
  },
  {
   "cell_type": "code",
   "execution_count": null,
   "id": "d33efd32",
   "metadata": {},
   "outputs": [],
   "source": [
    "#body_if if condition else body_else"
   ]
  },
  {
   "cell_type": "code",
   "execution_count": 68,
   "id": "8b2db10d",
   "metadata": {},
   "outputs": [],
   "source": [
    "equalambda = lambda * arg : list(arg).count(max(list(arg), key = list(arg).count)) \\\n",
    "if list(arg).count(max(list(arg), key = list(arg).count)) > 1 else 0"
   ]
  },
  {
   "cell_type": "code",
   "execution_count": 69,
   "id": "d69be355",
   "metadata": {},
   "outputs": [
    {
     "data": {
      "text/plain": [
       "3"
      ]
     },
     "execution_count": 69,
     "metadata": {},
     "output_type": "execute_result"
    }
   ],
   "source": [
    "equalambda(1,2,3,4,5,5,5)"
   ]
  },
  {
   "cell_type": "code",
   "execution_count": null,
   "id": "25dc8b0d",
   "metadata": {},
   "outputs": [],
   "source": [
    "equalambda = lambda * x: list(x).count(max(list(x), key = list(x).count)) \\\n",
    "if list(x).count(max(list(x), key = list(x).count)) > 1 else 0"
   ]
  },
  {
   "cell_type": "code",
   "execution_count": 78,
   "id": "53198b50",
   "metadata": {},
   "outputs": [],
   "source": [
    "myPrint = func_generator(print)\n",
    "myMax = func_generator(max)\n",
    "myBool = func_generator(bool)\n",
    "mySorted = func_generator(sorted)"
   ]
  },
  {
   "cell_type": "code",
   "execution_count": 87,
   "id": "5cdc5730",
   "metadata": {},
   "outputs": [],
   "source": [
    "def func_generator(function) :\n",
    "    return lambda x : function(x)"
   ]
  },
  {
   "cell_type": "code",
   "execution_count": 88,
   "id": "0c6a7d29",
   "metadata": {},
   "outputs": [
    {
     "data": {
      "text/plain": [
       "[1, 1, 3, 6, 8]"
      ]
     },
     "execution_count": 88,
     "metadata": {},
     "output_type": "execute_result"
    }
   ],
   "source": [
    "mySorted([1,6,8,3,1])"
   ]
  },
  {
   "cell_type": "code",
   "execution_count": 89,
   "id": "b598deca",
   "metadata": {},
   "outputs": [
    {
     "data": {
      "text/plain": [
       "False"
      ]
     },
     "execution_count": 89,
     "metadata": {},
     "output_type": "execute_result"
    }
   ],
   "source": [
    "myBool(\"\")"
   ]
  },
  {
   "cell_type": "code",
   "execution_count": 90,
   "id": "2568d424",
   "metadata": {},
   "outputs": [
    {
     "data": {
      "text/plain": [
       "8"
      ]
     },
     "execution_count": 90,
     "metadata": {},
     "output_type": "execute_result"
    }
   ],
   "source": [
    "myMax([1,6,8,3,1])"
   ]
  },
  {
   "cell_type": "code",
   "execution_count": 91,
   "id": "f002b80b",
   "metadata": {},
   "outputs": [
    {
     "name": "stdout",
     "output_type": "stream",
     "text": [
      "yaktin bizi hocam\n"
     ]
    }
   ],
   "source": [
    "myPrint(\"yaktin bizi hocam\")"
   ]
  },
  {
   "cell_type": "code",
   "execution_count": 92,
   "id": "6369c028",
   "metadata": {},
   "outputs": [
    {
     "name": "stdout",
     "output_type": "stream",
     "text": [
      "yaktin bizi hocam\n"
     ]
    }
   ],
   "source": [
    "(lambda x : print(x))(\"yaktin bizi hocam\")"
   ]
  },
  {
   "cell_type": "code",
   "execution_count": 85,
   "id": "f2223ca8",
   "metadata": {},
   "outputs": [
    {
     "data": {
      "text/plain": [
       "True"
      ]
     },
     "execution_count": 85,
     "metadata": {},
     "output_type": "execute_result"
    }
   ],
   "source": [
    "(lambda x : bool(x))(\"yaktin bizi hocam\")"
   ]
  },
  {
   "cell_type": "code",
   "execution_count": 86,
   "id": "bb2827e8",
   "metadata": {},
   "outputs": [
    {
     "data": {
      "text/plain": [
       "8"
      ]
     },
     "execution_count": 86,
     "metadata": {},
     "output_type": "execute_result"
    }
   ],
   "source": [
    "(lambda x : max(x))([1,6,8,3,1])"
   ]
  },
  {
   "cell_type": "code",
   "execution_count": 95,
   "id": "aaf4d191",
   "metadata": {},
   "outputs": [
    {
     "name": "stdout",
     "output_type": "stream",
     "text": [
      "['__doc__', '__loader__', '__name__', '__package__', '__spec__', 'acos', 'acosh', 'asin', 'asinh', 'atan', 'atan2', 'atanh', 'ceil', 'comb', 'copysign', 'cos', 'cosh', 'degrees', 'dist', 'e', 'erf', 'erfc', 'exp', 'expm1', 'fabs', 'factorial', 'floor', 'fmod', 'frexp', 'fsum', 'gamma', 'gcd', 'hypot', 'inf', 'isclose', 'isfinite', 'isinf', 'isnan', 'isqrt', 'ldexp', 'lgamma', 'log', 'log10', 'log1p', 'log2', 'modf', 'nan', 'perm', 'pi', 'pow', 'prod', 'radians', 'remainder', 'sin', 'sinh', 'sqrt', 'tan', 'tanh', 'tau', 'trunc']\n"
     ]
    }
   ],
   "source": [
    "import math\n",
    "print(dir(math))"
   ]
  },
  {
   "cell_type": "code",
   "execution_count": 97,
   "id": "d1cd8684",
   "metadata": {},
   "outputs": [
    {
     "name": "stdout",
     "output_type": "stream",
     "text": [
      "3.141592653589793\n",
      "3.0\n",
      "24\n"
     ]
    }
   ],
   "source": [
    "from math import pi, log10, factorial\n",
    "print(pi)\n",
    "print(log10(1000))\n",
    "print(factorial(4))"
   ]
  },
  {
   "cell_type": "code",
   "execution_count": 98,
   "id": "cd1db6a1",
   "metadata": {},
   "outputs": [
    {
     "data": {
      "text/plain": [
       "['Formatter',\n",
       " 'Template',\n",
       " '_ChainMap',\n",
       " '_TemplateMetaclass',\n",
       " '__all__',\n",
       " '__builtins__',\n",
       " '__cached__',\n",
       " '__doc__',\n",
       " '__file__',\n",
       " '__loader__',\n",
       " '__name__',\n",
       " '__package__',\n",
       " '__spec__',\n",
       " '_re',\n",
       " '_sentinel_dict',\n",
       " '_string',\n",
       " 'ascii_letters',\n",
       " 'ascii_lowercase',\n",
       " 'ascii_uppercase',\n",
       " 'capwords',\n",
       " 'digits',\n",
       " 'hexdigits',\n",
       " 'octdigits',\n",
       " 'printable',\n",
       " 'punctuation',\n",
       " 'whitespace']"
      ]
     },
     "execution_count": 98,
     "metadata": {},
     "output_type": "execute_result"
    }
   ],
   "source": [
    "import string\n",
    "dir(string)"
   ]
  },
  {
   "cell_type": "code",
   "execution_count": 99,
   "id": "3efd8718",
   "metadata": {},
   "outputs": [
    {
     "data": {
      "text/plain": [
       "'!\"#$%&\\'()*+,-./:;<=>?@[\\\\]^_`{|}~'"
      ]
     },
     "execution_count": 99,
     "metadata": {},
     "output_type": "execute_result"
    }
   ],
   "source": [
    "string.punctuation"
   ]
  },
  {
   "cell_type": "code",
   "execution_count": 100,
   "id": "b27294f3",
   "metadata": {},
   "outputs": [
    {
     "data": {
      "text/plain": [
       "'0123456789'"
      ]
     },
     "execution_count": 100,
     "metadata": {},
     "output_type": "execute_result"
    }
   ],
   "source": [
    "string.digits"
   ]
  },
  {
   "cell_type": "code",
   "execution_count": 102,
   "id": "6d2e2f97",
   "metadata": {},
   "outputs": [
    {
     "name": "stdout",
     "output_type": "stream",
     "text": [
      "2021-08-18\n"
     ]
    }
   ],
   "source": [
    "import datetime\n",
    "print(datetime.date.today())"
   ]
  },
  {
   "cell_type": "code",
   "execution_count": 103,
   "id": "b78056a6",
   "metadata": {},
   "outputs": [
    {
     "name": "stdout",
     "output_type": "stream",
     "text": [
      "2021-08-18 22:56:38.927492\n"
     ]
    }
   ],
   "source": [
    "print(datetime.datetime.now())"
   ]
  },
  {
   "cell_type": "code",
   "execution_count": 106,
   "id": "492a8a9f",
   "metadata": {},
   "outputs": [
    {
     "name": "stdout",
     "output_type": "stream",
     "text": [
      "0571-04-22\n"
     ]
    }
   ],
   "source": [
    "from datetime import date\n",
    "birth = date(571, 4, 22)\n",
    "print(birth)"
   ]
  },
  {
   "cell_type": "code",
   "execution_count": 107,
   "id": "1cacf4df",
   "metadata": {},
   "outputs": [
    {
     "name": "stdout",
     "output_type": "stream",
     "text": [
      "0632-06-08\n"
     ]
    }
   ],
   "source": [
    "death = date(632, 6, 8)\n",
    "print(death)"
   ]
  },
  {
   "cell_type": "code",
   "execution_count": 108,
   "id": "033e327c",
   "metadata": {},
   "outputs": [
    {
     "data": {
      "text/plain": [
       "22327"
      ]
     },
     "execution_count": 108,
     "metadata": {},
     "output_type": "execute_result"
    }
   ],
   "source": [
    "life_day = date.toordinal(death) - date.toordinal(birth)\n",
    "life_day"
   ]
  },
  {
   "cell_type": "code",
   "execution_count": null,
   "id": "cd3b02e3",
   "metadata": {},
   "outputs": [],
   "source": []
  },
  {
   "cell_type": "code",
   "execution_count": null,
   "id": "7336b758",
   "metadata": {},
   "outputs": [],
   "source": []
  },
  {
   "cell_type": "code",
   "execution_count": null,
   "id": "31c5358d",
   "metadata": {},
   "outputs": [],
   "source": []
  },
  {
   "cell_type": "code",
   "execution_count": null,
   "id": "03503156",
   "metadata": {},
   "outputs": [],
   "source": []
  }
 ],
 "metadata": {
  "kernelspec": {
   "display_name": "Python 3",
   "language": "python",
   "name": "python3"
  },
  "language_info": {
   "codemirror_mode": {
    "name": "ipython",
    "version": 3
   },
   "file_extension": ".py",
   "mimetype": "text/x-python",
   "name": "python",
   "nbconvert_exporter": "python",
   "pygments_lexer": "ipython3",
   "version": "3.8.8"
  }
 },
 "nbformat": 4,
 "nbformat_minor": 5
}
