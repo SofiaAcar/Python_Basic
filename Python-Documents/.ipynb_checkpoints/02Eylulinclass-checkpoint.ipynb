{
 "cells": [
  {
   "cell_type": "code",
   "execution_count": null,
   "id": "e738d7a0",
   "metadata": {},
   "outputs": [],
   "source": [
    "word = {1:\"1\", 2:\"2\", 3:\"3\"}\n",
    "word = {1 : \"1\", 2 : \"2\"}\n",
    "keys = word.keys()\n",
    "keys"
   ]
  },
  {
   "cell_type": "code",
   "execution_count": 2,
   "id": "5c26ffdc",
   "metadata": {},
   "outputs": [],
   "source": [
    "string= \"bugun ayriliktan bir onceki session\""
   ]
  },
  {
   "cell_type": "code",
   "execution_count": 4,
   "id": "bc143929",
   "metadata": {},
   "outputs": [
    {
     "name": "stdout",
     "output_type": "stream",
     "text": [
      "{'b': 2, 'u': 2, 'g': 1, 'n': 4, ' ': 4, 'a': 2, 'y': 1, 'r': 2, 'i': 5, 'l': 1, 'k': 2, 't': 1, 'o': 2, 'c': 1, 'e': 2, 's': 3}\n"
     ]
    }
   ],
   "source": [
    "word_dict = {}\n",
    "for n in string:\n",
    "    keys = word_dict.keys()\n",
    "    if n in word_dict:\n",
    "        word_dict[n] += 1\n",
    "    else:\n",
    "        word_dict[n] =1\n",
    "print(word_dict)"
   ]
  },
  {
   "cell_type": "code",
   "execution_count": null,
   "id": "8b713fae",
   "metadata": {},
   "outputs": [],
   "source": [
    "string = 'bugun ayriliktan bir onceki session..'\n",
    "sozluk = {}\n",
    "for i in string:\n",
    "    sozluk[i] = sozluk.get(i, 0) + 1\n",
    "print(sozluk)"
   ]
  },
  {
   "cell_type": "code",
   "execution_count": 6,
   "id": "7344ecb3",
   "metadata": {},
   "outputs": [],
   "source": [
    "veri = [\"a\", \"b\", True, (False, 1), {\"1\" : 2}, [1,2], {\"2\" : \"two\"}, {2, \"3\"}, \"c\", 23, 0]"
   ]
  },
  {
   "cell_type": "code",
   "execution_count": 7,
   "id": "c5b4fb4a",
   "metadata": {},
   "outputs": [
    {
     "data": {
      "text/plain": [
       "{'bool': 1, 'int': 2, 'list': 1, 'tuple': 1, 'str': 3}"
      ]
     },
     "execution_count": 7,
     "metadata": {},
     "output_type": "execute_result"
    }
   ],
   "source": [
    "{\"bool\" : 1 , \"int\": 2, \"list\": 1, \"tuple\": 1, \"str\": 3}"
   ]
  },
  {
   "cell_type": "code",
   "execution_count": 8,
   "id": "64ee47f1",
   "metadata": {},
   "outputs": [],
   "source": [
    "tipler = [\"int\", \"str\", \"bool\", \"list\", \"tuple\", \"dict\", \"set\"]"
   ]
  },
  {
   "cell_type": "code",
   "execution_count": 9,
   "id": "24d90507",
   "metadata": {},
   "outputs": [
    {
     "data": {
      "text/plain": [
       "{'int': 0, 'str': 0, 'bool': 0, 'list': 0, 'tuple': 0, 'dict': 0, 'set': 0}"
      ]
     },
     "execution_count": 9,
     "metadata": {},
     "output_type": "execute_result"
    }
   ],
   "source": [
    "{}.fromkeys(tipler, 0)"
   ]
  },
  {
   "cell_type": "code",
   "execution_count": 11,
   "id": "510d7a7c",
   "metadata": {},
   "outputs": [
    {
     "data": {
      "text/plain": [
       "{'int': 0, 'str': 0, 'bool': 0, 'list': 0, 'tuple': 0, 'dict': 0, 'set': 0}"
      ]
     },
     "execution_count": 11,
     "metadata": {},
     "output_type": "execute_result"
    }
   ],
   "source": [
    "toplam = {}.fromkeys(tipler, 0)\n",
    "toplam"
   ]
  },
  {
   "cell_type": "code",
   "execution_count": 12,
   "id": "ff794e91",
   "metadata": {},
   "outputs": [
    {
     "data": {
      "text/plain": [
       "11"
      ]
     },
     "execution_count": 12,
     "metadata": {},
     "output_type": "execute_result"
    }
   ],
   "source": [
    "len(veri)"
   ]
  },
  {
   "cell_type": "code",
   "execution_count": 13,
   "id": "9eec9003",
   "metadata": {},
   "outputs": [
    {
     "data": {
      "text/plain": [
       "str"
      ]
     },
     "execution_count": 13,
     "metadata": {},
     "output_type": "execute_result"
    }
   ],
   "source": [
    "type(veri[0])"
   ]
  },
  {
   "cell_type": "code",
   "execution_count": 14,
   "id": "18780d25",
   "metadata": {},
   "outputs": [
    {
     "data": {
      "text/plain": [
       "{'int': 2, 'str': 3, 'bool': 1, 'list': 1, 'tuple': 1, 'dict': 2, 'set': 1}"
      ]
     },
     "execution_count": 14,
     "metadata": {},
     "output_type": "execute_result"
    }
   ],
   "source": [
    "for i in range(len(veri)):\n",
    "    if type(veri[i]) == int :toplam[\"int\"] += 1\n",
    "    elif type(veri[i]) == str :toplam[\"str\"] += 1\n",
    "    elif type(veri[i]) == bool :toplam[\"bool\"] += 1\n",
    "    elif type(veri[i]) == list :toplam[\"list\"] += 1\n",
    "    elif type(veri[i]) == tuple :toplam[\"tuple\"] += 1\n",
    "    elif type(veri[i]) == dict :toplam[\"dict\"] += 1\n",
    "    elif type(veri[i]) == set :toplam[\"set\"] += 1\n",
    "toplam\n",
    "    "
   ]
  },
  {
   "cell_type": "markdown",
   "id": "d03987fa",
   "metadata": {},
   "source": [
    "## OBEB (Ortak Katlarin En Buyugu)"
   ]
  },
  {
   "cell_type": "code",
   "execution_count": 18,
   "id": "b259c24c",
   "metadata": {},
   "outputs": [
    {
     "data": {
      "text/plain": [
       "5"
      ]
     },
     "execution_count": 18,
     "metadata": {},
     "output_type": "execute_result"
    }
   ],
   "source": [
    "def obeb(a,b):  # recursive yapilardan cozduk..\n",
    "    \"\"\"ilk parametreyi buyuk olan sayi oalrak giriniz\"\"\"\n",
    "    if b == 0 : \n",
    "        return a\n",
    "    else : \n",
    "        return obeb(b, a%b)\n",
    "obeb(65,25)"
   ]
  },
  {
   "cell_type": "code",
   "execution_count": 16,
   "id": "aa80769f",
   "metadata": {},
   "outputs": [
    {
     "data": {
      "text/plain": [
       "8"
      ]
     },
     "execution_count": 16,
     "metadata": {},
     "output_type": "execute_result"
    }
   ],
   "source": [
    "obeb(24,8)"
   ]
  },
  {
   "cell_type": "code",
   "execution_count": 19,
   "id": "c4269ff1",
   "metadata": {},
   "outputs": [
    {
     "name": "stdout",
     "output_type": "stream",
     "text": [
      "ilk parametreyi buyuk olan sayi oalrak giriniz\n"
     ]
    }
   ],
   "source": [
    "print(obeb.__doc__)"
   ]
  },
  {
   "cell_type": "code",
   "execution_count": 20,
   "id": "901cc14f",
   "metadata": {},
   "outputs": [
    {
     "name": "stdout",
     "output_type": "stream",
     "text": [
      "325\n",
      "5\n"
     ]
    }
   ],
   "source": [
    "def obeb(a,b):\n",
    "    if b==0:\n",
    "        return a\n",
    "    else:\n",
    "        return obeb(b,a%b)\n",
    "def okek(a,b):\n",
    "    return int(a*b / obeb(a,b))\n",
    "print(okek(65,25))\n",
    "print(obeb(65,25))"
   ]
  },
  {
   "cell_type": "code",
   "execution_count": 21,
   "id": "17574b74",
   "metadata": {},
   "outputs": [],
   "source": [
    "def my_facto(n) : #recursive tekrar eden fonksiyonlar\n",
    "    if n == 0 : \n",
    "        return 1\n",
    "    else :\n",
    "        return n * my_facto(n-1)"
   ]
  },
  {
   "cell_type": "markdown",
   "id": "e0f53c01",
   "metadata": {},
   "source": [
    "### Quesiton - given a list `[1,2,3]` get an all possible output permutation of these numbers in a list."
   ]
  },
  {
   "cell_type": "markdown",
   "id": "552357cf",
   "metadata": {},
   "source": [
    "Example:\n",
    "\n",
    "Input: ``[1,2,3]``\n",
    "\n",
    "Output:\n",
    "```\n",
    "[\n",
    "  [1,2,3],\n",
    "  [1,3,2],\n",
    "  [2,1,3],\n",
    "  [2,3,1],\n",
    "  [3,1,2],\n",
    "  [3,2,1]\n",
    "]```"
   ]
  },
  {
   "cell_type": "code",
   "execution_count": 23,
   "id": "84eaeb9c",
   "metadata": {},
   "outputs": [],
   "source": [
    "solution = [[]]\n",
    "# solution-1 = [[1], [2], [3]]\n",
    "# solution-2 = [[1,2], [1,3], [2,1], [2,3], [3,1], [3,2]]\n",
    "# solution-3 = [[1,2,3], [1,3,2], [2,1,3], [2,3,1], [3,1,2], [3,2,1]]\n"
   ]
  },
  {
   "cell_type": "code",
   "execution_count": 24,
   "id": "13fb70b2",
   "metadata": {},
   "outputs": [
    {
     "name": "stdout",
     "output_type": "stream",
     "text": [
      "[]\n"
     ]
    }
   ],
   "source": [
    "for i in solution :\n",
    "    print(i)"
   ]
  },
  {
   "cell_type": "code",
   "execution_count": 25,
   "id": "05751215",
   "metadata": {},
   "outputs": [
    {
     "data": {
      "text/plain": [
       "1"
      ]
     },
     "execution_count": 25,
     "metadata": {},
     "output_type": "execute_result"
    }
   ],
   "source": [
    "len(solution)"
   ]
  },
  {
   "cell_type": "code",
   "execution_count": 28,
   "id": "7e156228",
   "metadata": {},
   "outputs": [
    {
     "data": {
      "text/plain": [
       "{1, 2, 3}"
      ]
     },
     "execution_count": 28,
     "metadata": {},
     "output_type": "execute_result"
    }
   ],
   "source": [
    "num = [1,2,3]\n",
    "num_set = set(num)\n",
    "num_set"
   ]
  },
  {
   "cell_type": "code",
   "execution_count": 29,
   "id": "512dc423",
   "metadata": {},
   "outputs": [
    {
     "data": {
      "text/plain": [
       "set()"
      ]
     },
     "execution_count": 29,
     "metadata": {},
     "output_type": "execute_result"
    }
   ],
   "source": [
    "set([]) #set kumenin icine bos bir liste gonderdigimizde bos kume oluyor."
   ]
  },
  {
   "cell_type": "code",
   "execution_count": 30,
   "id": "0cb19704",
   "metadata": {},
   "outputs": [
    {
     "data": {
      "text/plain": [
       "set()"
      ]
     },
     "execution_count": 30,
     "metadata": {},
     "output_type": "execute_result"
    }
   ],
   "source": [
    "set_bos_list = set([])\n",
    "set_bos_list"
   ]
  },
  {
   "cell_type": "code",
   "execution_count": 31,
   "id": "287aa80b",
   "metadata": {},
   "outputs": [
    {
     "data": {
      "text/plain": [
       "{1, 2, 3}"
      ]
     },
     "execution_count": 31,
     "metadata": {},
     "output_type": "execute_result"
    }
   ],
   "source": [
    "num_set-set_bos_list"
   ]
  },
  {
   "cell_type": "code",
   "execution_count": 32,
   "id": "291a20a7",
   "metadata": {},
   "outputs": [
    {
     "data": {
      "text/plain": [
       "{2, 3}"
      ]
     },
     "execution_count": 32,
     "metadata": {},
     "output_type": "execute_result"
    }
   ],
   "source": [
    "num_set - set([1])"
   ]
  },
  {
   "cell_type": "code",
   "execution_count": 33,
   "id": "af999fa0",
   "metadata": {},
   "outputs": [
    {
     "data": {
      "text/plain": [
       "{1, 3}"
      ]
     },
     "execution_count": 33,
     "metadata": {},
     "output_type": "execute_result"
    }
   ],
   "source": [
    "num_set - set([2])"
   ]
  },
  {
   "cell_type": "code",
   "execution_count": 34,
   "id": "dd5b0e0b",
   "metadata": {},
   "outputs": [
    {
     "data": {
      "text/plain": [
       "{3}"
      ]
     },
     "execution_count": 34,
     "metadata": {},
     "output_type": "execute_result"
    }
   ],
   "source": [
    "num_set - set([1,2])"
   ]
  },
  {
   "cell_type": "code",
   "execution_count": 35,
   "id": "5f5af717",
   "metadata": {},
   "outputs": [
    {
     "data": {
      "text/plain": [
       "[1, 2, 3]"
      ]
     },
     "execution_count": 35,
     "metadata": {},
     "output_type": "execute_result"
    }
   ],
   "source": [
    "[1] + [2,3]  #liste concat yaptik"
   ]
  },
  {
   "cell_type": "code",
   "execution_count": 36,
   "id": "cd4523bf",
   "metadata": {},
   "outputs": [
    {
     "data": {
      "text/plain": [
       "{3}"
      ]
     },
     "execution_count": 36,
     "metadata": {},
     "output_type": "execute_result"
    }
   ],
   "source": [
    "num_set - set([1]+[2])"
   ]
  },
  {
   "cell_type": "code",
   "execution_count": null,
   "id": "56b29cc9",
   "metadata": {},
   "outputs": [],
   "source": [
    "solution = [[]]\n",
    "# solution_0 = [[]]\n",
    "# solution-1 = [[1], [2], [3]]\n",
    "# solution-2 = [[1,2], [1,3], [2,1], [2,3], [3,1], [3,2]]\n",
    "# solution-3 = [[1,2,3], [1,3,2], [2,1,3], [2,3,1], [3,1,2], [3,2,1]]\n",
    "#"
   ]
  },
  {
   "cell_type": "code",
   "execution_count": 49,
   "id": "e9a14516",
   "metadata": {},
   "outputs": [
    {
     "data": {
      "text/plain": [
       "[1, 2, 3]"
      ]
     },
     "execution_count": 49,
     "metadata": {},
     "output_type": "execute_result"
    }
   ],
   "source": [
    "num"
   ]
  },
  {
   "cell_type": "code",
   "execution_count": 38,
   "id": "183d4847",
   "metadata": {},
   "outputs": [
    {
     "data": {
      "text/plain": [
       "[[0], [1], [2]]"
      ]
     },
     "execution_count": 38,
     "metadata": {},
     "output_type": "execute_result"
    }
   ],
   "source": [
    "[[i] for i in range(3)]"
   ]
  },
  {
   "cell_type": "code",
   "execution_count": null,
   "id": "d17da8cc",
   "metadata": {},
   "outputs": [],
   "source": [
    "bos = []\n",
    "for i in range(3):\n",
    "    bos.append([i])\n",
    "bos"
   ]
  },
  {
   "cell_type": "code",
   "execution_count": 39,
   "id": "bbdb1c3a",
   "metadata": {},
   "outputs": [
    {
     "data": {
      "text/plain": [
       "[[0], [1], [4]]"
      ]
     },
     "execution_count": 39,
     "metadata": {},
     "output_type": "execute_result"
    }
   ],
   "source": [
    "[[i**2] for i in range(3)] #[body for variable in iterable]"
   ]
  },
  {
   "cell_type": "code",
   "execution_count": 40,
   "id": "be5bb151",
   "metadata": {},
   "outputs": [
    {
     "data": {
      "text/plain": [
       "[[0, 'a'], [1, 'a'], [4, 'a']]"
      ]
     },
     "execution_count": 40,
     "metadata": {},
     "output_type": "execute_result"
    }
   ],
   "source": [
    "[[i**2] + [\"a\"] for i in range(3)]"
   ]
  },
  {
   "cell_type": "code",
   "execution_count": 44,
   "id": "d20e6170",
   "metadata": {},
   "outputs": [
    {
     "data": {
      "text/plain": [
       "['04', '05', '06', '14', '15', '16', '24', '25', '26']"
      ]
     },
     "execution_count": 44,
     "metadata": {},
     "output_type": "execute_result"
    }
   ],
   "source": [
    "boss = []\n",
    "for i in range(3):\n",
    "    for j in range(4,7):\n",
    "        boss.append(str(i)+ str(j))\n",
    "boss"
   ]
  },
  {
   "cell_type": "code",
   "execution_count": 46,
   "id": "f5740d66",
   "metadata": {},
   "outputs": [
    {
     "data": {
      "text/plain": [
       "['04', '05', '06', '14', '15', '16', '24', '25', '26']"
      ]
     },
     "execution_count": 46,
     "metadata": {},
     "output_type": "execute_result"
    }
   ],
   "source": [
    "[str(i)+ str(j) for i in range(3) for j in range(4,7)]"
   ]
  },
  {
   "cell_type": "code",
   "execution_count": 53,
   "id": "d7843e7f",
   "metadata": {},
   "outputs": [],
   "source": [
    "num = [1,2,3]\n",
    "num_set = set(num)\n",
    "num_set\n",
    "solution = [[]]"
   ]
  },
  {
   "cell_type": "code",
   "execution_count": 54,
   "id": "e757fb15",
   "metadata": {},
   "outputs": [
    {
     "name": "stdout",
     "output_type": "stream",
     "text": [
      "[[1], [2], [3]]\n",
      "[[1, 2], [1, 3], [2, 1], [2, 3], [3, 1], [3, 2]]\n",
      "[[1, 2, 3], [1, 3, 2], [2, 1, 3], [2, 3, 1], [3, 1, 2], [3, 2, 1]]\n"
     ]
    }
   ],
   "source": [
    "for index in range(len(num)) :\n",
    "    solution = [i + [j] for i in solution for j in num_set.difference(set(i))]\n",
    "    print(solution)"
   ]
  },
  {
   "cell_type": "code",
   "execution_count": null,
   "id": "4c74c057",
   "metadata": {},
   "outputs": [],
   "source": []
  },
  {
   "cell_type": "code",
   "execution_count": null,
   "id": "207acc9e",
   "metadata": {},
   "outputs": [],
   "source": []
  },
  {
   "cell_type": "code",
   "execution_count": null,
   "id": "fe9759c7",
   "metadata": {},
   "outputs": [],
   "source": []
  },
  {
   "cell_type": "code",
   "execution_count": null,
   "id": "c127fbd0",
   "metadata": {},
   "outputs": [],
   "source": []
  },
  {
   "cell_type": "code",
   "execution_count": null,
   "id": "52a568bb",
   "metadata": {},
   "outputs": [],
   "source": [
    "solution = [[]]"
   ]
  },
  {
   "cell_type": "code",
   "execution_count": null,
   "id": "dccc033d",
   "metadata": {},
   "outputs": [],
   "source": []
  }
 ],
 "metadata": {
  "kernelspec": {
   "display_name": "Python 3",
   "language": "python",
   "name": "python3"
  },
  "language_info": {
   "codemirror_mode": {
    "name": "ipython",
    "version": 3
   },
   "file_extension": ".py",
   "mimetype": "text/x-python",
   "name": "python",
   "nbconvert_exporter": "python",
   "pygments_lexer": "ipython3",
   "version": "3.8.8"
  }
 },
 "nbformat": 4,
 "nbformat_minor": 5
}
