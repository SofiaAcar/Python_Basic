{
 "cells": [
  {
   "cell_type": "code",
   "execution_count": 1,
   "id": "3eda0bed",
   "metadata": {},
   "outputs": [
    {
     "data": {
      "text/plain": [
       "'C:\\\\Users\\\\Pc\\\\Documents\\\\Pythoncular\\\\Python-Documents'"
      ]
     },
     "execution_count": 1,
     "metadata": {},
     "output_type": "execute_result"
    }
   ],
   "source": [
    "pwd"
   ]
  },
  {
   "cell_type": "code",
   "execution_count": null,
   "id": "161bda20",
   "metadata": {},
   "outputs": [],
   "source": [
    "from upper_package import my_package1, my_package2"
   ]
  },
  {
   "cell_type": "code",
   "execution_count": null,
   "id": "9489350c",
   "metadata": {},
   "outputs": [],
   "source": [
    "from upper_package.my_package1 import my_module_1, my_module_2"
   ]
  },
  {
   "cell_type": "code",
   "execution_count": null,
   "id": "f679533a",
   "metadata": {},
   "outputs": [],
   "source": [
    "dir(my_package1)"
   ]
  },
  {
   "cell_type": "code",
   "execution_count": null,
   "id": "46f479b7",
   "metadata": {},
   "outputs": [],
   "source": [
    "from upper_package.my_package2 import my_module_3, my_module_4"
   ]
  },
  {
   "cell_type": "code",
   "execution_count": null,
   "id": "359088a7",
   "metadata": {},
   "outputs": [],
   "source": [
    "dir(my_package2)"
   ]
  },
  {
   "cell_type": "code",
   "execution_count": null,
   "id": "313a7ae9",
   "metadata": {},
   "outputs": [],
   "source": [
    "my_module_2.divide(10, 5)"
   ]
  },
  {
   "cell_type": "code",
   "execution_count": null,
   "id": "7d87ad30",
   "metadata": {},
   "outputs": [],
   "source": [
    "my_module_1.addition(4,5)"
   ]
  },
  {
   "cell_type": "code",
   "execution_count": null,
   "id": "316a8cf7",
   "metadata": {},
   "outputs": [],
   "source": [
    "my_module_3.repeater(\"clarusway \", 3)"
   ]
  },
  {
   "cell_type": "code",
   "execution_count": null,
   "id": "74704218",
   "metadata": {},
   "outputs": [],
   "source": [
    "my_module_4.sqroot(25)"
   ]
  },
  {
   "cell_type": "code",
   "execution_count": null,
   "id": "cd0c9336",
   "metadata": {},
   "outputs": [],
   "source": [
    "my_package1.__spec__"
   ]
  },
  {
   "cell_type": "code",
   "execution_count": null,
   "id": "06eab643",
   "metadata": {},
   "outputs": [],
   "source": [
    "import upper_package"
   ]
  },
  {
   "cell_type": "code",
   "execution_count": null,
   "id": "73ba88c3",
   "metadata": {},
   "outputs": [],
   "source": [
    "from upper_package.my_package1.my_module_2 import divide, hello"
   ]
  },
  {
   "cell_type": "code",
   "execution_count": null,
   "id": "793a5d52",
   "metadata": {},
   "outputs": [],
   "source": [
    "hello()"
   ]
  },
  {
   "cell_type": "code",
   "execution_count": null,
   "id": "8d9561e3",
   "metadata": {},
   "outputs": [],
   "source": [
    "divide(22, 11)"
   ]
  },
  {
   "cell_type": "code",
   "execution_count": 8,
   "id": "47138402",
   "metadata": {},
   "outputs": [],
   "source": [
    "import math"
   ]
  },
  {
   "cell_type": "code",
   "execution_count": 9,
   "id": "b6b263e7",
   "metadata": {},
   "outputs": [],
   "source": [
    "from math import log10"
   ]
  },
  {
   "cell_type": "code",
   "execution_count": 10,
   "id": "3d68efb3",
   "metadata": {},
   "outputs": [
    {
     "data": {
      "text/plain": [
       "3.0"
      ]
     },
     "execution_count": 10,
     "metadata": {},
     "output_type": "execute_result"
    }
   ],
   "source": [
    "log10(1000)"
   ]
  },
  {
   "cell_type": "code",
   "execution_count": 11,
   "id": "df173268",
   "metadata": {},
   "outputs": [
    {
     "name": "stdout",
     "output_type": "stream",
     "text": [
      "This module provides access to the mathematical functions\n",
      "defined by the C standard.\n"
     ]
    }
   ],
   "source": [
    "print(math.__doc__)"
   ]
  },
  {
   "cell_type": "code",
   "execution_count": null,
   "id": "967d8a8b",
   "metadata": {},
   "outputs": [],
   "source": [
    "print(my_module_2.__doc__)"
   ]
  },
  {
   "cell_type": "code",
   "execution_count": null,
   "id": "98e96f27",
   "metadata": {},
   "outputs": [],
   "source": [
    "!pip list"
   ]
  },
  {
   "cell_type": "code",
   "execution_count": 1,
   "id": "6fef4b4c",
   "metadata": {},
   "outputs": [
    {
     "name": "stdout",
     "output_type": "stream",
     "text": [
      "pip 21.0.1 from C:\\Users\\Pc\\anaconda3\\lib\\site-packages\\pip (python 3.8)\n",
      "\n",
      "Note: you may need to restart the kernel to use updated packages.\n"
     ]
    }
   ],
   "source": [
    "pip --version"
   ]
  },
  {
   "cell_type": "code",
   "execution_count": null,
   "id": "03edb7b2",
   "metadata": {},
   "outputs": [],
   "source": [
    "pip install kaggle"
   ]
  },
  {
   "cell_type": "code",
   "execution_count": null,
   "id": "e836a337",
   "metadata": {},
   "outputs": [],
   "source": [
    "import itertools"
   ]
  },
  {
   "cell_type": "code",
   "execution_count": null,
   "id": "091f549b",
   "metadata": {},
   "outputs": [],
   "source": [
    "pip show pep8"
   ]
  },
  {
   "cell_type": "code",
   "execution_count": 4,
   "id": "7fe468d0",
   "metadata": {},
   "outputs": [],
   "source": [
    "import math"
   ]
  },
  {
   "cell_type": "code",
   "execution_count": 5,
   "id": "6b18917e",
   "metadata": {},
   "outputs": [
    {
     "ename": "ValueError",
     "evalue": "math domain error",
     "output_type": "error",
     "traceback": [
      "\u001b[1;31m-------------------------------------------------------------------------\u001b[0m",
      "\u001b[1;31mValueError\u001b[0m                              Traceback (most recent call last)",
      "\u001b[1;32m<ipython-input-5-bd96441ed035>\u001b[0m in \u001b[0;36m<module>\u001b[1;34m\u001b[0m\n\u001b[1;32m----> 1\u001b[1;33m \u001b[0mprint\u001b[0m\u001b[1;33m(\u001b[0m\u001b[0mmath\u001b[0m\u001b[1;33m.\u001b[0m\u001b[0msqrt\u001b[0m\u001b[1;33m(\u001b[0m\u001b[1;33m-\u001b[0m\u001b[1;36m25\u001b[0m\u001b[1;33m)\u001b[0m\u001b[1;33m)\u001b[0m\u001b[1;33m\u001b[0m\u001b[1;33m\u001b[0m\u001b[0m\n\u001b[0m",
      "\u001b[1;31mValueError\u001b[0m: math domain error"
     ]
    }
   ],
   "source": [
    "print(math.sqrt(-25))"
   ]
  },
  {
   "cell_type": "code",
   "execution_count": 6,
   "id": "d1db0a9b",
   "metadata": {},
   "outputs": [
    {
     "ename": "ValueError",
     "evalue": "factorial() not defined for negative values",
     "output_type": "error",
     "traceback": [
      "\u001b[1;31m-------------------------------------------------------------------------\u001b[0m",
      "\u001b[1;31mValueError\u001b[0m                              Traceback (most recent call last)",
      "\u001b[1;32m<ipython-input-6-8f05d4f1138b>\u001b[0m in \u001b[0;36m<module>\u001b[1;34m\u001b[0m\n\u001b[1;32m----> 1\u001b[1;33m \u001b[0mmath\u001b[0m\u001b[1;33m.\u001b[0m\u001b[0mfactorial\u001b[0m\u001b[1;33m(\u001b[0m\u001b[1;33m-\u001b[0m\u001b[1;36m3\u001b[0m\u001b[1;33m)\u001b[0m\u001b[1;33m\u001b[0m\u001b[1;33m\u001b[0m\u001b[0m\n\u001b[0m",
      "\u001b[1;31mValueError\u001b[0m: factorial() not defined for negative values"
     ]
    }
   ],
   "source": [
    "math.factorial(-3)"
   ]
  },
  {
   "cell_type": "code",
   "execution_count": 7,
   "id": "18103896",
   "metadata": {},
   "outputs": [
    {
     "ename": "TypeError",
     "evalue": "unsupported operand type(s) for +: 'int' and 'str'",
     "output_type": "error",
     "traceback": [
      "\u001b[1;31m-------------------------------------------------------------------------\u001b[0m",
      "\u001b[1;31mTypeError\u001b[0m                               Traceback (most recent call last)",
      "\u001b[1;32m<ipython-input-7-96788054896b>\u001b[0m in \u001b[0;36m<module>\u001b[1;34m\u001b[0m\n\u001b[1;32m----> 1\u001b[1;33m \u001b[0mprint\u001b[0m\u001b[1;33m(\u001b[0m\u001b[1;36m2\u001b[0m \u001b[1;33m+\u001b[0m \u001b[1;34m\"2\"\u001b[0m\u001b[1;33m)\u001b[0m\u001b[1;33m\u001b[0m\u001b[1;33m\u001b[0m\u001b[0m\n\u001b[0m",
      "\u001b[1;31mTypeError\u001b[0m: unsupported operand type(s) for +: 'int' and 'str'"
     ]
    }
   ],
   "source": [
    "print(2 + \"2\")"
   ]
  },
  {
   "cell_type": "code",
   "execution_count": 8,
   "id": "71044eb1",
   "metadata": {},
   "outputs": [
    {
     "name": "stdout",
     "output_type": "stream",
     "text": [
      "22\n"
     ]
    }
   ],
   "source": [
    "print(2 * \"2\")"
   ]
  },
  {
   "cell_type": "code",
   "execution_count": 9,
   "id": "0908e5ca",
   "metadata": {},
   "outputs": [
    {
     "name": "stdout",
     "output_type": "stream",
     "text": [
      "hello\n"
     ]
    },
    {
     "ename": "ZeroDivisionError",
     "evalue": "division by zero",
     "output_type": "error",
     "traceback": [
      "\u001b[1;31m-------------------------------------------------------------------------\u001b[0m",
      "\u001b[1;31mZeroDivisionError\u001b[0m                       Traceback (most recent call last)",
      "\u001b[1;32m<ipython-input-9-15256f0d2731>\u001b[0m in \u001b[0;36m<module>\u001b[1;34m\u001b[0m\n\u001b[0;32m      1\u001b[0m \u001b[0mprint\u001b[0m\u001b[1;33m(\u001b[0m\u001b[1;34m\"hello\"\u001b[0m\u001b[1;33m)\u001b[0m\u001b[1;33m\u001b[0m\u001b[1;33m\u001b[0m\u001b[0m\n\u001b[1;32m----> 2\u001b[1;33m \u001b[0mprint\u001b[0m\u001b[1;33m(\u001b[0m\u001b[1;36m4\u001b[0m\u001b[1;33m/\u001b[0m\u001b[1;36m0\u001b[0m\u001b[1;33m)\u001b[0m\u001b[1;33m\u001b[0m\u001b[1;33m\u001b[0m\u001b[0m\n\u001b[0m",
      "\u001b[1;31mZeroDivisionError\u001b[0m: division by zero"
     ]
    }
   ],
   "source": [
    "print(\"hello\")\n",
    "print(4/0)"
   ]
  },
  {
   "cell_type": "code",
   "execution_count": 11,
   "id": "a5a4cf31",
   "metadata": {},
   "outputs": [
    {
     "name": "stdout",
     "output_type": "stream",
     "text": [
      "ilk sayı :12\n",
      "ikinci sayı :4\n",
      "3.0\n"
     ]
    }
   ],
   "source": [
    "while True :\n",
    "    a = int(input(\"ilk sayı :\"))\n",
    "    b = int(input(\"ikinci sayı :\"))\n",
    "    c = a / b\n",
    "    print(c)\n",
    "    break"
   ]
  },
  {
   "cell_type": "code",
   "execution_count": 12,
   "id": "8c782d2b",
   "metadata": {},
   "outputs": [
    {
     "name": "stdout",
     "output_type": "stream",
     "text": [
      "ilk sayı :8\n",
      "ikinci sayı :0\n",
      "Bir şeyler ters gitti.\n",
      "ilk sayı :4\n",
      "ikinci sayı :2\n",
      "2.0\n"
     ]
    }
   ],
   "source": [
    "while True :\n",
    "    a = int(input(\"ilk sayı :\"))\n",
    "    b = int(input(\"ikinci sayı :\"))\n",
    "    \n",
    "    try:\n",
    "        c = a / b\n",
    "        print(c)\n",
    "        break\n",
    "    except :\n",
    "        print(\"Bir şeyler ters gitti.\")"
   ]
  },
  {
   "cell_type": "code",
   "execution_count": 14,
   "id": "9abd11b2",
   "metadata": {},
   "outputs": [
    {
     "name": "stdout",
     "output_type": "stream",
     "text": [
      "muhtemelen yanlış birşeyler yaptın.\n"
     ]
    }
   ],
   "source": [
    "try :\n",
    "    print(\"4\" + 4)\n",
    "except :\n",
    "    print(\"muhtemelen yanlış birşeyler yaptın.\")"
   ]
  },
  {
   "cell_type": "code",
   "execution_count": 15,
   "id": "e340bbda",
   "metadata": {},
   "outputs": [
    {
     "name": "stdout",
     "output_type": "stream",
     "text": [
      "44\n"
     ]
    }
   ],
   "source": [
    "try :\n",
    "    print(\"4\" + \"4\")\n",
    "except :\n",
    "    print(\"muhtemelen yanlış birşeyler yaptın.\")"
   ]
  },
  {
   "cell_type": "code",
   "execution_count": 17,
   "id": "39568503",
   "metadata": {},
   "outputs": [
    {
     "name": "stdout",
     "output_type": "stream",
     "text": [
      "ilk sayı :20\n",
      "ikinci sayı :4\n",
      "5.0\n"
     ]
    }
   ],
   "source": [
    "while True :\n",
    "    a = int(input(\"ilk sayı :\"))\n",
    "    b = int(input(\"ikinci sayı :\"))\n",
    "    \n",
    "    try:\n",
    "        c = a / b\n",
    "        print(c)\n",
    "        break\n",
    "    except ZeroDivisionError:\n",
    "        print(\"Sıfıra bölünememe kuralını hatırla. İkinci sayıyı sıfır girme lütfen.\")"
   ]
  },
  {
   "cell_type": "code",
   "execution_count": 19,
   "id": "44e8a8a2",
   "metadata": {},
   "outputs": [
    {
     "name": "stdout",
     "output_type": "stream",
     "text": [
      "Type hatası var. Tipi kontrol etsen iyi olur.\n",
      "Eh nihayet bana sıra geldi. Ben çalıştım.\n"
     ]
    }
   ],
   "source": [
    "try :\n",
    "    print(\"4\" + 4)\n",
    "except TypeError:\n",
    "    print(\"Type hatası var. Tipi kontrol etsen iyi olur.\")\n",
    "else :\n",
    "    print(\"Aaaa demek ki exception yükselmemiş. MMmm. Super.\")\n",
    "finally:\n",
    "    print(\"Eh nihayet bana sıra geldi. Ben çalıştım.\")"
   ]
  },
  {
   "cell_type": "code",
   "execution_count": 20,
   "id": "2c17b9d6",
   "metadata": {},
   "outputs": [
    {
     "name": "stdout",
     "output_type": "stream",
     "text": [
      "44\n",
      "Aaaa demek ki exception yükselmemiş. MMmm. Super.\n",
      "Eh nihayet bana sıra geldi. Ben çalıştım.\n"
     ]
    }
   ],
   "source": [
    "try :\n",
    "    print(\"4\" + \"4\")\n",
    "except TypeError:\n",
    "    print(\"Type hatası var. Tipi kontrol etsen iyi olur.\")\n",
    "else :\n",
    "    print(\"Aaaa demek ki exception yükselmemiş. MMmm. Super.\")\n",
    "finally:\n",
    "    print(\"Eh nihayet bana sıra geldi. Ben çalıştım.\")"
   ]
  },
  {
   "cell_type": "code",
   "execution_count": 21,
   "id": "b39a05cd",
   "metadata": {},
   "outputs": [
    {
     "name": "stdout",
     "output_type": "stream",
     "text": [
      "Eh nihayet bana sıra geldi. Ben çalıştım.\n"
     ]
    },
    {
     "ename": "TypeError",
     "evalue": "can only concatenate str (not \"int\") to str",
     "output_type": "error",
     "traceback": [
      "\u001b[1;31m-------------------------------------------------------------------------\u001b[0m",
      "\u001b[1;31mTypeError\u001b[0m                               Traceback (most recent call last)",
      "\u001b[1;32m<ipython-input-21-9d2de3020bc7>\u001b[0m in \u001b[0;36m<module>\u001b[1;34m\u001b[0m\n\u001b[0;32m      1\u001b[0m \u001b[1;32mtry\u001b[0m \u001b[1;33m:\u001b[0m\u001b[1;33m\u001b[0m\u001b[1;33m\u001b[0m\u001b[0m\n\u001b[1;32m----> 2\u001b[1;33m     \u001b[0mprint\u001b[0m\u001b[1;33m(\u001b[0m\u001b[1;34m\"4\"\u001b[0m \u001b[1;33m+\u001b[0m \u001b[1;36m4\u001b[0m\u001b[1;33m)\u001b[0m\u001b[1;33m\u001b[0m\u001b[1;33m\u001b[0m\u001b[0m\n\u001b[0m\u001b[0;32m      3\u001b[0m \u001b[1;32mexcept\u001b[0m \u001b[0mValueError\u001b[0m\u001b[1;33m:\u001b[0m\u001b[1;33m\u001b[0m\u001b[1;33m\u001b[0m\u001b[0m\n\u001b[0;32m      4\u001b[0m     \u001b[0mprint\u001b[0m\u001b[1;33m(\u001b[0m\u001b[1;34m\"Type hatası var. Tipi kontrol etsen iyi olur.\"\u001b[0m\u001b[1;33m)\u001b[0m\u001b[1;33m\u001b[0m\u001b[1;33m\u001b[0m\u001b[0m\n\u001b[0;32m      5\u001b[0m \u001b[1;32melse\u001b[0m \u001b[1;33m:\u001b[0m\u001b[1;33m\u001b[0m\u001b[1;33m\u001b[0m\u001b[0m\n",
      "\u001b[1;31mTypeError\u001b[0m: can only concatenate str (not \"int\") to str"
     ]
    }
   ],
   "source": [
    "try :\n",
    "    print(\"4\" + 4)\n",
    "except ValueError:\n",
    "    print(\"Type hatası var. Tipi kontrol etsen iyi olur.\")\n",
    "else :\n",
    "    print(\"Aaaa demek ki exception yükselmemiş. MMmm. Super.\")\n",
    "finally:\n",
    "    print(\"Eh nihayet bana sıra geldi. Ben çalıştım.\")"
   ]
  },
  {
   "cell_type": "code",
   "execution_count": 23,
   "id": "94b29de3",
   "metadata": {},
   "outputs": [
    {
     "name": "stdout",
     "output_type": "stream",
     "text": [
      "isminiz :emre\n",
      "20\n"
     ]
    }
   ],
   "source": [
    "try :\n",
    "    isim = input(\"isminiz :\")\n",
    "    print(a)\n",
    "except Exception as hatam :\n",
    "    print(hatam)\n",
    "    print(type(hatam))"
   ]
  },
  {
   "cell_type": "code",
   "execution_count": 24,
   "id": "71e000ac",
   "metadata": {},
   "outputs": [],
   "source": [
    "fruits = [\"banana\", \"mango\", \"pear\", \"apple\", \"kiwi\", \"grape\"]"
   ]
  },
  {
   "cell_type": "code",
   "execution_count": 26,
   "id": "1598a7a5",
   "metadata": {},
   "outputs": [
    {
     "name": "stdout",
     "output_type": "stream",
     "text": [
      "Favori meyve indexini girer misin? : 4\n",
      "Benim favori meyvem kiwi'dir.\n"
     ]
    }
   ],
   "source": [
    "while True :\n",
    "    \n",
    "    try :\n",
    "        index = int(input(\"Favori meyve indexini girer misin? : \"))\n",
    "        print(\"Benim favori meyvem {}'dir.\".format(fruits[index]))\n",
    "        break\n",
    "    \n",
    "    except IndexError :\n",
    "        print(\"Böyle bir index bulunmamaktadır. Lütfen doğru giriş yapınız.\")\n",
    "        \n",
    "    except ValueError :\n",
    "        print(\"Integer yani numeric bir değer giriniz. Tekrar deneyin.\")"
   ]
  },
  {
   "cell_type": "code",
   "execution_count": 27,
   "id": "872c0067",
   "metadata": {},
   "outputs": [
    {
     "name": "stdout",
     "output_type": "stream",
     "text": [
      "Favori meyve indexini girer misin? : 2\n",
      "Benim favori meyvem pear'dir.\n",
      "Tebrikler.. Doğru giriş yaptınız.\n",
      "Meyvelerim tazedir. Afiyet ossun.\n"
     ]
    }
   ],
   "source": [
    "count = 3\n",
    "\n",
    "while count > 0 :\n",
    "    \n",
    "    try :\n",
    "        index = int(input(\"Favori meyve indexini girer misin? : \"))\n",
    "        print(\"Benim favori meyvem {}'dir.\".format(fruits[index]))\n",
    "    \n",
    "    except IndexError :\n",
    "        count -= 1\n",
    "        print(f\"Böyle bir index bulunmamaktadır. {count} adet giriş hakkınız kaldı. Lütfen doğru giriş yapınız.\")\n",
    "        \n",
    "    except ValueError :\n",
    "        count -= 1\n",
    "        print(f\"Integer yani numeric bir değer giriniz. {count} adet giriş hakkınız kaldı. Tekrar deneyin.\")\n",
    "        \n",
    "    else :\n",
    "        print(\"Tebrikler.. Doğru giriş yaptınız.\")\n",
    "        break\n",
    "        \n",
    "    finally :\n",
    "        print(\"Meyvelerim tazedir. Afiyet ossun.\")"
   ]
  },
  {
   "cell_type": "code",
   "execution_count": null,
   "id": "a49a11c5",
   "metadata": {},
   "outputs": [],
   "source": []
  },
  {
   "cell_type": "code",
   "execution_count": null,
   "id": "8220ae67",
   "metadata": {},
   "outputs": [],
   "source": []
  }
 ],
 "metadata": {
  "kernelspec": {
   "display_name": "Python 3",
   "language": "python",
   "name": "python3"
  },
  "language_info": {
   "codemirror_mode": {
    "name": "ipython",
    "version": 3
   },
   "file_extension": ".py",
   "mimetype": "text/x-python",
   "name": "python",
   "nbconvert_exporter": "python",
   "pygments_lexer": "ipython3",
   "version": "3.8.8"
  }
 },
 "nbformat": 4,
 "nbformat_minor": 5
}
