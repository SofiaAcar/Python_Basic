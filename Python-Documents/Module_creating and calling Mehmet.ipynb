{
 "cells": [
  {
   "cell_type": "code",
   "execution_count": 9,
   "id": "a79c82e3",
   "metadata": {},
   "outputs": [
    {
     "data": {
      "text/plain": [
       "'C:\\\\Users\\\\Pc\\\\Documents\\\\Pythoncular\\\\Python-Derspaylasim'"
      ]
     },
     "execution_count": 9,
     "metadata": {},
     "output_type": "execute_result"
    }
   ],
   "source": [
    "pwd"
   ]
  },
  {
   "cell_type": "code",
   "execution_count": 10,
   "id": "dceafb31",
   "metadata": {},
   "outputs": [],
   "source": [
    "from paketler import paket1, paket2"
   ]
  },
  {
   "cell_type": "code",
   "execution_count": 11,
   "id": "51e669ca",
   "metadata": {},
   "outputs": [],
   "source": [
    "from paketler.paket1 import module1"
   ]
  },
  {
   "cell_type": "code",
   "execution_count": 12,
   "id": "dfcb3232",
   "metadata": {},
   "outputs": [
    {
     "data": {
      "text/plain": [
       "['__builtins__',\n",
       " '__cached__',\n",
       " '__doc__',\n",
       " '__file__',\n",
       " '__loader__',\n",
       " '__name__',\n",
       " '__package__',\n",
       " '__path__',\n",
       " '__spec__',\n",
       " 'module1']"
      ]
     },
     "execution_count": 12,
     "metadata": {},
     "output_type": "execute_result"
    }
   ],
   "source": [
    "dir(paket1)"
   ]
  },
  {
   "cell_type": "code",
   "execution_count": 13,
   "id": "5e649551",
   "metadata": {},
   "outputs": [],
   "source": [
    "from paketler.paket2 import module2"
   ]
  },
  {
   "cell_type": "code",
   "execution_count": 14,
   "id": "ab06febf",
   "metadata": {},
   "outputs": [
    {
     "data": {
      "text/plain": [
       "5.0"
      ]
     },
     "execution_count": 14,
     "metadata": {},
     "output_type": "execute_result"
    }
   ],
   "source": [
    "module2.divide(10,2)"
   ]
  },
  {
   "cell_type": "code",
   "execution_count": 15,
   "id": "3d2c7895",
   "metadata": {},
   "outputs": [
    {
     "name": "stdout",
     "output_type": "stream",
     "text": [
      "hello\n"
     ]
    }
   ],
   "source": [
    "module2.hello()"
   ]
  },
  {
   "cell_type": "code",
   "execution_count": 16,
   "id": "cde9f8ff",
   "metadata": {},
   "outputs": [
    {
     "data": {
      "text/plain": [
       "10"
      ]
     },
     "execution_count": 16,
     "metadata": {},
     "output_type": "execute_result"
    }
   ],
   "source": [
    "module1.addition(3,7)"
   ]
  },
  {
   "cell_type": "markdown",
   "id": "3fab1173",
   "metadata": {},
   "source": [
    "module1.multi(5,6)"
   ]
  }
 ],
 "metadata": {
  "kernelspec": {
   "display_name": "Python 3",
   "language": "python",
   "name": "python3"
  },
  "language_info": {
   "codemirror_mode": {
    "name": "ipython",
    "version": 3
   },
   "file_extension": ".py",
   "mimetype": "text/x-python",
   "name": "python",
   "nbconvert_exporter": "python",
   "pygments_lexer": "ipython3",
   "version": "3.8.8"
  }
 },
 "nbformat": 4,
 "nbformat_minor": 5
}
