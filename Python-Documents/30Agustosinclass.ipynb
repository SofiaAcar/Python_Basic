{
 "cells": [
  {
   "cell_type": "code",
   "execution_count": 4,
   "id": "889e954b",
   "metadata": {},
   "outputs": [
    {
     "name": "stdout",
     "output_type": "stream",
     "text": [
      "The first number please : 7\n",
      "The second number please : k\n"
     ]
    },
    {
     "ename": "ValueError",
     "evalue": "invalid literal for int() with base 10: 'k'",
     "output_type": "error",
     "traceback": [
      "\u001b[1;31m---------------------------------------------------------------------------\u001b[0m",
      "\u001b[1;31mValueError\u001b[0m                                Traceback (most recent call last)",
      "\u001b[1;32m<ipython-input-4-5fd297d1c219>\u001b[0m in \u001b[0;36m<module>\u001b[1;34m\u001b[0m\n\u001b[0;32m      1\u001b[0m \u001b[1;32mwhile\u001b[0m \u001b[1;32mTrue\u001b[0m\u001b[1;33m:\u001b[0m\u001b[1;33m\u001b[0m\u001b[1;33m\u001b[0m\u001b[0m\n\u001b[0;32m      2\u001b[0m     \u001b[0mno_one\u001b[0m \u001b[1;33m=\u001b[0m \u001b[0mint\u001b[0m\u001b[1;33m(\u001b[0m\u001b[0minput\u001b[0m\u001b[1;33m(\u001b[0m\u001b[1;34m\"The first number please : \"\u001b[0m\u001b[1;33m)\u001b[0m\u001b[1;33m)\u001b[0m\u001b[1;33m\u001b[0m\u001b[1;33m\u001b[0m\u001b[0m\n\u001b[1;32m----> 3\u001b[1;33m     \u001b[0mno_two\u001b[0m \u001b[1;33m=\u001b[0m \u001b[0mint\u001b[0m\u001b[1;33m(\u001b[0m\u001b[0minput\u001b[0m\u001b[1;33m(\u001b[0m\u001b[1;34m\"The second number please : \"\u001b[0m\u001b[1;33m)\u001b[0m\u001b[1;33m)\u001b[0m\u001b[1;33m\u001b[0m\u001b[1;33m\u001b[0m\u001b[0m\n\u001b[0m\u001b[0;32m      4\u001b[0m     \u001b[1;32mtry\u001b[0m\u001b[1;33m:\u001b[0m\u001b[1;33m\u001b[0m\u001b[1;33m\u001b[0m\u001b[0m\n\u001b[0;32m      5\u001b[0m         \u001b[0mdivision\u001b[0m \u001b[1;33m=\u001b[0m \u001b[0mno_one\u001b[0m \u001b[1;33m/\u001b[0m \u001b[0mno_two\u001b[0m  \u001b[1;31m# normal part of the program\u001b[0m\u001b[1;33m\u001b[0m\u001b[1;33m\u001b[0m\u001b[0m\n",
      "\u001b[1;31mValueError\u001b[0m: invalid literal for int() with base 10: 'k'"
     ]
    }
   ],
   "source": [
    "while True:\n",
    "    no_one = int(input(\"The first number please : \"))\n",
    "    no_two = int(input(\"The second number please : \"))\n",
    "    try:\n",
    "        division = no_one / no_two  # normal part of the program\n",
    "    except ZeroDivisionError:\n",
    "        print(\"You can't divide by zero! Try again.\")  # executes when division by zero\n",
    "    else:\n",
    "        print(\"The result of the division is : \", division)  # executes if there is no exception\n",
    "    finally:\n",
    "        print(\"Thanks for using our mini divison calculator! Come again!\")\n",
    "        break  # exits the while loop"
   ]
  },
  {
   "cell_type": "code",
   "execution_count": 5,
   "id": "22e96eca",
   "metadata": {},
   "outputs": [
    {
     "name": "stdout",
     "output_type": "stream",
     "text": [
      "The first number please : 7\n",
      "The second number please : k\n",
      "Thanks for using our mini divison calculator! Come again!\n"
     ]
    }
   ],
   "source": [
    "while True:\n",
    "\n",
    "    try:\n",
    "        no_one = int(input(\"The first number please : \"))\n",
    "        no_two = int(input(\"The second number please : \"))\n",
    "        division = no_one / no_two  # normal part of the program\n",
    "    except ZeroDivisionError:\n",
    "        print(\"You can't divide by zero! Try again.\")  # executes when division by zero\n",
    "    else:\n",
    "        print(\"The result of the division is : \", division)  # executes if there is no exception\n",
    "    finally:\n",
    "        print(\"Thanks for using our mini divison calculator! Come again!\")\n",
    "        break  # exits the while loop"
   ]
  },
  {
   "cell_type": "code",
   "execution_count": null,
   "id": "9d074872",
   "metadata": {},
   "outputs": [],
   "source": [
    "while True:\n",
    "\n",
    "    try:\n",
    "        no_one = int(input(\"The first number please : \"))\n",
    "        no_two = int(input(\"The second number please : \"))\n",
    "        division = no_one / no_two  # normal part of the program\n",
    "    except ZeroDivisionError:\n",
    "        print(\"You can't divide by zero! Try again.\")  # executes when division by zero\n",
    "    else:\n",
    "        print(\"The result of the division is : \", division)  # executes if there is no exception\n",
    "    finally:\n",
    "        print(\"Thanks for using our mini divison calculator! Come again!\")\n",
    "        break  # exits the while loop"
   ]
  },
  {
   "cell_type": "code",
   "execution_count": null,
   "id": "06ac8ea0",
   "metadata": {},
   "outputs": [],
   "source": [
    "while True:\n",
    "    no_one = int(input(\"The first number please : \"))\n",
    "    no_two = int(input(\"The second number please : \"))\n",
    "    try:\n",
    "        division = no_one / no_two\n",
    "        print(\"The result of the division is : \", division)\n",
    "        break\n",
    "    except Exception as firfir:\n",
    "        print(\"Something went wrong...Try again.\")\n",
    "        print(\"Probably it is because of '{}' error\".format(firfir))\n",
    "        break"
   ]
  },
  {
   "cell_type": "code",
   "execution_count": 8,
   "id": "0f76e553",
   "metadata": {},
   "outputs": [
    {
     "name": "stdout",
     "output_type": "stream",
     "text": [
      "Attempt to divide by zero\n"
     ]
    }
   ],
   "source": [
    "try:\n",
    "    x = 2/0\n",
    "except ZeroDivisionError:\n",
    "    print('Attempt to divide by zero')\n",
    "except:\n",
    "    print('Something else went wrong')"
   ]
  },
  {
   "cell_type": "code",
   "execution_count": 11,
   "id": "be49418d",
   "metadata": {},
   "outputs": [
    {
     "name": "stdout",
     "output_type": "stream",
     "text": [
      "Attempt to divide by zero\n"
     ]
    }
   ],
   "source": [
    "try:\n",
    "    x = 2/0\n",
    "except ZeroDivisionError:\n",
    "    print('Attempt to divide by zero')\n",
    "except:\n",
    "    print('Something else went wrong')"
   ]
  },
  {
   "cell_type": "code",
   "execution_count": null,
   "id": "dc1165b6",
   "metadata": {},
   "outputs": [],
   "source": [
    "fruits = [\"banana\", \"mango\", \"pear\", \"apple\", \"kiwi\", \"grape\"]"
   ]
  },
  {
   "cell_type": "code",
   "execution_count": 15,
   "id": "2d9a92f3",
   "metadata": {},
   "outputs": [
    {
     "name": "stdout",
     "output_type": "stream",
     "text": [
      "Favori meyve indexini girer misin? : 6\n",
      "Böyle bir index bulunmamaktadır. Lütfen doğru giriş yapınız.\n",
      "Favori meyve indexini girer misin? : \n",
      "Integer yani numeric bir değer giriniz. Tekrar deneyin.\n",
      "Favori meyve indexini girer misin? : 7\n",
      "Böyle bir index bulunmamaktadır. Lütfen doğru giriş yapınız.\n",
      "Favori meyve indexini girer misin? : 8\n",
      "Böyle bir index bulunmamaktadır. Lütfen doğru giriş yapınız.\n",
      "Favori meyve indexini girer misin? : 4\n",
      "Benim favori meyvem kiwi'dir.\n"
     ]
    }
   ],
   "source": [
    "while True :\n",
    "    \n",
    "    try :\n",
    "        index = int(input(\"Favori meyve indexini girer misin? : \"))\n",
    "        print(\"Benim favori meyvem {}'dir.\".format(fruits[index]))\n",
    "        break\n",
    "    \n",
    "    except IndexError :\n",
    "        print(\"Böyle bir index bulunmamaktadır. Lütfen doğru giriş yapınız.\")\n",
    "        \n",
    "    except ValueError :\n",
    "        print(\"Integer yani numeric bir değer giriniz. Tekrar deneyin.\")"
   ]
  },
  {
   "cell_type": "code",
   "execution_count": 16,
   "id": "bfb1ff15",
   "metadata": {},
   "outputs": [
    {
     "name": "stdout",
     "output_type": "stream",
     "text": [
      "Please enter your favourite fruit index number:8\n",
      "There is no such an index. Try again\n",
      "Please enter your favourite fruit index number:bes\n",
      "You should enter integer. Try again!\n",
      "Please enter your favourite fruit index number:5\n",
      "Your favourite fruit is :  grape\n"
     ]
    }
   ],
   "source": [
    "while True:\n",
    "    try:\n",
    "        index= int(input(\"Please enter your favourite fruit index number:\"))\n",
    "        print(\"Your favourite fruit is : \", fruits[index])\n",
    "        break        \n",
    "    except IndexError :\n",
    "        print(\"There is no such an index. Try again\")\n",
    "    except ValueError :\n",
    "        print(\"You should enter integer. Try again!\")\n",
    "    "
   ]
  },
  {
   "cell_type": "code",
   "execution_count": 18,
   "id": "eddb73a7",
   "metadata": {},
   "outputs": [
    {
     "name": "stdout",
     "output_type": "stream",
     "text": [
      "Please enter your favourite fruit index number:66\n",
      "There is no such an index. You have 2 tries remaining. Try again\n",
      "Our fruits are always fresh. Bon apetite!\n",
      "Please enter your favourite fruit index number:iki\n",
      "You should enter integer. You have 1 tries remaining. Try again\n",
      "Our fruits are always fresh. Bon apetite!\n",
      "Our fruits are always fresh. Bon apetite!\n"
     ]
    },
    {
     "ename": "KeyboardInterrupt",
     "evalue": "Interrupted by user",
     "output_type": "error",
     "traceback": [
      "\u001b[1;31m---------------------------------------------------------------------------\u001b[0m",
      "\u001b[1;31mKeyboardInterrupt\u001b[0m                         Traceback (most recent call last)",
      "\u001b[1;32m<ipython-input-18-ba67bc4a2ccd>\u001b[0m in \u001b[0;36m<module>\u001b[1;34m\u001b[0m\n\u001b[0;32m      3\u001b[0m \u001b[1;33m\u001b[0m\u001b[0m\n\u001b[0;32m      4\u001b[0m     \u001b[1;32mtry\u001b[0m\u001b[1;33m:\u001b[0m\u001b[1;33m\u001b[0m\u001b[1;33m\u001b[0m\u001b[0m\n\u001b[1;32m----> 5\u001b[1;33m         \u001b[0mindex\u001b[0m\u001b[1;33m=\u001b[0m \u001b[0mint\u001b[0m\u001b[1;33m(\u001b[0m\u001b[0minput\u001b[0m\u001b[1;33m(\u001b[0m\u001b[1;34m\"Please enter your favourite fruit index number:\"\u001b[0m\u001b[1;33m)\u001b[0m\u001b[1;33m)\u001b[0m\u001b[1;33m\u001b[0m\u001b[1;33m\u001b[0m\u001b[0m\n\u001b[0m\u001b[0;32m      6\u001b[0m         \u001b[0mprint\u001b[0m\u001b[1;33m(\u001b[0m\u001b[1;34m\"Your favourite fruit is : \"\u001b[0m\u001b[1;33m,\u001b[0m \u001b[0mfruits\u001b[0m\u001b[1;33m[\u001b[0m\u001b[0mindex\u001b[0m\u001b[1;33m]\u001b[0m\u001b[1;33m)\u001b[0m\u001b[1;33m\u001b[0m\u001b[1;33m\u001b[0m\u001b[0m\n\u001b[0;32m      7\u001b[0m         \u001b[1;32mbreak\u001b[0m\u001b[1;33m\u001b[0m\u001b[1;33m\u001b[0m\u001b[0m\n",
      "\u001b[1;32m~\\Anaconda3\\lib\\site-packages\\ipykernel\\kernelbase.py\u001b[0m in \u001b[0;36mraw_input\u001b[1;34m(self, prompt)\u001b[0m\n\u001b[0;32m    858\u001b[0m                 \u001b[1;34m\"raw_input was called, but this frontend does not support input requests.\"\u001b[0m\u001b[1;33m\u001b[0m\u001b[1;33m\u001b[0m\u001b[0m\n\u001b[0;32m    859\u001b[0m             )\n\u001b[1;32m--> 860\u001b[1;33m         return self._input_request(str(prompt),\n\u001b[0m\u001b[0;32m    861\u001b[0m             \u001b[0mself\u001b[0m\u001b[1;33m.\u001b[0m\u001b[0m_parent_ident\u001b[0m\u001b[1;33m,\u001b[0m\u001b[1;33m\u001b[0m\u001b[1;33m\u001b[0m\u001b[0m\n\u001b[0;32m    862\u001b[0m             \u001b[0mself\u001b[0m\u001b[1;33m.\u001b[0m\u001b[0m_parent_header\u001b[0m\u001b[1;33m,\u001b[0m\u001b[1;33m\u001b[0m\u001b[1;33m\u001b[0m\u001b[0m\n",
      "\u001b[1;32m~\\Anaconda3\\lib\\site-packages\\ipykernel\\kernelbase.py\u001b[0m in \u001b[0;36m_input_request\u001b[1;34m(self, prompt, ident, parent, password)\u001b[0m\n\u001b[0;32m    902\u001b[0m             \u001b[1;32mexcept\u001b[0m \u001b[0mKeyboardInterrupt\u001b[0m\u001b[1;33m:\u001b[0m\u001b[1;33m\u001b[0m\u001b[1;33m\u001b[0m\u001b[0m\n\u001b[0;32m    903\u001b[0m                 \u001b[1;31m# re-raise KeyboardInterrupt, to truncate traceback\u001b[0m\u001b[1;33m\u001b[0m\u001b[1;33m\u001b[0m\u001b[1;33m\u001b[0m\u001b[0m\n\u001b[1;32m--> 904\u001b[1;33m                 \u001b[1;32mraise\u001b[0m \u001b[0mKeyboardInterrupt\u001b[0m\u001b[1;33m(\u001b[0m\u001b[1;34m\"Interrupted by user\"\u001b[0m\u001b[1;33m)\u001b[0m \u001b[1;32mfrom\u001b[0m \u001b[1;32mNone\u001b[0m\u001b[1;33m\u001b[0m\u001b[1;33m\u001b[0m\u001b[0m\n\u001b[0m\u001b[0;32m    905\u001b[0m             \u001b[1;32mexcept\u001b[0m \u001b[0mException\u001b[0m \u001b[1;32mas\u001b[0m \u001b[0me\u001b[0m\u001b[1;33m:\u001b[0m\u001b[1;33m\u001b[0m\u001b[1;33m\u001b[0m\u001b[0m\n\u001b[0;32m    906\u001b[0m                 \u001b[0mself\u001b[0m\u001b[1;33m.\u001b[0m\u001b[0mlog\u001b[0m\u001b[1;33m.\u001b[0m\u001b[0mwarning\u001b[0m\u001b[1;33m(\u001b[0m\u001b[1;34m\"Invalid Message:\"\u001b[0m\u001b[1;33m,\u001b[0m \u001b[0mexc_info\u001b[0m\u001b[1;33m=\u001b[0m\u001b[1;32mTrue\u001b[0m\u001b[1;33m)\u001b[0m\u001b[1;33m\u001b[0m\u001b[1;33m\u001b[0m\u001b[0m\n",
      "\u001b[1;31mKeyboardInterrupt\u001b[0m: Interrupted by user"
     ]
    }
   ],
   "source": [
    "count = 3\n",
    "while count > 0:\n",
    "    \n",
    "    try:\n",
    "        index= int(input(\"Please enter your favourite fruit index number:\"))\n",
    "        print(\"Your favourite fruit is : \", fruits[index])\n",
    "        break        \n",
    "    except IndexError :\n",
    "        count -=1\n",
    "        print(f\"There is no such an index. You have {count} tries remaining. Try again\")\n",
    "    except ValueError :\n",
    "        count -=1\n",
    "        print(f\"You should enter integer. You have {count} tries remaining. Try again\")\n",
    "    else:\n",
    "        print(\"Congrats! You have entered a valid input.\")\n",
    "        break\n",
    "    finally:\n",
    "        print(\"Our fruits are always fresh. Bon apetite!\")"
   ]
  },
  {
   "cell_type": "code",
   "execution_count": null,
   "id": "25956055",
   "metadata": {},
   "outputs": [],
   "source": [
    "count = 3\n",
    "\n",
    "while count > 0 :\n",
    "    \n",
    "    try :\n",
    "        index = int(input(\"Favori meyve indexini girer misin? : \"))\n",
    "        print(\"Benim favori meyvem {}'dir.\".format(fruits[index]))\n",
    "    \n",
    "    except IndexError :\n",
    "        count -= 1\n",
    "        print(f\"Böyle bir index bulunmamaktadır. {count} adet giriş hakkınız kaldı. Lütfen doğru giriş yapınız.\")\n",
    "        \n",
    "    except ValueError :\n",
    "        count -= 1\n",
    "        print(f\"Integer yani numeric bir değer giriniz. {count} adet giriş hakkınız kaldı. Tekrar deneyin.\")\n",
    "        \n",
    "    else :\n",
    "        print(\"Tebrikler.. Doğru giriş yaptınız.\")\n",
    "        break\n",
    "        \n",
    "    finally :\n",
    "        print(\"Meyvelerim tazedir. Afiyet ossun.\")"
   ]
  },
  {
   "cell_type": "code",
   "execution_count": null,
   "id": "00193d9e",
   "metadata": {},
   "outputs": [],
   "source": [
    "import shutil\n",
    "#shutil "
   ]
  },
  {
   "cell_type": "code",
   "execution_count": 20,
   "id": "9b12e870",
   "metadata": {},
   "outputs": [
    {
     "name": "stdout",
     "output_type": "stream",
     "text": [
      "Orca is a kind of Dolphin.\n",
      "Blue Whale is the largest animal known on earth.\n",
      "Sharks are the sister group to the Rays (batoids).\n",
      "The Tuna Fish can weigh up to 260 kg.\n",
      "Squid and Octopus are in the same class.\n"
     ]
    }
   ],
   "source": [
    "file = open(\"fishes.txt\", \"r\")\n",
    "print(file.read())\n",
    "file.close()"
   ]
  },
  {
   "cell_type": "code",
   "execution_count": 19,
   "id": "173e52b5",
   "metadata": {},
   "outputs": [
    {
     "data": {
      "text/plain": [
       "'C:\\\\Users\\\\hazel\\\\Documents\\\\Pythoncular\\\\Python-Documents'"
      ]
     },
     "execution_count": 19,
     "metadata": {},
     "output_type": "execute_result"
    }
   ],
   "source": [
    "pwd"
   ]
  },
  {
   "cell_type": "code",
   "execution_count": 23,
   "id": "07afee89",
   "metadata": {},
   "outputs": [],
   "source": [
    "file = open(\"fishes.txt\", \"r\")\n",
    "content = file.read()\n",
    "file.close()"
   ]
  },
  {
   "cell_type": "code",
   "execution_count": 24,
   "id": "ff359fb0",
   "metadata": {},
   "outputs": [
    {
     "data": {
      "text/plain": [
       "'Orca is a kind of Dolphin.\\nBlue Whale is the largest animal known on earth.\\nSharks are the sister group to the Rays (batoids).\\nThe Tuna Fish can weigh up to 260 kg.\\nSquid and Octopus are in the same class.'"
      ]
     },
     "execution_count": 24,
     "metadata": {},
     "output_type": "execute_result"
    }
   ],
   "source": [
    "content"
   ]
  },
  {
   "cell_type": "code",
   "execution_count": 25,
   "id": "5cf94f79",
   "metadata": {},
   "outputs": [
    {
     "data": {
      "text/plain": [
       "205"
      ]
     },
     "execution_count": 25,
     "metadata": {},
     "output_type": "execute_result"
    }
   ],
   "source": [
    "len(content)"
   ]
  },
  {
   "cell_type": "code",
   "execution_count": 26,
   "id": "ed84281e",
   "metadata": {},
   "outputs": [
    {
     "data": {
      "text/plain": [
       "'Orca is a kind of Dolphin.\\nBlue W'"
      ]
     },
     "execution_count": 26,
     "metadata": {},
     "output_type": "execute_result"
    }
   ],
   "source": [
    "content[:33]"
   ]
  },
  {
   "cell_type": "code",
   "execution_count": 27,
   "id": "e16bcf7d",
   "metadata": {},
   "outputs": [
    {
     "name": "stdout",
     "output_type": "stream",
     "text": [
      "Orca is a kind of Dolphin.\n",
      "Blue W\n",
      "hale is the largest animal known \n"
     ]
    }
   ],
   "source": [
    "file = open(\"fishes.txt\", \"r\")\n",
    "print(file.read(33))\n",
    "print(file.read(33))\n",
    "\n",
    "\n",
    "file.close()"
   ]
  },
  {
   "cell_type": "code",
   "execution_count": 28,
   "id": "3d337654",
   "metadata": {},
   "outputs": [
    {
     "name": "stdout",
     "output_type": "stream",
     "text": [
      "Orca is a kind of Dolphin.\n",
      "Blue W\n",
      "hale is the largest animal known \n",
      "Orca is a kind of Dolphin.\n",
      "Blue W\n"
     ]
    }
   ],
   "source": [
    "file = open(\"fishes.txt\", \"r\")\n",
    "print(file.read(33))\n",
    "print(file.read(33))\n",
    "file.seek(0)\n",
    "print(file.read(33))\n",
    "file.close()"
   ]
  },
  {
   "cell_type": "code",
   "execution_count": 29,
   "id": "3bd4e178",
   "metadata": {},
   "outputs": [
    {
     "name": "stdout",
     "output_type": "stream",
     "text": [
      "Orca is a kind of Dolphin.\n",
      "Blue W\n",
      "hale is the lar\n",
      "Orca is a kind of Dolphin.\n",
      "26\n"
     ]
    }
   ],
   "source": [
    "file = open(\"fishes.txt\", \"r\")\n",
    "print(file.read(33))\n",
    "print(file.read(15))\n",
    "file.seek(0)\n",
    "print(file.read(26))\n",
    "print(file.tell())\n",
    "file.close()"
   ]
  },
  {
   "cell_type": "code",
   "execution_count": 31,
   "id": "64775f0e",
   "metadata": {},
   "outputs": [
    {
     "name": "stdout",
     "output_type": "stream",
     "text": [
      "I want to sign\n",
      "Like a birds sing,\n",
      "N\n",
      "ot worry about\n",
      "W\n",
      "15\n",
      "Like a birds sing,\n",
      "\n"
     ]
    }
   ],
   "source": [
    "rumi = open(\"rumi.txt\", \"r\")\n",
    "print(rumi.read(35))\n",
    "print(rumi.read(16))\n",
    "rumi.tell()\n",
    "print(rumi.seek(15))\n",
    "print(rumi.read(19))\n",
    "rumi.close()"
   ]
  },
  {
   "cell_type": "code",
   "execution_count": 32,
   "id": "202d1a8e",
   "metadata": {},
   "outputs": [
    {
     "name": "stdout",
     "output_type": "stream",
     "text": [
      "Orca is a kin\n",
      "d of Dolphin.\n",
      "\n",
      "\n",
      "Blue Whale is\n"
     ]
    }
   ],
   "source": [
    "sea = open(\"fishes.txt\", 'r')   \n",
    "\n",
    "print(sea.readline(13))\n",
    "print(sea.readline(13))\n",
    "print(sea.readline(13))\n",
    "print(sea.readline(13))\n",
    "\n",
    "sea.close()"
   ]
  },
  {
   "cell_type": "code",
   "execution_count": 33,
   "id": "71db4c14",
   "metadata": {},
   "outputs": [],
   "source": [
    "sea = open(\"fishes.txt\", 'r')   \n",
    "\n",
    "part_1 = sea.readline(13)\n",
    "part_2 = sea.readline(13)\n",
    "part_3 = sea.readline(13)\n",
    "part_4 = sea.readline(13)\n",
    "\n",
    "sea.close()"
   ]
  },
  {
   "cell_type": "code",
   "execution_count": 34,
   "id": "0c2c4908",
   "metadata": {},
   "outputs": [
    {
     "data": {
      "text/plain": [
       "'\\n'"
      ]
     },
     "execution_count": 34,
     "metadata": {},
     "output_type": "execute_result"
    }
   ],
   "source": [
    "part_3"
   ]
  },
  {
   "cell_type": "code",
   "execution_count": 35,
   "id": "0782d83a",
   "metadata": {},
   "outputs": [
    {
     "data": {
      "text/plain": [
       "'d of Dolphin.'"
      ]
     },
     "execution_count": 35,
     "metadata": {},
     "output_type": "execute_result"
    }
   ],
   "source": [
    "part_2"
   ]
  },
  {
   "cell_type": "code",
   "execution_count": 36,
   "id": "ed47f1f7",
   "metadata": {},
   "outputs": [
    {
     "data": {
      "text/plain": [
       "'Orca is a kin'"
      ]
     },
     "execution_count": 36,
     "metadata": {},
     "output_type": "execute_result"
    }
   ],
   "source": [
    "part_1"
   ]
  },
  {
   "cell_type": "code",
   "execution_count": 37,
   "id": "620f7a75",
   "metadata": {},
   "outputs": [
    {
     "data": {
      "text/plain": [
       "'Orca is a kind of Dolphin.\\n'"
      ]
     },
     "execution_count": 37,
     "metadata": {},
     "output_type": "execute_result"
    }
   ],
   "source": [
    "first_line = part_1 + part_2 + part_3\n",
    "first_line"
   ]
  },
  {
   "cell_type": "code",
   "execution_count": 38,
   "id": "7127c8e6",
   "metadata": {},
   "outputs": [
    {
     "name": "stdout",
     "output_type": "stream",
     "text": [
      "I want to sign\n",
      "\n",
      "Like a birds sing,\n",
      "\n",
      "Not worry about\n",
      "\n"
     ]
    }
   ],
   "source": [
    "rumi = open(\"rumi.txt\", \"r\")\n",
    "print(rumi.readline())\n",
    "print(rumi.readline())\n",
    "print(rumi.readline(19))\n",
    "\n",
    "rumi.close()"
   ]
  },
  {
   "cell_type": "code",
   "execution_count": null,
   "id": "56468931",
   "metadata": {},
   "outputs": [],
   "source": []
  },
  {
   "cell_type": "code",
   "execution_count": null,
   "id": "c0495a9b",
   "metadata": {},
   "outputs": [],
   "source": []
  },
  {
   "cell_type": "code",
   "execution_count": null,
   "id": "454e62bf",
   "metadata": {},
   "outputs": [],
   "source": []
  },
  {
   "cell_type": "code",
   "execution_count": null,
   "id": "227529c7",
   "metadata": {},
   "outputs": [],
   "source": []
  }
 ],
 "metadata": {
  "kernelspec": {
   "display_name": "Python 3",
   "language": "python",
   "name": "python3"
  },
  "language_info": {
   "codemirror_mode": {
    "name": "ipython",
    "version": 3
   },
   "file_extension": ".py",
   "mimetype": "text/x-python",
   "name": "python",
   "nbconvert_exporter": "python",
   "pygments_lexer": "ipython3",
   "version": "3.8.8"
  }
 },
 "nbformat": 4,
 "nbformat_minor": 5
}
