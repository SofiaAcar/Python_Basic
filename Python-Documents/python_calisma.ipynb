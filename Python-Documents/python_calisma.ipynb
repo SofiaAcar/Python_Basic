{
 "cells": [
  {
   "cell_type": "code",
   "execution_count": 1,
   "id": "1567e792",
   "metadata": {},
   "outputs": [
    {
     "data": {
      "text/plain": [
       "'C:\\\\Users\\\\Pc\\\\Documents\\\\Pythoncular\\\\Python-Documents'"
      ]
     },
     "execution_count": 1,
     "metadata": {},
     "output_type": "execute_result"
    }
   ],
   "source": [
    "pwd"
   ]
  },
  {
   "cell_type": "code",
   "execution_count": 2,
   "id": "985989fb",
   "metadata": {},
   "outputs": [
    {
     "name": "stdout",
     "output_type": "stream",
     "text": [
      "<class '_io.TextIOWrapper'>\n"
     ]
    }
   ],
   "source": [
    "my_file = open(\"first_file.txt\", \"w\")\n",
    "print(type(my_file))"
   ]
  },
  {
   "cell_type": "code",
   "execution_count": 3,
   "id": "21a6b784",
   "metadata": {},
   "outputs": [],
   "source": [
    "my_file.close()"
   ]
  },
  {
   "cell_type": "code",
   "execution_count": 4,
   "id": "7f462c31",
   "metadata": {},
   "outputs": [
    {
     "name": "stdout",
     "output_type": "stream",
     "text": [
      "My print\n"
     ]
    }
   ],
   "source": [
    "my_print =print(\"My print\")"
   ]
  },
  {
   "cell_type": "code",
   "execution_count": 5,
   "id": "a62c9929",
   "metadata": {},
   "outputs": [
    {
     "data": {
      "text/plain": [
       "NoneType"
      ]
     },
     "execution_count": 5,
     "metadata": {},
     "output_type": "execute_result"
    }
   ],
   "source": [
    "type(my_print)"
   ]
  },
  {
   "cell_type": "code",
   "execution_count": 1,
   "id": "c0647ff0",
   "metadata": {},
   "outputs": [
    {
     "name": "stdout",
     "output_type": "stream",
     "text": [
      "Orca is a kind of Dolphin.\n",
      "Blue Whale is the largest animal known on earth.\n",
      "Sharks are the sister group to the Rays (batoids).\n",
      "The Tuna Fish can weigh up to 260 kg.\n",
      "Squid and Octopus are in the same class.\n"
     ]
    }
   ],
   "source": [
    "sea = open(\"C:/Users/Pc/Documents/Pythoncular/Python-Documents/fishes.txt\", \"r\")\n",
    "print(sea.read())\n",
    "\n",
    "sea.close()"
   ]
  },
  {
   "cell_type": "code",
   "execution_count": 8,
   "id": "980dbc14",
   "metadata": {},
   "outputs": [
    {
     "name": "stdout",
     "output_type": "stream",
     "text": [
      "Orca is a kind of Dolphin.\n",
      "Blue W\n",
      "hale is the largest anima\n",
      "Orca is a kind of Dolphin.\n",
      "Blue Whale is the largest animal known\n",
      "65\n"
     ]
    }
   ],
   "source": [
    "sea = open(\"C:/Users/Pc/Documents/Pythoncular/Python-Documents/fishes.txt\", \"r\")\n",
    "print(sea.read(33))\n",
    "print(sea.read(25))\n",
    "sea.seek(0)\n",
    "print(sea.read(65))\n",
    "print(sea.tell())\n",
    "sea.close()"
   ]
  },
  {
   "cell_type": "code",
   "execution_count": 35,
   "id": "1b571d6b",
   "metadata": {},
   "outputs": [
    {
     "name": "stdout",
     "output_type": "stream",
     "text": [
      "I want to sign\n",
      "Like a birds sing,\n",
      "Not worry about\n",
      "Who ears or \n",
      "That they think.\n"
     ]
    }
   ],
   "source": [
    "rumi = open(\"rumi.txt\", \"r\")\n",
    "print(rumi.read())"
   ]
  },
  {
   "cell_type": "code",
   "execution_count": 10,
   "id": "2c24a82f",
   "metadata": {},
   "outputs": [
    {
     "data": {
      "text/plain": [
       "33"
      ]
     },
     "execution_count": 10,
     "metadata": {},
     "output_type": "execute_result"
    }
   ],
   "source": [
    "len('''I want to sign\n",
    "Like a birds sing,''')"
   ]
  },
  {
   "cell_type": "code",
   "execution_count": 16,
   "id": "d6e0dd44",
   "metadata": {},
   "outputs": [
    {
     "name": "stdout",
     "output_type": "stream",
     "text": [
      "I want to sign\n",
      "Like a birds sing,\n"
     ]
    }
   ],
   "source": [
    "rumi = open(\"rumi.txt\", \"r\")\n",
    "print(rumi.read(33))"
   ]
  },
  {
   "cell_type": "code",
   "execution_count": 17,
   "id": "4604ba29",
   "metadata": {},
   "outputs": [
    {
     "name": "stdout",
     "output_type": "stream",
     "text": [
      "\n",
      "Not worry about\n"
     ]
    }
   ],
   "source": [
    "print(rumi.read(16))"
   ]
  },
  {
   "cell_type": "code",
   "execution_count": 18,
   "id": "ef805558",
   "metadata": {},
   "outputs": [
    {
     "data": {
      "text/plain": [
       "49"
      ]
     },
     "execution_count": 18,
     "metadata": {},
     "output_type": "execute_result"
    }
   ],
   "source": [
    "rumi.tell()"
   ]
  },
  {
   "cell_type": "code",
   "execution_count": 20,
   "id": "cc786bc2",
   "metadata": {},
   "outputs": [
    {
     "name": "stdout",
     "output_type": "stream",
     "text": [
      "Like a birds sing,\n",
      "\n"
     ]
    }
   ],
   "source": [
    "rumi.seek(15)\n",
    "print(rumi.read(19))"
   ]
  },
  {
   "cell_type": "code",
   "execution_count": 21,
   "id": "1f7b6f86",
   "metadata": {},
   "outputs": [],
   "source": [
    "rumi.close()"
   ]
  },
  {
   "cell_type": "code",
   "execution_count": 28,
   "id": "b6de5f9d",
   "metadata": {},
   "outputs": [
    {
     "name": "stdout",
     "output_type": "stream",
     "text": [
      "Orca is a kind of Dolphin.\n",
      "\n",
      "Blue Whale is the largest animal known on earth.\n",
      "\n",
      "Sharks are the sister group to the Rays (batoids).\n",
      "\n",
      "The Tuna Fish can weigh up to 260 kg.\n",
      "\n",
      "Squid and Octopus are in the same class.\n",
      "[]\n",
      "<class 'list'>\n"
     ]
    }
   ],
   "source": [
    "sea = open(\"fishes.txt\", \"r\")\n",
    "print(sea.readline())\n",
    "print(sea.readline())\n",
    "print(sea.readline())\n",
    "print(sea.readline())\n",
    "print(sea.readline())\n",
    "print(sea.readlines())\n",
    "print(type(sea.readlines()))\n",
    "sea.close()"
   ]
  },
  {
   "cell_type": "code",
   "execution_count": 30,
   "id": "21e7818c",
   "metadata": {},
   "outputs": [
    {
     "name": "stdout",
     "output_type": "stream",
     "text": [
      "The Tuna Fish can weigh up to 260 kg.\n",
      "\n"
     ]
    }
   ],
   "source": [
    "sea2 = open(\"fishes.txt\", \"r\")\n",
    "print(sea2.readlines()[3])\n",
    "sea.close()"
   ]
  },
  {
   "cell_type": "code",
   "execution_count": 31,
   "id": "4ba6b89e",
   "metadata": {},
   "outputs": [
    {
     "data": {
      "text/plain": [
       "'Orca is a kind of Dolphin.\\n'"
      ]
     },
     "execution_count": 31,
     "metadata": {},
     "output_type": "execute_result"
    }
   ],
   "source": [
    "sea = open(\"fishes.txt\", \"r\")\n",
    "first_line = sea.readline()\n",
    "first_line.strip(\".\")"
   ]
  },
  {
   "cell_type": "code",
   "execution_count": 33,
   "id": "8bc09b69",
   "metadata": {},
   "outputs": [
    {
     "name": "stdout",
     "output_type": "stream",
     "text": [
      "Orca is a kind of Dolphin.\n",
      "\n",
      "Blue Whale is the largest animal known on earth.\n",
      "\n",
      "Sharks are the sister group to the Rays (batoids).\n",
      "\n",
      "The Tuna Fish can weigh up to 260 kg.\n",
      "\n",
      "Squid and Octopus are in the same class.\n"
     ]
    }
   ],
   "source": [
    "sea = open(\"fishes.txt\", \"r\")\n",
    "for line in sea:\n",
    "    print(line)\n",
    "sea.close()"
   ]
  },
  {
   "cell_type": "code",
   "execution_count": null,
   "id": "f32d7f5a",
   "metadata": {},
   "outputs": [],
   "source": [
    "sea = open(\"fishes.txt\", \"r\")\n",
    "for line in sea.readlines():\n",
    "    print(line)\n",
    "sea.close()"
   ]
  },
  {
   "cell_type": "code",
   "execution_count": 36,
   "id": "cea1f19b",
   "metadata": {},
   "outputs": [
    {
     "name": "stdout",
     "output_type": "stream",
     "text": [
      "I want to sign\n",
      "\n",
      "Like a birds sing,\n",
      "\n",
      "Not worry about\n",
      "\n",
      "Who ears or \n",
      "\n",
      "That they think.\n"
     ]
    }
   ],
   "source": [
    "rumi = open(\"rumi.txt\", \"r\")\n",
    "\n",
    "\n",
    "for line in rumi:\n",
    "    print(line)\n",
    "\n",
    "rumi.close()"
   ]
  },
  {
   "cell_type": "code",
   "execution_count": 37,
   "id": "e95c3e9a",
   "metadata": {},
   "outputs": [
    {
     "name": "stdout",
     "output_type": "stream",
     "text": [
      "I want to sign\n",
      "\n",
      "Like a birds sing,\n",
      "\n",
      "Not worry about\n",
      "\n",
      "Who ears or \n",
      "\n",
      "That they think.\n"
     ]
    }
   ],
   "source": [
    "rumi = open(\"rumi.txt\", \"r\")\n",
    "\n",
    "\n",
    "for line in rumi.readlines():\n",
    "    print(line)\n",
    "\n",
    "rumi.close()"
   ]
  },
  {
   "cell_type": "code",
   "execution_count": 38,
   "id": "8d13f134",
   "metadata": {},
   "outputs": [
    {
     "name": "stdout",
     "output_type": "stream",
     "text": [
      "Orca is a kind of Dolphin.\n",
      "Blue Whale is the largest animal known on earth.\n",
      "Sharks are the sister group to the Rays (batoids).\n",
      "The Tuna Fish can weigh up to 260 kg.\n",
      "Squid and Octopus are in the same class.\n"
     ]
    }
   ],
   "source": [
    "with open('C:\\\\Users\\\\Pc\\\\Documents\\\\Pythoncular\\\\Python-Documents\\\\fishes.txt', \"r\") as sea :\n",
    "    print(sea.read())"
   ]
  },
  {
   "cell_type": "code",
   "execution_count": 39,
   "id": "22dbf79a",
   "metadata": {},
   "outputs": [
    {
     "name": "stdout",
     "output_type": "stream",
     "text": [
      "Orca is a kind of Dolphin.\n",
      "\n",
      "Blue Whale is the largest animal known on earth.\n",
      "\n",
      "Sharks are the sister group to the Rays (batoids).\n",
      "\n",
      "The Tuna Fish can weigh up to 260 kg.\n",
      "\n",
      "Squid and Octopus are in the same class.\n"
     ]
    }
   ],
   "source": [
    "with open('fishes.txt', \"r\") as sea :\n",
    "    for line in sea:\n",
    "        print(line)"
   ]
  },
  {
   "cell_type": "code",
   "execution_count": 41,
   "id": "bfffb2ce",
   "metadata": {},
   "outputs": [],
   "source": [
    "with open(\"benim_ilk_dosyam.txt\", \"w\", encoding = \"utf-8\") as dosyam :\n",
    "    dosyam.write(\"bu benim ilk satırım.\")"
   ]
  },
  {
   "cell_type": "code",
   "execution_count": 42,
   "id": "be05c857",
   "metadata": {},
   "outputs": [
    {
     "name": "stdout",
     "output_type": "stream",
     "text": [
      "bu benim ilk satırım.\n"
     ]
    }
   ],
   "source": [
    "with open(\"benim_ilk_dosyam.txt\", \"r\", encoding = \"utf-8\") as dosyam :\n",
    "    print(dosyam.read())"
   ]
  },
  {
   "cell_type": "code",
   "execution_count": 43,
   "id": "c353d2b6",
   "metadata": {},
   "outputs": [],
   "source": [
    "with open(\"benim_ilk_dosyam.txt\", \"w\", encoding = \"utf-8\") as dosyam :\n",
    "    dosyam.write(\"bu benim ilk satırım. amma aslında ikinci satırım.\\n\")"
   ]
  },
  {
   "cell_type": "code",
   "execution_count": 44,
   "id": "0e41ac03",
   "metadata": {},
   "outputs": [],
   "source": [
    "with open(\"benim_ilk_dosyam.txt\", \"w\", encoding = \"utf-8\") as dosyam :\n",
    "    dosyam.write(\"bu benim ilk satırım.\\namma aslında ikinci satırım.\\nBu da benim üçüncü satırım.\")"
   ]
  },
  {
   "cell_type": "code",
   "execution_count": 45,
   "id": "1161c6d3",
   "metadata": {},
   "outputs": [
    {
     "name": "stdout",
     "output_type": "stream",
     "text": [
      "bu benim ilk satırım.\n",
      "amma aslında ikinci satırım.\n",
      "Bu da benim üçüncü satırım.\n"
     ]
    }
   ],
   "source": [
    "with open(\"benim_ilk_dosyam.txt\", \"r\", encoding = \"utf-8\") as dosyam :\n",
    "    print(dosyam.read())"
   ]
  },
  {
   "cell_type": "code",
   "execution_count": 49,
   "id": "ea7755cd",
   "metadata": {},
   "outputs": [
    {
     "name": "stdout",
     "output_type": "stream",
     "text": [
      "1- my first sentence\n",
      "2- my second sentence\n",
      "3- my third sentence\n",
      "4- my fourth sentence\n",
      "5- my fifth sentence\n",
      "\n"
     ]
    }
   ],
   "source": [
    "with open(\"benim_ilk_dosyam.txt\", \"w\", encoding = \"utf-8\") as dosyam :\n",
    "    dosyam.write(\"1- my first sentence\" + \"\\n\")\n",
    "    dosyam.write(\"2- my second sentence\"+ \"\\n\")\n",
    "    dosyam.write(\"3- my third sentence\" + \"\\n\")\n",
    "    dosyam.write(\"4- my fourth sentence\"+ \"\\n\")\n",
    "    dosyam.write(\"5- my fifth sentence\" + \"\\n\")\n",
    "with open(\"benim_ilk_dosyam.txt\", \"r\", encoding = \"utf-8\") as dosyam :\n",
    "    print(dosyam.read())\n",
    "    "
   ]
  },
  {
   "cell_type": "code",
   "execution_count": 50,
   "id": "c41aff9b",
   "metadata": {},
   "outputs": [
    {
     "name": "stdout",
     "output_type": "stream",
     "text": [
      "Banana\n",
      "Orange\n",
      "Apple\n",
      "Strawberry\n",
      "Cherry\n",
      "\n",
      "['Banana\\n', 'Orange\\n', 'Apple\\n', 'Strawberry\\n', 'Cherry\\n']\n"
     ]
    }
   ],
   "source": [
    "fruits =[\"Banana\", \"Orange\", \"Apple\", \"Strawberry\", \"Cherry\"]\n",
    "\n",
    "with open(\"fruits.txt\", \"w\", encoding=\"utf-8\") as file :\n",
    "    for meyve in fruits :\n",
    "        file.write(meyve + \"\\n\")\n",
    "        \n",
    "with open(\"fruits.txt\", \"r\") as file :\n",
    "    print(file.read())\n",
    "    \n",
    "with open(\"fruits.txt\", \"r\") as file :\n",
    "    print(file.readlines())"
   ]
  },
  {
   "cell_type": "code",
   "execution_count": 51,
   "id": "cd23dfd8",
   "metadata": {},
   "outputs": [
    {
     "name": "stdout",
     "output_type": "stream",
     "text": [
      "Banana\n",
      "Orange\n",
      "Apple\n",
      "Strawberry\n",
      "Cherry\n",
      "\n"
     ]
    }
   ],
   "source": [
    "flowers = ['Jasmine', 'Rose', 'Lily', 'Daisy', 'Tulip']\n",
    "\n",
    "with open(\"flowers_24.txt\", \"w\", encoding=\"utf-8\") as f :\n",
    "    for meyve in fruits :\n",
    "        f.write(meyve + \"\\n\")\n",
    "\n",
    "with open(\"flowers_24.txt\", \"r\", encoding=\"utf-8\") as f :\n",
    "    print(f.read())"
   ]
  },
  {
   "cell_type": "code",
   "execution_count": 53,
   "id": "8c117197",
   "metadata": {},
   "outputs": [
    {
     "name": "stdout",
     "output_type": "stream",
     "text": [
      "Banana\n",
      "\n",
      "Orange\n",
      "\n",
      "Apple\n",
      "\n",
      "Strawberry\n",
      "\n",
      "Cherry\n",
      "\n",
      "\n"
     ]
    }
   ],
   "source": [
    "flowers = ['Jasmine', 'Rose', 'Lily', 'Daisy', 'Tulip']\n",
    "\n",
    "with open(\"flowers_24.txt\", \"w\", encoding=\"utf-8\") as f :\n",
    "    for meyve in fruits :\n",
    "        f.write(meyve + \"\\n\\n\")\n",
    "\n",
    "with open(\"flowers_24.txt\", \"r\", encoding=\"utf-8\") as f :\n",
    "    print(f.read())"
   ]
  },
  {
   "cell_type": "code",
   "execution_count": null,
   "id": "914c0eb2",
   "metadata": {},
   "outputs": [],
   "source": []
  },
  {
   "cell_type": "code",
   "execution_count": null,
   "id": "4fab16c2",
   "metadata": {},
   "outputs": [],
   "source": []
  },
  {
   "cell_type": "code",
   "execution_count": null,
   "id": "6c018a55",
   "metadata": {},
   "outputs": [],
   "source": []
  },
  {
   "cell_type": "code",
   "execution_count": null,
   "id": "5e8c906a",
   "metadata": {},
   "outputs": [],
   "source": []
  },
  {
   "cell_type": "code",
   "execution_count": null,
   "id": "c4a1c767",
   "metadata": {},
   "outputs": [],
   "source": []
  }
 ],
 "metadata": {
  "kernelspec": {
   "display_name": "Python 3",
   "language": "python",
   "name": "python3"
  },
  "language_info": {
   "codemirror_mode": {
    "name": "ipython",
    "version": 3
   },
   "file_extension": ".py",
   "mimetype": "text/x-python",
   "name": "python",
   "nbconvert_exporter": "python",
   "pygments_lexer": "ipython3",
   "version": "3.8.8"
  }
 },
 "nbformat": 4,
 "nbformat_minor": 5
}
