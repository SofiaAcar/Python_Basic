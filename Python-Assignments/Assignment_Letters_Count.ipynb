{
 "cells": [
  {
   "cell_type": "markdown",
   "id": "514c047c",
   "metadata": {},
   "source": [
    "Write your Python codes on any IDE and push it up to your GitHub repository, \n",
    "then submit your GitHub page address link in addition to your codes (answer) as a plain text. \n",
    "Task:\n",
    "\n",
    "Count the number of each letter in a sentence.\n",
    "The department you work for undertook a project construction \n",
    "that makes word / text analysis. You are asked to calculate the \n",
    "number of letters or any chars in the sentences entered under this project.\n",
    "Write a Python program that;\n",
    "takes a sentence from the user,\n",
    "counts the number of each letter of the sentence,\n",
    "collects the letters/chars as a key and the counted numbers as a value in a dictionary.\n",
    "\n",
    "Examples\n",
    "Sample inputs\tOutputs\n",
    "hippo runs to us!\t\n",
    "{'s': 2, 'r': 1, 't': 1, 'h': 1, 'n': 1, \n",
    "'i': 1, 'u': 2, 'o': 2, 'p': 2, ' ': 3, '!': 1}\n",
    "\n",
    "\n",
    "Note that; this question is famous on the web, so that do it yourself \n",
    "to get more benefits from it. By the way, Do not use try - except block."
   ]
  },
  {
   "cell_type": "code",
   "execution_count": null,
   "id": "d41cc12c",
   "metadata": {},
   "outputs": [],
   "source": [
    "hippo runs to us!\n",
    "{'s': 2, 'r': 1, 't': 1, 'h': 1, 'n': 1, \n",
    "'i': 1, 'u': 2, 'o': 2, 'p': 2, ' ': 3, '!': 1}"
   ]
  },
  {
   "cell_type": "code",
   "execution_count": 4,
   "id": "f89cb998",
   "metadata": {},
   "outputs": [
    {
     "name": "stdout",
     "output_type": "stream",
     "text": [
      "Enter your sentence: hippo runs to us!\n",
      "{'h': 1, 'i': 1, 'p': 2, 'o': 2, ' ': 3, 'r': 1, 'u': 2, 'n': 1, 's': 2, 't': 1, '!': 1}\n"
     ]
    }
   ],
   "source": [
    "text = input(\"Enter your sentence: \").lower()\n",
    "counts = {}\n",
    "for i in text:\n",
    "    if i not in counts:\n",
    "        counts[i] = 1\n",
    "    else:\n",
    "        counts[i] += 1\n",
    "print(counts)"
   ]
  }
 ],
 "metadata": {
  "kernelspec": {
   "display_name": "Python 3",
   "language": "python",
   "name": "python3"
  },
  "language_info": {
   "codemirror_mode": {
    "name": "ipython",
    "version": 3
   },
   "file_extension": ".py",
   "mimetype": "text/x-python",
   "name": "python",
   "nbconvert_exporter": "python",
   "pygments_lexer": "ipython3",
   "version": "3.8.8"
  }
 },
 "nbformat": 4,
 "nbformat_minor": 5
}
