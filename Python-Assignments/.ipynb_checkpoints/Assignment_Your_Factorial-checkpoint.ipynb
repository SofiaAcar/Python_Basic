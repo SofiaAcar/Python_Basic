{
 "cells": [
  {
   "cell_type": "markdown",
   "id": "6b53603f",
   "metadata": {},
   "source": [
    "Define a function named my_fact to calculate factorial of the given number. \n",
    "Given a non-negative integer return the factorial of the integer.\n",
    "\n",
    "(Example: The factorial of 5 is: 5*4*3*2*1 = 120 and factorial of 0 is: 1)"
   ]
  },
  {
   "cell_type": "code",
   "execution_count": 3,
   "id": "e4260bf4",
   "metadata": {},
   "outputs": [
    {
     "name": "stdout",
     "output_type": "stream",
     "text": [
      "6\n"
     ]
    }
   ],
   "source": [
    "def my_fact(num):\n",
    "    fak = 1\n",
    "    for i in range(1,num+1):\n",
    "        fak *=i\n",
    "    return fak\n",
    "print(my_fact(3))"
   ]
  },
  {
   "cell_type": "code",
   "execution_count": 4,
   "id": "98e60ec6",
   "metadata": {},
   "outputs": [
    {
     "name": "stdout",
     "output_type": "stream",
     "text": [
      "6\n"
     ]
    }
   ],
   "source": [
    "def my_fact(n):\n",
    "    fak = 1\n",
    "    for i in range(1,n+1):\n",
    "        fak *=i\n",
    "    return fak\n",
    "print(my_fact(3))"
   ]
  }
 ],
 "metadata": {
  "kernelspec": {
   "display_name": "Python 3",
   "language": "python",
   "name": "python3"
  },
  "language_info": {
   "codemirror_mode": {
    "name": "ipython",
    "version": 3
   },
   "file_extension": ".py",
   "mimetype": "text/x-python",
   "name": "python",
   "nbconvert_exporter": "python",
   "pygments_lexer": "ipython3",
   "version": "3.8.8"
  }
 },
 "nbformat": 4,
 "nbformat_minor": 5
}
