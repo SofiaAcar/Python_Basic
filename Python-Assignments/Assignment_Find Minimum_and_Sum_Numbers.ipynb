{
 "cells": [
  {
   "cell_type": "code",
   "execution_count": 3,
   "id": "d4d010e3",
   "metadata": {},
   "outputs": [
    {
     "name": "stdout",
     "output_type": "stream",
     "text": [
      "5\n",
      "-9\n",
      "-100\n"
     ]
    }
   ],
   "source": [
    "def my_min(*nums):\n",
    "    return min(list(nums))\n",
    "\n",
    "print(my_min(5,6,7))\n",
    "print(my_min(3,8,-9,0,12,1.2))\n",
    "print(my_min(-100))"
   ]
  },
  {
   "cell_type": "code",
   "execution_count": 4,
   "id": "bf6c9871",
   "metadata": {},
   "outputs": [
    {
     "name": "stdout",
     "output_type": "stream",
     "text": [
      "12\n",
      "16\n",
      "60\n"
     ]
    }
   ],
   "source": [
    "def my_sum(*nums):\n",
    "    return sum(list(nums))\n",
    "\n",
    "print(my_sum(9, 1, 3, 0, -1))\n",
    "print(my_sum(5, 7, 4))\n",
    "print(my_sum(10, -20, 30, 40))"
   ]
  },
  {
   "cell_type": "code",
   "execution_count": null,
   "id": "1a222201",
   "metadata": {},
   "outputs": [],
   "source": []
  },
  {
   "cell_type": "code",
   "execution_count": null,
   "id": "8df8a713",
   "metadata": {},
   "outputs": [],
   "source": []
  },
  {
   "cell_type": "code",
   "execution_count": null,
   "id": "bca73647",
   "metadata": {},
   "outputs": [],
   "source": []
  }
 ],
 "metadata": {
  "kernelspec": {
   "display_name": "Python 3",
   "language": "python",
   "name": "python3"
  },
  "language_info": {
   "codemirror_mode": {
    "name": "ipython",
    "version": 3
   },
   "file_extension": ".py",
   "mimetype": "text/x-python",
   "name": "python",
   "nbconvert_exporter": "python",
   "pygments_lexer": "ipython3",
   "version": "3.8.8"
  }
 },
 "nbformat": 4,
 "nbformat_minor": 5
}
