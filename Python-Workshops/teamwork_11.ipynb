{
 "cells": [
  {
   "cell_type": "code",
   "execution_count": 14,
   "id": "3c8fe299",
   "metadata": {},
   "outputs": [
    {
     "data": {
      "text/plain": [
       "10"
      ]
     },
     "execution_count": 14,
     "metadata": {},
     "output_type": "execute_result"
    }
   ],
   "source": [
    "import random\n",
    "random.randrange(0,91,5)"
   ]
  },
  {
   "cell_type": "code",
   "execution_count": 16,
   "id": "b39df803",
   "metadata": {},
   "outputs": [
    {
     "name": "stdout",
     "output_type": "stream",
     "text": [
      "2\n"
     ]
    }
   ],
   "source": [
    "def foo():\n",
    "    try:\n",
    "        return 1\n",
    "    finally:\n",
    "        return 2\n",
    "k = foo()\n",
    "print(k)"
   ]
  },
  {
   "cell_type": "code",
   "execution_count": 19,
   "id": "270cfe2f",
   "metadata": {},
   "outputs": [],
   "source": [
    "x=10\n",
    "y=8\n",
    "assert x>y, 'X too small'"
   ]
  },
  {
   "cell_type": "markdown",
   "id": "645605df",
   "metadata": {},
   "source": [
    "valid = False\n",
    "while not valid:\n",
    "    try:\n",
    "        n = int(input(\"Enter a number\"))\n",
    "        while n%2 == 0:\n",
    "            print(\"Bye\")\n",
    "        valid = True\n",
    "    except ValueError:\n",
    "        print(\"Invalid\")"
   ]
  },
  {
   "cell_type": "code",
   "execution_count": 22,
   "id": "b5d8467a",
   "metadata": {},
   "outputs": [
    {
     "name": "stdout",
     "output_type": "stream",
     "text": [
      "432\n"
     ]
    }
   ],
   "source": [
    "def f(x, y, z): return x + y + z\n",
    "print(f(2, 30, 400))"
   ]
  },
  {
   "cell_type": "code",
   "execution_count": 23,
   "id": "c995898a",
   "metadata": {},
   "outputs": [
    {
     "name": "stdout",
     "output_type": "stream",
     "text": [
      "{0, 1, 4, 9}\n"
     ]
    }
   ],
   "source": [
    "print({a**2 for a in range(4)})"
   ]
  },
  {
   "cell_type": "code",
   "execution_count": null,
   "id": "238373f0",
   "metadata": {},
   "outputs": [],
   "source": [
    "import copy\n",
    "a=[10,23,56,[78]]\n",
    "b=copy.deepcopy(a)\n",
    "a[3][0]=95\n",
    "a[1]=34\n",
    "print(b)"
   ]
  },
  {
   "cell_type": "markdown",
   "id": "91d89d6f",
   "metadata": {},
   "source": [
    "In the code we use copy is a deep copy. \n",
    "Any change made in the original list isn’t reflected.\n",
    "A deep copy is a process in which the copying process occurs recursively.\n",
    "It means first constructing a new collection object and then recursively populating it with copies of the child objects found in the original.\n",
    "In case of deep copy, a copy of the object is copied in another object. \n",
    "It means that any changes made to a copy of the object do not \n",
    "reflect in the original object.\n",
    "In python, this is implemented using a “deep copy()” function.\n",
    "Hence the code prints the original copy itself.\n",
    "The following picture represents the flow of the code:"
   ]
  },
  {
   "cell_type": "code",
   "execution_count": 28,
   "id": "b42d2ef6",
   "metadata": {},
   "outputs": [
    {
     "name": "stdout",
     "output_type": "stream",
     "text": [
      "[10, 23, 56, [78]]\n"
     ]
    }
   ],
   "source": [
    "import copy\n",
    "a=[10,23,56,[78]]\n",
    "b=copy.deepcopy(a)\n",
    "a[3][0]=95\n",
    "a[1]=34\n",
    "# b=copy.deepcopy(a)\n",
    "print(b)"
   ]
  },
  {
   "cell_type": "code",
   "execution_count": 29,
   "id": "416251b6",
   "metadata": {},
   "outputs": [
    {
     "name": "stdout",
     "output_type": "stream",
     "text": [
      "[1, 3, 6, 10]\n"
     ]
    }
   ],
   "source": [
    "a=[1,2,3,4]\n",
    "b=[sum(a[0:x+1]) for x in range(0,len(a))]\n",
    "print(b)"
   ]
  },
  {
   "cell_type": "code",
   "execution_count": 30,
   "id": "19c944fc",
   "metadata": {},
   "outputs": [
    {
     "name": "stdout",
     "output_type": "stream",
     "text": [
      "abcefd\n"
     ]
    }
   ],
   "source": [
    "print('abcefd'.replace('cd', '12'))"
   ]
  },
  {
   "cell_type": "code",
   "execution_count": 31,
   "id": "6359b113",
   "metadata": {},
   "outputs": [
    {
     "name": "stdout",
     "output_type": "stream",
     "text": [
      "ab12ef\n"
     ]
    }
   ],
   "source": [
    "print('abcdef'.replace('cd', '12'))"
   ]
  },
  {
   "cell_type": "code",
   "execution_count": null,
   "id": "08970734",
   "metadata": {},
   "outputs": [],
   "source": []
  },
  {
   "cell_type": "code",
   "execution_count": null,
   "id": "afd10cf0",
   "metadata": {},
   "outputs": [],
   "source": []
  }
 ],
 "metadata": {
  "kernelspec": {
   "display_name": "Python 3",
   "language": "python",
   "name": "python3"
  },
  "language_info": {
   "codemirror_mode": {
    "name": "ipython",
    "version": 3
   },
   "file_extension": ".py",
   "mimetype": "text/x-python",
   "name": "python",
   "nbconvert_exporter": "python",
   "pygments_lexer": "ipython3",
   "version": "3.8.8"
  }
 },
 "nbformat": 4,
 "nbformat_minor": 5
}
