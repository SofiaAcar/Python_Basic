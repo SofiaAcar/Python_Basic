{
 "cells": [
  {
   "cell_type": "code",
   "execution_count": 32,
   "id": "578a5f3f",
   "metadata": {},
   "outputs": [
    {
     "name": "stdout",
     "output_type": "stream",
     "text": [
      "ktchen\n",
      "kitcen\n"
     ]
    }
   ],
   "source": [
    "def missing_char(word, n):\n",
    "    return word.replace(word[n], \"\")   \n",
    "    \n",
    "print(missing_char('kitchen', 1))\n",
    "print(missing_char('kitchen', 4))"
   ]
  },
  {
   "cell_type": "code",
   "execution_count": 85,
   "id": "705fa089",
   "metadata": {},
   "outputs": [
    {
     "name": "stdout",
     "output_type": "stream",
     "text": [
      "ylaruswac\n"
     ]
    }
   ],
   "source": [
    "def front_back(word):\n",
    "    new = \"\"\n",
    "    for i in word:\n",
    "        if i == word[0]:\n",
    "            new += word[-1]\n",
    "        elif i == word[-1]:\n",
    "            new += word[0]\n",
    "        else:\n",
    "            new += i\n",
    "    return new\n",
    "    \n",
    "print(front_back('clarusway'))"
   ]
  },
  {
   "cell_type": "code",
   "execution_count": null,
   "id": "8bd7d1f3",
   "metadata": {},
   "outputs": [],
   "source": []
  },
  {
   "cell_type": "code",
   "execution_count": null,
   "id": "f0c3e5e4",
   "metadata": {},
   "outputs": [],
   "source": []
  }
 ],
 "metadata": {
  "kernelspec": {
   "display_name": "Python 3",
   "language": "python",
   "name": "python3"
  },
  "language_info": {
   "codemirror_mode": {
    "name": "ipython",
    "version": 3
   },
   "file_extension": ".py",
   "mimetype": "text/x-python",
   "name": "python",
   "nbconvert_exporter": "python",
   "pygments_lexer": "ipython3",
   "version": "3.8.8"
  }
 },
 "nbformat": 4,
 "nbformat_minor": 5
}
