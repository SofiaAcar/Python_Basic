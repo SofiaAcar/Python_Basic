{
  "nbformat": 4,
  "nbformat_minor": 0,
  "metadata": {
    "colab": {
      "name": "edabit-soru-çözümü.ipynb",
      "provenance": [],
      "collapsed_sections": []
    },
    "kernelspec": {
      "name": "python3",
      "display_name": "Python 3"
    },
    "language_info": {
      "name": "python"
    }
  },
  "cells": [
    {
      "cell_type": "code",
      "metadata": {
        "colab": {
          "base_uri": "https://localhost:8080/"
        },
        "id": "CN4_7494BAdo",
        "outputId": "66275a11-3cc2-4750-851b-1accf82c6c51"
      },
      "source": [
        "#  https://edabit.com/challenge/G9QRtAGXb9Cu368Pw\n",
        "def combinations(*params):\n",
        "  total = 1\n",
        "  for i in params:\n",
        "    if i < 1:\n",
        "      break\n",
        "    total *= i\n",
        "  return total\n",
        "\n",
        "print(combinations(2, 3,0, 4, 5))"
      ],
      "execution_count": 8,
      "outputs": [
        {
          "output_type": "stream",
          "name": "stdout",
          "text": [
            "6\n"
          ]
        }
      ]
    },
    {
      "cell_type": "code",
      "metadata": {
        "colab": {
          "base_uri": "https://localhost:8080/",
          "height": 34
        },
        "id": "LccjqCCRkrk0",
        "outputId": "3e5b51fc-ff1f-4876-ff16-2218c1a5af65"
      },
      "source": [
        "# https://edabit.com/challenge/Y5Ji2HDnQTX7MxeHt\n",
        "def snakefill(param):\n",
        "  count = 0\n",
        "  size = 1\n",
        "  if param < 0:\n",
        "    return \"yanlış değer girdiniz\"\n",
        "  while size < (param ** 2) / 2:\n",
        "    count += 1\n",
        "    size *= 2 \n",
        "  return count\n",
        "\n",
        "\n",
        "snakefill(-24)"
      ],
      "execution_count": 12,
      "outputs": [
        {
          "output_type": "execute_result",
          "data": {
            "application/vnd.google.colaboratory.intrinsic+json": {
              "type": "string"
            },
            "text/plain": [
              "'yanlış değer girdiniz'"
            ]
          },
          "metadata": {},
          "execution_count": 12
        }
      ]
    },
    {
      "cell_type": "code",
      "metadata": {
        "colab": {
          "base_uri": "https://localhost:8080/"
        },
        "id": "s3xP3NH3oVdt",
        "outputId": "0d848946-c189-4c3d-97cd-b13ce04dc30f"
      },
      "source": [
        "# https://edabit.com/challenge/KHPFPaKpXmDeRoYQ3\n",
        "def check_score(param):\n",
        "  new_dict = {\"#\" : 5, \"O\" :3, \"X\" : 1, \"!\" : -1, \"!!\" : -3, \"!!!\" : -5}\n",
        "  result = [ new_dict[x] for i in param for x in i]\n",
        "  return sum(result) if sum(result) > 0 else 0\n",
        "\n",
        "\n",
        "\n",
        "\n",
        "check_score([\n",
        "  [\"#\", \"O\", \"#\", \"!!\", \"X\", \"!!\", \"#\", \"O\", \"O\", \"!!\", \"#\", \"X\", \"#\", \"O\"],\n",
        "  [\"!!!\", \"!!!\", \"!!\", \"!!\", \"!\", \"!\", \"X\", \"!\", \"!!!\", \"O\", \"!\", \"!!!\", \"X\", \"#\"],\n",
        "  [\"#\", \"X\", \"#\", \"!!!\", \"!\", \"!!\", \"#\", \"#\", \"!!\", \"X\", \"!!\", \"!!!\", \"X\", \"O\"],\n",
        "  [\"!!\", \"X\", \"!!\", \"!!\", \"!!!\", \"#\", \"O\", \"O\", \"!!!\", \"#\", \"O\", \"O\", \"#\", \"!!\"],\n",
        "  [\"O\", \"X\", \"#\", \"!\", \"!\", \"X\", \"!!!\", \"O\", \"!!!\", \"!!\", \"O\", \"!\", \"O\", \"X\"],\n",
        "  [\"!!\", \"!!!\", \"X\", \"!!!\", \"!!\", \"!!\", \"!!!\", \"X\", \"O\", \"!\", \"#\", \"!!\", \"!!\", \"!!!\"],\n",
        "  [\"!!\", \"!!\", \"#\", \"O\", \"!\", \"!!\", \"!\", \"!!!\", \"#\", \"O\", \"#\", \"!\", \"#\", \"!!\"],\n",
        "  [\"X\", \"X\", \"O\", \"X\", \"!!!\", \"#\", \"!!!\", \"!!!\", \"X\", \"X\", \"X\", \"!\", \"#\", \"!!\"],\n",
        "  [\"O\", \"!!!\", \"!\", \"O\", \"#\", \"!\", \"!\", \"#\", \"X\", \"X\", \"#\", \"O\", \"!!\", \"!\"],\n",
        "  [\"X\", \"!\", \"!!\", \"#\", \"#\", \"X\", \"!!\", \"O\", \"!!\", \"X\", \"X\", \"!!\", \"#\", \"X\"],\n",
        "  [\"!\", \"!!\", \"!!\", \"O\", \"!!\", \"!!\", \"#\", \"#\", \"!\", \"!!!\", \"O\", \"!\", \"#\", \"#\"],\n",
        "  [\"!\", \"!!!\", \"!!\", \"X\", \"!!\", \"!!\", \"#\", \"!!!\", \"O\", \"!!\", \"!!!\", \"!\", \"!\", \"!\"],\n",
        "  [\"!!!\", \"!!!\", \"!!\", \"O\", \"!\", \"!\", \"!!!\", \"!!!\", \"!!\", \"!!\", \"X\", \"!\", \"#\", \"#\"],\n",
        "  [\"O\", \"O\", \"#\", \"O\", \"#\", \"!\", \"!!!\", \"X\", \"X\", \"O\", \"!\", \"!!!\", \"X\", \"O\"]\n",
        "])"
      ],
      "execution_count": 34,
      "outputs": [
        {
          "output_type": "execute_result",
          "data": {
            "text/plain": [
              "12"
            ]
          },
          "metadata": {},
          "execution_count": 34
        }
      ]
    },
    {
      "cell_type": "code",
      "metadata": {
        "colab": {
          "base_uri": "https://localhost:8080/"
        },
        "id": "gArq9g3yuphv",
        "outputId": "ad021ea4-b1ab-4e1c-9176-a23cddebe4aa"
      },
      "source": [
        "# https://edabit.com/challenge/W8imhL66osEpK2ANs\n",
        "rate = {\n",
        "  \"people\": 10,\n",
        "  \"walls\": 10,\n",
        "  \"minutes\": 22\n",
        "}\n",
        "\n",
        "def time(rate, people, walls):\n",
        "  one_wall_time = (rate[\"minutes\"] * rate[\"people\"]) //rate[\"walls\"]\n",
        "  minute = (one_wall_time * walls) // people\n",
        "  return minute\n",
        "\n",
        "\n",
        "time(rate,8, 15)"
      ],
      "execution_count": 39,
      "outputs": [
        {
          "output_type": "execute_result",
          "data": {
            "text/plain": [
              "41"
            ]
          },
          "metadata": {},
          "execution_count": 39
        }
      ]
    },
    {
      "cell_type": "code",
      "metadata": {
        "colab": {
          "base_uri": "https://localhost:8080/",
          "height": 34
        },
        "id": "dz3RR-sZxtop",
        "outputId": "5bc9da2d-66b1-4133-8586-bb49a0251693"
      },
      "source": [
        "# https://edabit.com/challenge/5bYXQfpyoithnQisa\n",
        "\n",
        "def encode_morse(param):\n",
        "  char_to_dots = {\n",
        "  'A': '.-', 'B': '-...', 'C': '-.-.', 'D': '-..', 'E': '.', 'F': '..-.',\n",
        "  'G': '--.', 'H': '....', 'I': '..', 'J': '.---', 'K': '-.-', 'L': '.-..',\n",
        "  'M': '--', 'N': '-.', 'O': '---', 'P': '.--.', 'Q': '--.-', 'R': '.-.',\n",
        "  'S': '...', 'T': '-', 'U': '..-', 'V': '...-', 'W': '.--', 'X': '-..-',\n",
        "  'Y': '-.--', 'Z': '--..', ' ': ' ', '0': '-----',\n",
        "  '1': '.----', '2': '..---', '3': '...--', '4': '....-', '5': '.....',\n",
        "  '6': '-....', '7': '--...', '8': '---..', '9': '----.',\n",
        "  '&': '.-...', \"'\": '.----.', '@': '.--.-.', ')': '-.--.-', '(': '-.--.',\n",
        "  ':': '---...', ',': '--..--', '=': '-...-', '!': '-.-.--', '.': '.-.-.-',\n",
        "  '-': '-....-', '+': '.-.-.', '\"': '.-..-.', '?': '..--..', '/': '-..-.'\n",
        "  }\n",
        "\n",
        "  # string = \"\"\n",
        "  # for i in param.upper():\n",
        "  #   string += char_to_dots[i] + \" \"\n",
        "  # return string.strip()\n",
        "\n",
        "  return \" \".join([char_to_dots[i] for i in param.upper()])\n",
        "\n",
        "\n",
        "\n",
        "encode_morse(\"EDABBIT CHALLENGE\")"
      ],
      "execution_count": 50,
      "outputs": [
        {
          "output_type": "execute_result",
          "data": {
            "application/vnd.google.colaboratory.intrinsic+json": {
              "type": "string"
            },
            "text/plain": [
              "'. -.. .- -... -... .. -   -.-. .... .- .-.. .-.. . -. --. .'"
            ]
          },
          "metadata": {},
          "execution_count": 50
        }
      ]
    },
    {
      "cell_type": "code",
      "metadata": {
        "id": "I0SZxiufzLkH"
      },
      "source": [
        "\". -.. .- -... -... .. -   -.-. .... .- .-.. .-.. . -. --. .\""
      ],
      "execution_count": null,
      "outputs": []
    }
  ]
}