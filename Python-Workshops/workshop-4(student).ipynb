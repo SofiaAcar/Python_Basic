{
 "cells": [
  {
   "cell_type": "markdown",
   "metadata": {},
   "source": [
    "<center><img src=\"https://github.com/aaron-clarusway/fullstack/blob/master/itf-logo.png?raw=true\"  alt=\"alt text\" width=\"200\"/></center>\n",
    "<br>\n",
    "<h1><p style=\"text-align: center; color:darkblue\">Python Basic & Plus</p><h1>\n",
    "<center><h1>Workshop - 4</h1></center>\n",
    "<p><img align=\"right\"\n",
    "  src=\"https://secure.meetupstatic.com/photos/event/3/1/b/9/600_488352729.jpeg\"  width=\"15px\"></p>\n",
    "<br>\n",
    "\n",
    "\n",
    "# Subject: Collections - Control Flow Statements - Functions"
   ]
  },
  {
   "cell_type": "markdown",
   "metadata": {},
   "source": [
    "## Coding Challenge -1 : Palindrome\n",
    "\n",
    "Purpose of the this coding challenge is to solve a control flow statements issue.\n",
    "\n",
    "### Learning Outcomes\n",
    "\n",
    "At the end of the this coding challenge, students will be able to;\n",
    "\n",
    "- understand the use of loops.\n",
    "- understand the importance of alphanumeric string methods.\n",
    "- get a better understanding in manipulating strings.\n",
    "\n",
    "### Problem Statement\n",
    "  \n",
    "- Write a function/functions that checks whether the sentence you get from the user is a **palindrome**. (Do not consider punctuation and special characters. Only consider \"***alphanumeric***\" characters.)\n",
    "\n",
    "\n",
    "```bash\n",
    "input : \"ey edip adana'da, pide ye!\"\n",
    "\n",
    "output : \"ey edip adana'da, pide ye!\" is a palindrome\n",
    "```"
   ]
  },
  {
   "cell_type": "markdown",
   "metadata": {},
   "source": [
    "### Solution :"
   ]
  },
  {
   "cell_type": "code",
   "execution_count": 28,
   "metadata": {},
   "outputs": [
    {
     "name": "stdout",
     "output_type": "stream",
     "text": [
      "ey edip adana'da, pide ye! is a palindrome\n"
     ]
    }
   ],
   "source": [
    "text = \"ey edip adana'da, pide ye!\"\n",
    "new= \"\"\n",
    "for i in text:\n",
    "    if i.isalpha() == True:\n",
    "        new += i\n",
    "if new == new[::-1]:\n",
    "    print(f\"{text} is a palindrome\")\n",
    "else:\n",
    "    print(f\"{text} is NOT a palindrome\")"
   ]
  },
  {
   "cell_type": "code",
   "execution_count": 62,
   "metadata": {},
   "outputs": [
    {
     "data": {
      "text/plain": [
       "'EYEDIPADANADAPIDEYE'"
      ]
     },
     "execution_count": 62,
     "metadata": {},
     "output_type": "execute_result"
    }
   ],
   "source": [
    "text = \"ey edip adana'da, pide ye!\".upper()\n",
    "new= \"\"\n",
    "new = list(filter(lambda i: i.isalpha(), text))\n",
    "a = \"\".join(new)\n",
    "a"
   ]
  },
  {
   "cell_type": "code",
   "execution_count": null,
   "metadata": {},
   "outputs": [],
   "source": []
  },
  {
   "cell_type": "code",
   "execution_count": 65,
   "metadata": {},
   "outputs": [
    {
     "name": "stdout",
     "output_type": "stream",
     "text": [
      "ey edip adana'da, pide ye! is a palindrome\n"
     ]
    }
   ],
   "source": [
    "text = \"ey edip adana'da, pide ye!\".lower()\n",
    "new = \"\".join([i for i in text if i.isalpha()])\n",
    "if new == new[::-1]:\n",
    "    print(f\"{text} is a palindrome\")\n",
    "else:\n",
    "    print(f\"{text} is NOT a palindrome\")"
   ]
  },
  {
   "cell_type": "code",
   "execution_count": 14,
   "metadata": {},
   "outputs": [],
   "source": [
    "def is_palindrome(string):\n",
    "     return string[::-1].lower() == string.lower()\n",
    "def palindrome_sentence(sentence):\n",
    "    string = \"\"\n",
    "    for char in sentence:\n",
    "        if char.isalnum():\n",
    "            string += char\n",
    "    print(string)\n",
    "    # return string[::-1].casefold() == string.casefold()\n",
    "    return is_palindrome(string)"
   ]
  },
  {
   "cell_type": "markdown",
   "metadata": {},
   "source": [
    "## Coding Challenge - 2: Sudoku Format Converter&Printer\n",
    "\n",
    "The purpose of this coding challenge is to write a program that prints the given lists as sudoku looking format.\n",
    "\n",
    "### Learning Outcomes\n",
    "\n",
    "At the end of this coding challenge, students will be able to;\n",
    "\n",
    "- analyze a problem, identify, and apply programming knowledge for appropriate solution.\n",
    "\n",
    "- design, implement `arithmetic operators` and nested loops effectively in Python to solve the given problem.\n",
    "\n",
    "- demonstrate their knowledge of algorithmic design principles by solving the problem effectively.\n",
    "\n",
    "### Problem Statement\n",
    "\n",
    "<div class=\"alert alert-block alert-info\">\n",
    "    <b>💡Objective:</b>\n",
    "    <ul>\n",
    "        <li>To improve your <b>control flow statement</b> skills.</li>\n",
    "    </ul>\n",
    "</div>\n",
    "\n",
    "<hr>\n",
    "<p><b>Task:</b> The department you work for has received a project that displays the solved sudoku puzzles in a digital environment.&nbsp;</p>\n",
    "<p></p>\n",
    "<p></p>\n",
    "<ul>\n",
    "    <li>Write a Python code to print out the given <code>sudoku</code> puzzle matrix in the following format.</li>\n",
    "</ul>\n",
    "<b>Given format :</b><br>\n",
    "<ol>\n",
    "</ol>\n",
    "<p>\n",
    "</p>\n",
    "<div>\n",
    "    <pre>sudoku&nbsp;=&nbsp;[<br>&nbsp;&nbsp;&nbsp;&nbsp;[0,&nbsp;0,&nbsp;0,&nbsp;0,&nbsp;6,&nbsp;4,&nbsp;0,&nbsp;0,&nbsp;0],<br>&nbsp;&nbsp;&nbsp;&nbsp;[7,&nbsp;0,&nbsp;0,&nbsp;0,&nbsp;0,&nbsp;0,&nbsp;3,&nbsp;9,&nbsp;0],<br>&nbsp;&nbsp;&nbsp;&nbsp;[8,&nbsp;0,&nbsp;0,&nbsp;0,&nbsp;0,&nbsp;0,&nbsp;0,&nbsp;0,&nbsp;0],<br>&nbsp;&nbsp;&nbsp;&nbsp;[0,&nbsp;0,&nbsp;0,&nbsp;5,&nbsp;0,&nbsp;2,&nbsp;0,&nbsp;6,&nbsp;0],<br>&nbsp;&nbsp;&nbsp;&nbsp;[0,&nbsp;8,&nbsp;0,&nbsp;4,&nbsp;0,&nbsp;0,&nbsp;0,&nbsp;0,&nbsp;0],<br>&nbsp;&nbsp;&nbsp;&nbsp;[3,&nbsp;5,&nbsp;0,&nbsp;6,&nbsp;0,&nbsp;0,&nbsp;0,&nbsp;7,&nbsp;0],<br>&nbsp;&nbsp;&nbsp;&nbsp;[0,&nbsp;0,&nbsp;2,&nbsp;0,&nbsp;0,&nbsp;0,&nbsp;1,&nbsp;0,&nbsp;3],<br>&nbsp;&nbsp;&nbsp;&nbsp;[0,&nbsp;0,&nbsp;1,&nbsp;0,&nbsp;5,&nbsp;9,&nbsp;0,&nbsp;0,&nbsp;0],<br>&nbsp;&nbsp;&nbsp;&nbsp;[0,&nbsp;0,&nbsp;0,&nbsp;0,&nbsp;0,&nbsp;0,&nbsp;7,&nbsp;0,&nbsp;0]<br>]</pre>\n",
    "    <div>\n",
    "        <b>Desired output format :</b><br>\n",
    "        <ol>\n",
    "        </ol>\n",
    "    </div>\n",
    "    <pre>- - - - - - - - - - - - - - - \n",
    "0  0  0  | 0  6  4  | 0  0  0  \n",
    "7  0  0  | 0  0  0  | 3  9  0  \n",
    "8  0  0  | 0  0  0  | 0  0  0  \n",
    "- - - - - - - - - - - - - - - \n",
    "0  0  0  | 5  0  2  | 0  6  0  \n",
    "0  8  0  | 4  0  0  | 0  0  0  \n",
    "3  5  0  | 6  0  0  | 0  7  0  \n",
    "- - - - - - - - - - - - - - - \n",
    "0  0  2  | 0  0  0  | 1  0  3  \n",
    "0  0  1  | 0  5  9  | 0  0  0  \n",
    "0  0  0  | 0  0  0  | 7  0  0  \n",
    "- - - - - - - - - - - - - - -</pre>\n",
    "</div><br>\n",
    "<p></p>\n",
    "<p></p>\n",
    "<hr>\n",
    "<p><i><b>Note that</b>; <br></i></p>\n",
    "<ul>\n",
    "    <li><i><i>Use not more than \"<b>control flow statement and boolean logic operators</b>\" in solving this code problem. </i></i>\n",
    "    </li>\n",
    "    <li><i><i>The output which we expect from you is only a new output format above. </i></i>\n",
    "    </li>\n",
    "    <li><i><i>We don't expect a sudoku puzzle solver from you.</i></i>\n",
    "    </li>\n",
    "</ul>\n",
    "<p></p>"
   ]
  },
  {
   "cell_type": "markdown",
   "metadata": {},
   "source": [
    "### Solution :"
   ]
  },
  {
   "cell_type": "code",
   "execution_count": 42,
   "metadata": {
    "scrolled": true
   },
   "outputs": [
    {
     "name": "stdout",
     "output_type": "stream",
     "text": [
      "- - - - - - - - - - - - - - - \n",
      "0  0  0  | 0  6  4  | 0  0  0  +\n",
      "7  0  0  | 0  0  0  | 3  9  0  +\n",
      "8  0  0  | 0  0  0  | 0  0  0  +\n",
      "- - - - - - - - - - - - - - - \n",
      "0  0  0  | 5  0  2  | 0  6  0  +\n",
      "0  8  0  | 4  0  0  | 0  0  0  +\n",
      "3  5  0  | 6  0  0  | 0  7  0  +\n",
      "- - - - - - - - - - - - - - - \n",
      "0  0  2  | 0  0  0  | 1  0  3  +\n",
      "0  0  1  | 0  5  9  | 0  0  0  +\n",
      "0  0  0  | 0  0  0  | 7  0  0  +\n",
      "- - - - - - - - - - - - - - - \n"
     ]
    }
   ],
   "source": [
    "sudoku = [\n",
    "    [0, 0, 0, 0, 6, 4, 0, 0, 0],\n",
    "    [7, 0, 0, 0, 0, 0, 3, 9, 0],\n",
    "    [8, 0, 0, 0, 0, 0, 0, 0, 0],\n",
    "    [0, 0, 0, 5, 0, 2, 0, 6, 0],\n",
    "    [0, 8, 0, 4, 0, 0, 0, 0, 0],\n",
    "    [3, 5, 0, 6, 0, 0, 0, 7, 0],\n",
    "    [0, 0, 2, 0, 0, 0, 1, 0, 3],\n",
    "    [0, 0, 1, 0, 5, 9, 0, 0, 0],\n",
    "    [0, 0, 0, 0, 0, 0, 7, 0, 0]\n",
    "]\n",
    "\n",
    "# i =  [0, 0, 0, 0, 6, 4, 0, 0, 0]\n",
    "# j = 0 1 2 3 4 5 6 7 8\n",
    "\n",
    "count = 0\n",
    "print(\"- - - - - - - - - - - - - - - \")\n",
    "for i in sudoku:\n",
    "    for j in range(len(i)) :\n",
    "        print(i[j], \" \", end = \"\")\n",
    "        if (j + 1) == 9 :\n",
    "            print(\"+\")\n",
    "            count += 1\n",
    "            if count % 3 == 0 and count != 0 :\n",
    "                print(\"- - - - - - - - - - - - - - - \")\n",
    "        if (j + 1) % 3 == 0 and j != 0 and j != 8:\n",
    "            print(\"| \", end = \"\")"
   ]
  },
  {
   "cell_type": "code",
   "execution_count": 55,
   "metadata": {},
   "outputs": [
    {
     "name": "stdout",
     "output_type": "stream",
     "text": [
      "- - - - - - - - - - - - - - - \n",
      "0  0  0  | 0  6  4  | 0  0  0  \n",
      "7  0  0  | 0  0  0  | 3  9  0  \n",
      "8  0  0  | 0  0  0  | 0  0  0  \n",
      "- - - - - - - - - - - - - - - \n",
      "0  0  0  | 5  0  2  | 0  6  0  \n",
      "0  8  0  | 4  0  0  | 0  0  0  \n",
      "3  5  0  | 6  0  0  | 0  7  0  \n",
      "- - - - - - - - - - - - - - - \n",
      "0  0  2  | 0  0  0  | 1  0  3  \n",
      "0  0  1  | 0  5  9  | 0  0  0  \n",
      "0  0  0  | 0  0  0  | 7  0  0  \n",
      "- - - - - - - - - - - - - - - \n"
     ]
    }
   ],
   "source": [
    "sudoku = [\n",
    "    [0, 0, 0, 0, 6, 4, 0, 0, 0],\n",
    "    [7, 0, 0, 0, 0, 0, 3, 9, 0],\n",
    "    [8, 0, 0, 0, 0, 0, 0, 0, 0],\n",
    "    [0, 0, 0, 5, 0, 2, 0, 6, 0],\n",
    "    [0, 8, 0, 4, 0, 0, 0, 0, 0],\n",
    "    [3, 5, 0, 6, 0, 0, 0, 7, 0],\n",
    "    [0, 0, 2, 0, 0, 0, 1, 0, 3],\n",
    "    [0, 0, 1, 0, 5, 9, 0, 0, 0],\n",
    "    [0, 0, 0, 0, 0, 0, 7, 0, 0]\n",
    "]\n",
    "# --------------------------------------------- #\n",
    "count = 0\n",
    "print(\"- - - - - - - - - - - - - - - \")\n",
    "for i in sudoku:\n",
    "    for j in range(9):\n",
    "        print(i[j], \" \", end=\"\")\n",
    "        if (j+1) == 9 : \n",
    "            print(end='\\n')\n",
    "            count+=1\n",
    "            if count%3==0 and count!=0 :\n",
    "                print(\"- - - - - - - - - - - - - - - \")\n",
    "        if (j+1) % 3 == 0 and j != 0 and j!=8: \n",
    "             print(\"| \", end=\"\")"
   ]
  },
  {
   "cell_type": "code",
   "execution_count": 66,
   "metadata": {},
   "outputs": [
    {
     "name": "stdout",
     "output_type": "stream",
     "text": [
      "---------------------\n",
      "0 0 0 | 0 6 4 | 0 0 0\n",
      "7 0 0 | 0 0 0 | 3 9 0\n",
      "8 0 0 | 0 0 0 | 0 0 0\n",
      "---------------------\n",
      "0 0 0 | 5 0 2 | 0 6 0\n",
      "0 8 0 | 4 0 0 | 0 0 0\n",
      "3 5 0 | 6 0 0 | 0 7 0\n",
      "---------------------\n",
      "0 0 2 | 0 0 0 | 1 0 3\n",
      "0 0 1 | 0 5 9 | 0 0 0\n",
      "0 0 0 | 0 0 0 | 7 0 0\n",
      "---------------------\n"
     ]
    }
   ],
   "source": [
    "sudoku = [ [0, 0, 0, 0, 6, 4, 0, 0, 0], [7, 0, 0, 0, 0, 0, 3, 9, 0], [8, 0, 0, 0, 0, 0, 0, 0, 0], [0, 0, 0, 5, 0, 2, 0, 6, 0],\n",
    "[0, 8, 0, 4, 0, 0, 0, 0, 0], [3, 5, 0, 6, 0, 0, 0, 7, 0], [0, 0, 2, 0, 0, 0, 1, 0, 3], [0, 0, 1, 0, 5, 9, 0, 0, 0],\n",
    "[0, 0, 0, 0, 0, 0, 7, 0, 0] ]\n",
    "b = sudoku[0:3]\n",
    "c = sudoku[3:6]\n",
    "d = sudoku[6:9]\n",
    "x = [b, c, d]\n",
    "for i in x :\n",
    "    print(21* \"-\")\n",
    "    for j in i:\n",
    "        print((*j[0:3]), '|',(*j[3:6]), '|', (*j[6:9]))\n",
    "print(21* \"-\")"
   ]
  },
  {
   "cell_type": "code",
   "execution_count": 68,
   "metadata": {},
   "outputs": [
    {
     "name": "stdout",
     "output_type": "stream",
     "text": [
      "[1, 2, 3]\n",
      "[1, 3, 2]\n",
      "[2, 1, 3]\n",
      "[2, 3, 1]\n",
      "[3, 2, 1]\n",
      "[3, 1, 2]\n"
     ]
    }
   ],
   "source": [
    "def permütasyon(num, i=0):\n",
    "    \n",
    "    if i == len(num):\n",
    "        print (num)\n",
    "    else:\n",
    "        for x in range(i, len(num)):\n",
    "            num[i], num[x] = num[x] ,num[i]\n",
    "            permütasyon(num, i+1)\n",
    "            num[i], num[x] = num[x], num[i]\n",
    "\n",
    "permütasyon([1,2,3])"
   ]
  }
 ],
 "metadata": {
  "kernelspec": {
   "display_name": "Python 3",
   "language": "python",
   "name": "python3"
  },
  "language_info": {
   "codemirror_mode": {
    "name": "ipython",
    "version": 3
   },
   "file_extension": ".py",
   "mimetype": "text/x-python",
   "name": "python",
   "nbconvert_exporter": "python",
   "pygments_lexer": "ipython3",
   "version": "3.8.8"
  }
 },
 "nbformat": 4,
 "nbformat_minor": 2
}
