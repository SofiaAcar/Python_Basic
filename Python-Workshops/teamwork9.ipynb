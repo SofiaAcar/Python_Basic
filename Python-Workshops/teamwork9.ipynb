{
 "cells": [
  {
   "cell_type": "code",
   "execution_count": 2,
   "id": "9b6b0a93",
   "metadata": {},
   "outputs": [
    {
     "data": {
      "text/plain": [
       "[3, 5]"
      ]
     },
     "execution_count": 2,
     "metadata": {},
     "output_type": "execute_result"
    }
   ],
   "source": [
    "lst = [5, 8, 6, 3, 4]\n",
    "alist = [int(i) for i in lst if i%2 !=0]\n",
    "alist.sort()\n",
    "alist"
   ]
  },
  {
   "cell_type": "code",
   "execution_count": 5,
   "id": "2d252e3f",
   "metadata": {},
   "outputs": [
    {
     "name": "stdout",
     "output_type": "stream",
     "text": [
      "4 is maximum\n"
     ]
    }
   ],
   "source": [
    "def printMax(a, b):\n",
    "    if a > b:\n",
    "        print(a, 'is maximum')\n",
    "    elif a == b:\n",
    "        print(a, 'is equal to', b)\n",
    "    else:\n",
    "        print(b, 'is maximum')\n",
    "printMax(3,4)"
   ]
  },
  {
   "cell_type": "code",
   "execution_count": 11,
   "id": "dfb71bef",
   "metadata": {},
   "outputs": [
    {
     "name": "stdout",
     "output_type": "stream",
     "text": [
      "x is 50\n",
      "Changed local x to 2\n",
      "x is now 50\n"
     ]
    }
   ],
   "source": [
    "x = 50\n",
    "def func(x):\n",
    "    print('x is', x)\n",
    "    x = 2\n",
    "    print('Changed local x to', x)\n",
    "func(x)\n",
    "print('x is now', x)"
   ]
  },
  {
   "cell_type": "code",
   "execution_count": 12,
   "id": "8c7f214a",
   "metadata": {},
   "outputs": [
    {
     "name": "stdout",
     "output_type": "stream",
     "text": [
      "3   9\n"
     ]
    }
   ],
   "source": [
    "def function1(var1=5, var2=7):\n",
    "    var2=9\n",
    "    var1=3\n",
    "    print (var1, \" \", var2)\n",
    "function1(10,12)\n"
   ]
  },
  {
   "cell_type": "markdown",
   "id": "52cee846",
   "metadata": {},
   "source": [
    "Have the function ArrayChallenge(arr) take the array of numbers stored \n",
    "in arr and return the string true if any combination of numbers in the \n",
    "array (excluding the largest number) can be added up to equal the largest \n",
    "number in the array, otherwise return the string false. \n",
    "\n",
    "For example: if arr contains [4, 6, 23, 10, 1, 3] \n",
    "the output should return true because 4 + 6 + 10 + 3 = 23. \n",
    "The array will not be empty, will not contain all the same elements, \n",
    "and may contain negative numbers.\n",
    "\n",
    "Input: [5,7,16,1,2] Output: false \n",
    "Input: [3,5,-1,8,12] Output: true"
   ]
  },
  {
   "cell_type": "code",
   "execution_count": 293,
   "id": "79b8258f",
   "metadata": {
    "scrolled": true
   },
   "outputs": [
    {
     "name": "stdout",
     "output_type": "stream",
     "text": [
      "[-1, 3, 5, 8, 12]\n",
      "{3, 5, 8, -1}\n"
     ]
    }
   ],
   "source": [
    "lst = [3,5,-1,8,12]\n",
    "\n",
    "can = (set(lst))\n",
    "maxi = max(lst)\n",
    "can.remove(maxi)\n",
    "\n",
    "        \n",
    "print(sorted(lst))\n",
    "print(can)\n"
   ]
  },
  {
   "cell_type": "code",
   "execution_count": 309,
   "id": "0fd46b9f",
   "metadata": {},
   "outputs": [
    {
     "name": "stdout",
     "output_type": "stream",
     "text": [
      "true\n"
     ]
    }
   ],
   "source": [
    "lst =[4, 5, 8, 12]\n",
    "\n",
    "can = (set(lst))\n",
    "maxi = max(lst)\n",
    "\n",
    "can.remove(maxi)\n",
    "lst.remove(maxi)\n",
    "\n",
    "a = sum(lst)\n",
    "lst.sort()\n",
    "\n",
    "if a < maxi:\n",
    "    print(\"false\")\n",
    "else:\n",
    "    for i in range(len(lst)):\n",
    "        lst.pop(i)\n",
    "        \n",
    "        b = sum(lst)\n",
    "        \n",
    "        lst = sorted(list(can))\n",
    "        \n",
    "        if b == maxi:\n",
    "            print(\"true\")\n",
    "            break\n",
    "    else:\n",
    "        print(\"false\")\n",
    "    "
   ]
  },
  {
   "cell_type": "code",
   "execution_count": 315,
   "id": "3db01ad4",
   "metadata": {},
   "outputs": [
    {
     "data": {
      "text/plain": [
       "'true'"
      ]
     },
     "execution_count": 315,
     "metadata": {},
     "output_type": "execute_result"
    }
   ],
   "source": [
    "def list_challenge(lst):\n",
    "        \n",
    "    can = (set(lst))\n",
    "    maxi = max(lst)\n",
    "    \n",
    "    can.remove(maxi)\n",
    "    lst.remove(maxi)\n",
    "    \n",
    "    a = sum(lst)\n",
    "    lst.sort()\n",
    "    \n",
    "    if a < maxi:\n",
    "         return \"false\"\n",
    "    else:\n",
    "        for i in range(len(lst)):\n",
    "            lst.pop(i)\n",
    "            \n",
    "            b = sum(lst)\n",
    "            \n",
    "            lst = sorted(list(can))\n",
    "            \n",
    "            if b == maxi:\n",
    "                return \"true\"\n",
    "                break\n",
    "        else:\n",
    "            return \"false\"\n",
    "list_challenge([4, 5, 8, 12])"
   ]
  },
  {
   "cell_type": "code",
   "execution_count": 316,
   "id": "1561c0d4",
   "metadata": {},
   "outputs": [],
   "source": [
    "def f_subsets(s):\n",
    "    s= set(s)\n",
    "    result = []\n",
    "    a = max(s)\n",
    "    s.remove(max(s))\n",
    "    for i in s:\n",
    "        result += [j.union({i}) for j in result]\n",
    "        result.append({i})\n",
    "    son = \"false\"\n",
    "    for i in result:\n",
    "      if sum(i) == a:\n",
    "        son = \"true\"\n",
    "    return son"
   ]
  }
 ],
 "metadata": {
  "kernelspec": {
   "display_name": "Python 3",
   "language": "python",
   "name": "python3"
  },
  "language_info": {
   "codemirror_mode": {
    "name": "ipython",
    "version": 3
   },
   "file_extension": ".py",
   "mimetype": "text/x-python",
   "name": "python",
   "nbconvert_exporter": "python",
   "pygments_lexer": "ipython3",
   "version": "3.8.8"
  }
 },
 "nbformat": 4,
 "nbformat_minor": 5
}
