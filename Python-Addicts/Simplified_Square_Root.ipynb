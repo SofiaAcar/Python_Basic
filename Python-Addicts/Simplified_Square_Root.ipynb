{
 "cells": [
  {
   "cell_type": "markdown",
   "id": "87c0b28c",
   "metadata": {},
   "source": [
    "Simplified Square Root\n",
    "Create a function that takes in a positive integer n and returns the \n",
    "simplified square root of n as a tuple of positive integers (a, b), \n",
    "where a⋅sqrt(b) = sqrt(n) and b is as small as possible.\n",
    "\n",
    "Examples\n",
    "simplify_sqrt(72) ➞ (6, 2)\n",
    "\n",
    "simplify_sqrt(160) ➞ (4, 10)\n",
    "\n",
    "simplify_sqrt(36) ➞ (6, 1)\n",
    "\n",
    "simplify_sqrt(35) ➞ (1, 35)\n",
    "A common way to simplify square roots is to repeatedly factor \n",
    "out perfect squares from the number underneath the square root. \n",
    "For example, if you need to simply sqrt(72), you can factor out \n",
    "perfect squares from 72 according to the following process:\n",
    "\n",
    "sqrt(72)\n",
    "72 is divisible by 4, so factor 4 out of 72:\n",
    "\n",
    "sqrt(4⋅18)\n",
    "The perfect square 4 can now be square rooted and pulled out of the square root:\n",
    "\n",
    "2⋅sqrt(18)\n",
    "Now repeat the process until no further perfect squares can be factored out. \n",
    "18 is divisible by 9, so factor it out:\n",
    "\n",
    "2⋅sqrt(9⋅2)\n",
    "Pull the 9 out, square root it, and simplify:\n",
    "\n",
    "2⋅3⋅sqrt(2)\n",
    "= 6⋅sqrt(2)\n",
    "2 does not have any perfect square factors other than 1, \n",
    "so 6⋅sqrt(2) is the simplest form of sqrt(72). The function \n",
    "would therefore return the tuple (6, 2).\n",
    "\n",
    "This is only one approach to solving this problem; \n",
    "there are probably other ways that are simpler/faster than this method. \n",
    "Feel free to use any method you want.\n",
    "\n",
    "Notes\n",
    "If n is a perfect square, b should be 1.\n",
    "If n has no perfect square factors (other than 1), a should be 1."
   ]
  },
  {
   "cell_type": "code",
   "execution_count": 79,
   "id": "9e667465",
   "metadata": {},
   "outputs": [],
   "source": [
    "def simplify_sqrt(n):\n",
    "\tn = int(n)\n",
    "\tlist = [1]\n",
    "\tfor i in range(2,int(n/2)):\n",
    "\t\t\tif n%(i**2) == 0:\n",
    "\t\t\t\tlist.append(i)\n",
    "\ta = int(max(list))\n",
    "\tb = int(n/(a**2))\n",
    "\treturn (a,b)"
   ]
  },
  {
   "cell_type": "code",
   "execution_count": 80,
   "id": "d0f33f82",
   "metadata": {},
   "outputs": [],
   "source": [
    "def simplify_sqrt(n):\n",
    "\tm = n\n",
    "\tk = 1\n",
    "\tfor i in range(2,n+1):\n",
    "\t\twhile n % (i**2) == 0:\n",
    "\t\t\tk *= i\n",
    "\t\t\tn /= i**2\n",
    "\treturn (k,m/(k**2))"
   ]
  },
  {
   "cell_type": "code",
   "execution_count": 3,
   "id": "022b07d8",
   "metadata": {},
   "outputs": [
    {
     "data": {
      "text/plain": [
       "(10, 1)"
      ]
     },
     "execution_count": 3,
     "metadata": {},
     "output_type": "execute_result"
    }
   ],
   "source": [
    "def simplified(num):\n",
    "    for i in range(1, num):\n",
    "        if  num % i == 0:\n",
    "            a = (num // i) ** 0.5\n",
    "            if a == int(a):\n",
    "                return (int(a), i)\n",
    "simplified(100)"
   ]
  },
  {
   "cell_type": "code",
   "execution_count": 91,
   "id": "8e2a4e8e",
   "metadata": {},
   "outputs": [
    {
     "data": {
      "text/plain": [
       "(10, 1)"
      ]
     },
     "execution_count": 91,
     "metadata": {},
     "output_type": "execute_result"
    }
   ],
   "source": [
    "def simplifier(n):\n",
    "    for i in range (1, n+1):\n",
    "        if ((n / i)**(0.5)).is_integer():\n",
    "            return (int((n/i)**(0.5)), i)\n",
    "simplifier(100)"
   ]
  },
  {
   "cell_type": "code",
   "execution_count": 84,
   "id": "625003d2",
   "metadata": {},
   "outputs": [
    {
     "data": {
      "text/plain": [
       "(6, 2)"
      ]
     },
     "execution_count": 84,
     "metadata": {},
     "output_type": "execute_result"
    }
   ],
   "source": [
    "def simplify_sqrt(n):\n",
    "\tm = max( [x for x in range(1, int(n**0.5)+1) if n%(x**2)==0] )\n",
    "\treturn (m, n//(m**2))\n",
    "simplify_sqrt(72)"
   ]
  },
  {
   "cell_type": "code",
   "execution_count": 83,
   "id": "64a2f22e",
   "metadata": {},
   "outputs": [
    {
     "data": {
      "text/plain": [
       "(10.0, 1.0)"
      ]
     },
     "execution_count": 83,
     "metadata": {},
     "output_type": "execute_result"
    }
   ],
   "source": [
    "def simplify_sqrt(n):\n",
    "\thi_sqr = next(i for i in range(n,0,-1) if not n%i and not i**0.5%1)\n",
    "\treturn (hi_sqr**0.5, n/hi_sqr)\n",
    "simplify_sqrt(100)"
   ]
  },
  {
   "cell_type": "code",
   "execution_count": 78,
   "id": "81c67e16",
   "metadata": {},
   "outputs": [
    {
     "data": {
      "text/plain": [
       "(100, (10, 1))"
      ]
     },
     "execution_count": 78,
     "metadata": {},
     "output_type": "execute_result"
    }
   ],
   "source": [
    "def simplify_sqrt(num):\n",
    "    a, b = 1, 0\n",
    "    for i in range(2, num):\n",
    "        i = i ** 2\n",
    "        \n",
    "        while num % i == 0:\n",
    "            num = num // i\n",
    "            a *= i ** 0.5\n",
    "            b = num\n",
    "        if a == 1:\n",
    "            b = num\n",
    "    return (int(a**2*b), (int(a), b))\n",
    "simplify_sqrt(100)"
   ]
  },
  {
   "cell_type": "code",
   "execution_count": 9,
   "id": "853364ed",
   "metadata": {},
   "outputs": [
    {
     "data": {
      "text/plain": [
       "(10, 1)"
      ]
     },
     "execution_count": 9,
     "metadata": {},
     "output_type": "execute_result"
    }
   ],
   "source": [
    "import math\n",
    "def simplify_sqrt(n):\n",
    "    if n//math.sqrt(n)==math.sqrt(n):\n",
    "        return (int(math.sqrt(n)),1)\n",
    "    else:\n",
    "        t=[math.sqrt(i) for i in range(1,n) if n%i==0]\n",
    "    a=[i for i in  t if i%int(i)==0.0]\n",
    "    return (int(max(a)),int(n//max(a)**2))\n",
    "\n",
    "simplify_sqrt(100)"
   ]
  },
  {
   "cell_type": "code",
   "execution_count": 4,
   "id": "8564515e",
   "metadata": {},
   "outputs": [
    {
     "name": "stdout",
     "output_type": "stream",
     "text": [
      "['__doc__', '__loader__', '__name__', '__package__', '__spec__', 'acos', 'acosh', 'asin', 'asinh', 'atan', 'atan2', 'atanh', 'ceil', 'comb', 'copysign', 'cos', 'cosh', 'degrees', 'dist', 'e', 'erf', 'erfc', 'exp', 'expm1', 'fabs', 'factorial', 'floor', 'fmod', 'frexp', 'fsum', 'gamma', 'gcd', 'hypot', 'inf', 'isclose', 'isfinite', 'isinf', 'isnan', 'isqrt', 'ldexp', 'lgamma', 'log', 'log10', 'log1p', 'log2', 'modf', 'nan', 'perm', 'pi', 'pow', 'prod', 'radians', 'remainder', 'sin', 'sinh', 'sqrt', 'tan', 'tanh', 'tau', 'trunc']\n"
     ]
    }
   ],
   "source": [
    "import math\n",
    "print(dir(math))\n"
   ]
  },
  {
   "cell_type": "code",
   "execution_count": 6,
   "id": "448875c3",
   "metadata": {},
   "outputs": [
    {
     "data": {
      "text/plain": [
       "200"
      ]
     },
     "execution_count": 6,
     "metadata": {},
     "output_type": "execute_result"
    }
   ],
   "source": [
    "def a(x,y):\n",
    "    return x * y\n",
    "a(10,20)"
   ]
  }
 ],
 "metadata": {
  "kernelspec": {
   "display_name": "Python 3",
   "language": "python",
   "name": "python3"
  },
  "language_info": {
   "codemirror_mode": {
    "name": "ipython",
    "version": 3
   },
   "file_extension": ".py",
   "mimetype": "text/x-python",
   "name": "python",
   "nbconvert_exporter": "python",
   "pygments_lexer": "ipython3",
   "version": "3.8.8"
  }
 },
 "nbformat": 4,
 "nbformat_minor": 5
}
