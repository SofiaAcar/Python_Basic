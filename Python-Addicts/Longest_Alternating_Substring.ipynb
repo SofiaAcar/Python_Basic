{
 "cells": [
  {
   "cell_type": "code",
   "execution_count": null,
   "id": "f1463afc",
   "metadata": {},
   "outputs": [],
   "source": [
    "Given a string of digits, return the longest substring with alternating \n",
    "odd/even or even/odd digits. If two or more substrings have the same length, \n",
    "return the substring that occurs first.\n",
    "\n",
    "Examples\n",
    "longest_substring(\"225424272163254474441338664823\") ➞ \"272163254\"\n",
    "# substrings = 254, 272163254, 474, 41, 38, 23\n",
    "\n",
    "longest_substring(\"594127169973391692147228678476\") ➞ \"16921472\"\n",
    "# substrings = 94127, 169, 16921472, 678, 476\n",
    "\n",
    "longest_substring(\"721449827599186159274227324466\") ➞ \"7214\"\n",
    "# substrings = 7214, 498, 27, 18, 61, 9274, 27, 32\n",
    "# 7214 and 9274 have same length, but 7214 occurs first."
   ]
  },
  {
   "cell_type": "code",
   "execution_count": null,
   "id": "12472b91",
   "metadata": {},
   "outputs": [],
   "source": []
  },
  {
   "cell_type": "code",
   "execution_count": null,
   "id": "22279a0d",
   "metadata": {},
   "outputs": [],
   "source": []
  },
  {
   "cell_type": "code",
   "execution_count": null,
   "id": "ec8b7057",
   "metadata": {},
   "outputs": [],
   "source": []
  },
  {
   "cell_type": "code",
   "execution_count": null,
   "id": "84af41f5",
   "metadata": {},
   "outputs": [],
   "source": []
  },
  {
   "cell_type": "code",
   "execution_count": null,
   "id": "9349af1c",
   "metadata": {},
   "outputs": [],
   "source": []
  }
 ],
 "metadata": {
  "kernelspec": {
   "display_name": "Python 3",
   "language": "python",
   "name": "python3"
  },
  "language_info": {
   "codemirror_mode": {
    "name": "ipython",
    "version": 3
   },
   "file_extension": ".py",
   "mimetype": "text/x-python",
   "name": "python",
   "nbconvert_exporter": "python",
   "pygments_lexer": "ipython3",
   "version": "3.8.8"
  }
 },
 "nbformat": 4,
 "nbformat_minor": 5
}
