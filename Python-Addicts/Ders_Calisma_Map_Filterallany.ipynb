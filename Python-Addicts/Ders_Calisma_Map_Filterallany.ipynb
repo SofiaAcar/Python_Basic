{
 "cells": [
  {
   "cell_type": "code",
   "execution_count": 3,
   "id": "bfcf3f8a",
   "metadata": {},
   "outputs": [
    {
     "name": "stdout",
     "output_type": "stream",
     "text": [
      "[[1, 2, 3], [1, 3, 2], [2, 1, 3], [2, 3, 1], [3, 1, 2], [3, 2, 1]]\n"
     ]
    }
   ],
   "source": []
  },
  {
   "cell_type": "code",
   "execution_count": 4,
   "id": "14bad69b",
   "metadata": {},
   "outputs": [
    {
     "name": "stdout",
     "output_type": "stream",
     "text": [
      "[[1, 2, 3], [2, 3, 1], [3, 1, 2], [1, 2, 3], [2, 3, 1], [3, 1, 2]]\n"
     ]
    }
   ],
   "source": []
  },
  {
   "cell_type": "code",
   "execution_count": 5,
   "id": "b7f629a0",
   "metadata": {},
   "outputs": [
    {
     "name": "stdout",
     "output_type": "stream",
     "text": [
      "[1, 4, 9, 16, 25, 36, 49, 64]\n",
      "[1, 2, 3, 4, 5, 6, 7, 8]\n",
      "[1, 2, 3, 4, 5, 6, 7, 8]\n"
     ]
    }
   ],
   "source": [
    "sayilar = [1, -2, 3, -4, 5, 6, 7, 8]\n",
    "sayilar2 = [\"1\", \"2\", \"3\", \"4\", \"5\", \"6\", \"7\", \"8\"]\n",
    "sonuc = list(map(lambda sayi: sayi ** 2, sayilar))\n",
    "print(sonuc)\n",
    "sonuc = list(map(int, sayilar2))\n",
    "print(sonuc)\n",
    "sonuc = list(map(abs,sayilar))\n",
    "print(sonuc)"
   ]
  },
  {
   "cell_type": "code",
   "execution_count": 6,
   "id": "b5ef9996",
   "metadata": {},
   "outputs": [
    {
     "name": "stdout",
     "output_type": "stream",
     "text": [
      "[1.0, -2.0, 3.0, -4.0, 5.0, 6.0, 7.0, 8.0]\n"
     ]
    }
   ],
   "source": [
    "sonuc = list(map(float,sayilar))\n",
    "print(sonuc)"
   ]
  },
  {
   "cell_type": "code",
   "execution_count": 9,
   "id": "64de2961",
   "metadata": {},
   "outputs": [
    {
     "name": "stdout",
     "output_type": "stream",
     "text": [
      "[3, 5, 4, 5]\n"
     ]
    }
   ],
   "source": [
    "isimler = [\"Ali\", \"Deniz\", \"Ayse\", \"Murat\"]\n",
    "sonuc = list(map(len,isimler))\n",
    "print(sonuc)"
   ]
  },
  {
   "cell_type": "code",
   "execution_count": 10,
   "id": "1baa5aa9",
   "metadata": {},
   "outputs": [
    {
     "name": "stdout",
     "output_type": "stream",
     "text": [
      "['ali', 'deniz', 'ayse', 'murat']\n"
     ]
    }
   ],
   "source": [
    "isimler = [\"Ali\", \"Deniz\", \"Ayse\", \"Murat\"]\n",
    "sonuc = list(map(str.lower,isimler))\n",
    "print(sonuc)"
   ]
  },
  {
   "cell_type": "code",
   "execution_count": 12,
   "id": "bdc85f8b",
   "metadata": {},
   "outputs": [],
   "source": [
    "kullanicilar = [\n",
    "    {\"ad\": \"ali\", \"soyad\":\"Yılmaz\"},\n",
    "    {\"ad\": \"ahmet\", \"soyad\":\"Yılmaz\"} ]"
   ]
  },
  {
   "cell_type": "code",
   "execution_count": 13,
   "id": "5e32ee55",
   "metadata": {},
   "outputs": [
    {
     "name": "stdout",
     "output_type": "stream",
     "text": [
      "['ali', 'ahmet']\n"
     ]
    }
   ],
   "source": [
    "sonuc = list(map(lambda x: x[\"ad\"], kullanicilar))\n",
    "print(sonuc)"
   ]
  },
  {
   "cell_type": "code",
   "execution_count": 14,
   "id": "ab5dfef4",
   "metadata": {},
   "outputs": [
    {
     "name": "stdout",
     "output_type": "stream",
     "text": [
      "['SADIKTURAN', 'SENATURAN']\n"
     ]
    }
   ],
   "source": [
    "yaslar = [5,12,18,24,45]\n",
    "\n",
    "def yetiskinmi(x):\n",
    "    if x<18:\n",
    "        return False\n",
    "    else: \n",
    "        return True"
   ]
  },
  {
   "cell_type": "code",
   "execution_count": 16,
   "id": "3dc63160",
   "metadata": {},
   "outputs": [
    {
     "name": "stdout",
     "output_type": "stream",
     "text": [
      "[18, 24, 45]\n"
     ]
    }
   ],
   "source": [
    "sonuc = list(filter(yetiskinmi, yaslar))\n",
    "sonuc = list(filter(lambda x: x>=18, yaslar))\n",
    "print(sonuc)"
   ]
  },
  {
   "cell_type": "code",
   "execution_count": null,
   "id": "d6c19ab4",
   "metadata": {},
   "outputs": [],
   "source": [
    "sayilar = [0,1,25,6,8,9]\n",
    "sonuc = list(filter(lambda x: x%2!=0, sayilar))\n",
    "print(sonuc)"
   ]
  },
  {
   "cell_type": "code",
   "execution_count": 18,
   "id": "b159b7fb",
   "metadata": {},
   "outputs": [
    {
     "data": {
      "text/plain": [
       "['ayse', 'ada', 'ali']"
      ]
     },
     "execution_count": 18,
     "metadata": {},
     "output_type": "execute_result"
    }
   ],
   "source": [
    "isimler = [\"defne\",\"ayse\",\"sena\",\"ada\",\"ali\"]\n",
    "sonuc = list(filter(lambda n: n[0]=='a',isimler))\n",
    "sonuc"
   ]
  },
  {
   "cell_type": "code",
   "execution_count": 19,
   "id": "61cf2872",
   "metadata": {},
   "outputs": [
    {
     "data": {
      "text/plain": [
       "['AYSE', 'ADA', 'ALI']"
      ]
     },
     "execution_count": 19,
     "metadata": {},
     "output_type": "execute_result"
    }
   ],
   "source": [
    "filteredResult = filter(lambda n: n[0]=='a',isimler)\n",
    "sonuc = list(map(lambda n: n.upper(), filteredResult))\n",
    "sonuc"
   ]
  },
  {
   "cell_type": "code",
   "execution_count": 28,
   "id": "be7900d4",
   "metadata": {},
   "outputs": [],
   "source": [
    "users = [\n",
    "    {\"username\":\"sadikturan\", \"tweets\": [\"tweet 1\",\"tweet 2\"]},\n",
    "    {\"username\":\"cinarturan\", \"tweets\": []},\n",
    "    {\"username\":\"senaturan\", \"tweets\": [\"tweet 1\"]}\n",
    "]\n"
   ]
  },
  {
   "cell_type": "code",
   "execution_count": 32,
   "id": "f29eeae5",
   "metadata": {},
   "outputs": [
    {
     "data": {
      "text/plain": [
       "[{'username': 'sadikturan', 'tweets': ['tweet 1', 'tweet 2']},\n",
       " {'username': 'senaturan', 'tweets': ['tweet 1']}]"
      ]
     },
     "execution_count": 32,
     "metadata": {},
     "output_type": "execute_result"
    }
   ],
   "source": [
    "sonuc = list(filter(lambda u: len(u[\"tweets\"])>0, users))\n",
    "sonuc"
   ]
  },
  {
   "cell_type": "code",
   "execution_count": 30,
   "id": "7972ad17",
   "metadata": {},
   "outputs": [
    {
     "data": {
      "text/plain": [
       "['SADIKTURAN', 'SENATURAN']"
      ]
     },
     "execution_count": 30,
     "metadata": {},
     "output_type": "execute_result"
    }
   ],
   "source": [
    "sonuc = list(map(lambda  u: u[\"username\"].upper(), filter(lambda u: len(u[\"tweets\"])>0, users)))\n",
    "sonuc"
   ]
  },
  {
   "cell_type": "code",
   "execution_count": 31,
   "id": "3b040f04",
   "metadata": {},
   "outputs": [
    {
     "name": "stdout",
     "output_type": "stream",
     "text": [
      "['SADIKTURAN', 'SENATURAN']\n"
     ]
    }
   ],
   "source": [
    "sonuc = [user[\"username\"].upper() for user in users if len(user[\"tweets\"])>0]\n",
    "print(sonuc)"
   ]
  },
  {
   "cell_type": "code",
   "execution_count": 35,
   "id": "916ee9cd",
   "metadata": {},
   "outputs": [
    {
     "name": "stdout",
     "output_type": "stream",
     "text": [
      "False\n"
     ]
    }
   ],
   "source": [
    "sonuc = all([True,True,False])\n",
    "#sonuc = all([True,True,True])\n",
    "#sonuc = any([True,False,False])\n",
    "\n",
    "# And => True and True => True => All()\n",
    "# Or  => True or False => True => Any()\n",
    "\n",
    "\n",
    "print(sonuc)"
   ]
  },
  {
   "cell_type": "code",
   "execution_count": 38,
   "id": "446ce7e1",
   "metadata": {},
   "outputs": [
    {
     "name": "stdout",
     "output_type": "stream",
     "text": [
      "True\n"
     ]
    }
   ],
   "source": [
    "sayilar = [0,1,3,6,8,9,10]\n",
    "\n",
    "sonuc = any([bool(sayi) for sayi in sayilar])\n",
    "print(sonuc)"
   ]
  },
  {
   "cell_type": "code",
   "execution_count": 39,
   "id": "becd981c",
   "metadata": {},
   "outputs": [
    {
     "name": "stdout",
     "output_type": "stream",
     "text": [
      "False\n"
     ]
    }
   ],
   "source": [
    "sonuc = all([bool(sayi) for sayi in sayilar])\n",
    "print(sonuc)"
   ]
  },
  {
   "cell_type": "code",
   "execution_count": 40,
   "id": "f7ca99df",
   "metadata": {},
   "outputs": [
    {
     "name": "stdout",
     "output_type": "stream",
     "text": [
      "True\n"
     ]
    }
   ],
   "source": [
    "sonuc = all([bool(sayi) for sayi in sayilar if sayi%2==1])\n",
    "print(sonuc)"
   ]
  },
  {
   "cell_type": "code",
   "execution_count": null,
   "id": "c2a6c594",
   "metadata": {},
   "outputs": [],
   "source": [
    "sonuc = all([sayi%2==0 for sayi in sayilar])\n",
    "print(sonuc)"
   ]
  },
  {
   "cell_type": "code",
   "execution_count": null,
   "id": "d076ddfc",
   "metadata": {},
   "outputs": [],
   "source": [
    "sonuc = any([sayi%2==0 for sayi in sayilar])\n",
    "print(sonuc)"
   ]
  },
  {
   "cell_type": "code",
   "execution_count": null,
   "id": "67e3b8db",
   "metadata": {},
   "outputs": [],
   "source": [
    "kisiler = [\"ali\",\"ahmet\",\"pinar\"]\n",
    "\n",
    "sonuc = any([kisi[0]=='a' for kisi in kisiler])\n",
    "print(sonuc)"
   ]
  },
  {
   "cell_type": "code",
   "execution_count": null,
   "id": "ef82f18f",
   "metadata": {},
   "outputs": [],
   "source": [
    "sonuc = all([kisi[0]=='a' for kisi in kisiler if kisi[0]=='a'])\n",
    "print(sonuc)"
   ]
  },
  {
   "cell_type": "code",
   "execution_count": 51,
   "id": "c44b4728",
   "metadata": {},
   "outputs": [],
   "source": [
    "isimler = [\"Ahmet\",\"ali\",\"mehmet\",\"DeNiz\"]\n",
    "string = \"Hello 123456 World.\"\n",
    "yillar = [1983, 1999, 2008, 1956, 1986]\n",
    "dereceler = [20,5,15,-2,0,-6]\n"
   ]
  },
  {
   "cell_type": "code",
   "execution_count": 43,
   "id": "8dae778d",
   "metadata": {},
   "outputs": [
    {
     "name": "stdout",
     "output_type": "stream",
     "text": [
      "[12, 24, 36, 48, 60, 72, 84, 96]\n"
     ]
    }
   ],
   "source": [
    "#1- \"1-100\" arasındaki sayılardan 12' e tam bölünebilen sayı listesi oluşturunuz.\n",
    "sonuc = [i for i in range(1,101) if i%3==0 if i%4==0]\n",
    "print(sonuc)"
   ]
  },
  {
   "cell_type": "code",
   "execution_count": 54,
   "id": "647eb267",
   "metadata": {},
   "outputs": [
    {
     "name": "stdout",
     "output_type": "stream",
     "text": [
      "['temha', 'ila', 'ranıç', 'zined']\n"
     ]
    }
   ],
   "source": [
    "#2- isimler listesindeki her ismi küçük harfe çevirip tersten yazdınız.\n",
    "sonuc = [i.lower()[::-1] for i in isimler]\n",
    "print(sonuc)"
   ]
  },
  {
   "cell_type": "code",
   "execution_count": 58,
   "id": "29c4959f",
   "metadata": {},
   "outputs": [
    {
     "name": "stdout",
     "output_type": "stream",
     "text": [
      "['1', '2', '3', '4', '5', '6']\n"
     ]
    }
   ],
   "source": [
    "#3- verilen \"string\" içindeki rakamları içeren bir liste oluşturunuz.\n",
    "sonuc = [i for i in string if i.isdigit()]\n",
    "print(sonuc)"
   ]
  },
  {
   "cell_type": "code",
   "execution_count": 60,
   "id": "e6bf5140",
   "metadata": {},
   "outputs": [
    {
     "name": "stdout",
     "output_type": "stream",
     "text": [
      "[38, 22, 13, 65, 35]\n"
     ]
    }
   ],
   "source": [
    "#4- \"yillar\" dizisindeki her doğum yılı için yaş bilgisini içeren liste oluşturunuz.\n",
    "import datetime\n",
    "simdi = datetime.datetime.now().year\n",
    "sonuc = [simdi - yil for yil in yillar]\n",
    "print(sonuc)"
   ]
  },
  {
   "cell_type": "code",
   "execution_count": 62,
   "id": "b3a6f014",
   "metadata": {},
   "outputs": [
    {
     "name": "stdout",
     "output_type": "stream",
     "text": [
      "[20, 5, 15, 'buzlanma', 0, 'buzlanma']\n"
     ]
    }
   ],
   "source": [
    "#5- \"dereceler\" listesinde bulunan hava sıcaklık bilgisine göre eksi değer için buzlanma tehlikesi yazdırınız.\n",
    "sonuc = [i if i>=0 else \"buzlanma\" for i in dereceler]\n",
    "print(sonuc)"
   ]
  },
  {
   "cell_type": "code",
   "execution_count": null,
   "id": "7cf2d788",
   "metadata": {},
   "outputs": [],
   "source": []
  }
 ],
 "metadata": {
  "interpreter": {
   "hash": "c2c440561eadd0fa45e88072f29f5326703e327b87d123de35331166474665ec"
  },
  "kernelspec": {
   "display_name": "Python 3",
   "language": "python",
   "name": "python3"
  },
  "language_info": {
   "codemirror_mode": {
    "name": "ipython",
    "version": 3
   },
   "file_extension": ".py",
   "mimetype": "text/x-python",
   "name": "python",
   "nbconvert_exporter": "python",
   "pygments_lexer": "ipython3",
   "version": "3.8.8"
  }
 },
 "nbformat": 4,
 "nbformat_minor": 5
}
