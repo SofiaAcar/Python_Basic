{
 "cells": [
  {
   "cell_type": "code",
   "execution_count": null,
   "id": "d2d84eb6",
   "metadata": {},
   "outputs": [],
   "source": [
    "Given a string of digits, return the longest substring \n",
    "with alternating odd/even or even/odd digits. \n",
    "If two or more substrings have the same length, \n",
    "return the substring that occurs first.\n",
    "\n",
    "Examples\n",
    "longest_substring(\"225424272163254474441338664823\") ➞ \"272163254\"\n",
    "# substrings = 254, 272163254, 474, 41, 38, 23\n",
    "\n",
    "longest_substring(\"594127169973391692147228678476\") ➞ \"16921472\"\n",
    "# substrings = 94127, 169, 16921472, 678, 476\n",
    "\n",
    "longest_substring(\"721449827599186159274227324466\") ➞ \"7214\"\n",
    "# substrings = 7214, 498, 27, 18, 61, 9274, 27, 32\n",
    "# 7214 and 9274 have same length, but 7214 occurs first.\n",
    "Notes\n",
    "The minimum alternating substring size is 2."
   ]
  },
  {
   "cell_type": "code",
   "execution_count": 2,
   "id": "24afa683",
   "metadata": {},
   "outputs": [
    {
     "name": "stdout",
     "output_type": "stream",
     "text": [
      "['94127', '169', '16921472', '678', '476']\n"
     ]
    },
    {
     "data": {
      "text/plain": [
       "'16921472'"
      ]
     },
     "execution_count": 2,
     "metadata": {},
     "output_type": "execute_result"
    }
   ],
   "source": [
    "def substring(string):\n",
    "  list_substring = []\n",
    "  k = 0\n",
    "  substring =\"\"\n",
    "  while k < len(string) - 1:\n",
    "    if k == len(string) -2 :\n",
    "      if int(string[k])%2 != int(string[k+1])%2:\n",
    "        substring += string[k:]\n",
    "        list_substring.append(substring)\n",
    "    elif int(string[k])%2 != int(string[k+1])%2:\n",
    "      substring += string[k]\n",
    "    else:\n",
    "      substring += string[k]\n",
    "      if len(substring) > 1:\n",
    "        list_substring.append(substring)\n",
    "      substring = \"\"\n",
    "    k += 1\n",
    "  print(list_substring)\n",
    "\n",
    "  max_lst =[]\n",
    "  for i in list_substring:\n",
    "    max_lst.append(len(i))\n",
    "  for k in list_substring:\n",
    "    if len(k) == max(max_lst):\n",
    "      return k\n",
    "\n",
    "substring(\"594127169973391692147228678476\")"
   ]
  },
  {
   "cell_type": "code",
   "execution_count": null,
   "id": "5c8ed138",
   "metadata": {},
   "outputs": [],
   "source": [
    "\"7214 498 27 599 18 61 5 9274 2 27 32 4466\") ➞ \"7214\"\n",
    "'7214', '498', '27', '18', '61', '9274', '27', '32'"
   ]
  },
  {
   "cell_type": "code",
   "execution_count": null,
   "id": "ed3960d4",
   "metadata": {},
   "outputs": [],
   "source": [
    "\"5 94127 169 97339 16921472 28 678 476\") ➞ \"16921472\"\n",
    "\"94127\", \"169\", \"16921472\", \"678\", \"476\""
   ]
  },
  {
   "cell_type": "code",
   "execution_count": null,
   "id": "c7ab860e",
   "metadata": {},
   "outputs": [],
   "source": []
  }
 ],
 "metadata": {
  "kernelspec": {
   "display_name": "Python 3",
   "language": "python",
   "name": "python3"
  },
  "language_info": {
   "codemirror_mode": {
    "name": "ipython",
    "version": 3
   },
   "file_extension": ".py",
   "mimetype": "text/x-python",
   "name": "python",
   "nbconvert_exporter": "python",
   "pygments_lexer": "ipython3",
   "version": "3.8.8"
  }
 },
 "nbformat": 4,
 "nbformat_minor": 5
}
