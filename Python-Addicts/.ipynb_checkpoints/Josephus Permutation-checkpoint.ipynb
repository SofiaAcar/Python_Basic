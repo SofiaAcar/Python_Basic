{
 "cells": [
  {
   "cell_type": "markdown",
   "id": "154c83e1",
   "metadata": {},
   "source": [
    "A group of n prisoners stand in a circle awaiting execution. \n",
    "Starting from an arbitrary position(0), the executioner \n",
    "kills every kth person until one person remains standing, \n",
    "who is then granted freedom (see examples).\n",
    "\n",
    "Create a function that takes 2 arguments — the number of people \n",
    "to be executed n, and the step size k, and returns the original \n",
    "position (index) of the person who survives.\n",
    "\n",
    "Examples\n",
    "who_goes_free(9, 2) ➞ 2\n",
    "\n",
    "# Prisoners = [0, 1, 2, 3, 4, 5, 6, 7, 8]\n",
    "# Executed people replaced by - (a dash) for illustration purposes.\n",
    "# 1st round of execution = [0, -, 2, -, 4, -, 6, -, 8]  -> [0, 2, 4, 6, 8]\n",
    "# 2nd round = [-, 2, -, 6, -] -> [2, 6]  # 0 is killed in this round because it's beside 8 who was skipped over.\n",
    "# 3rd round = [2, -]\n",
    "\n",
    "who_goes_free(9, 3) ➞ 0\n",
    "\n",
    "# [0, 1, 2, 3, 4, 5, 6, 7, 8]\n",
    "# [0, 1, -, 3, 4, -, 6, 7, -] -> [0, 1, 3, 4, 6, 7]\n",
    "# [0, 1, -, 4, 6, -] -> [0, 1, 4, 6]\n",
    "# [0, 1, -, 6] -> [0, 1, 6]\n",
    "# [0, -, 6] -> [0, 6]\n",
    "# [0, -] -> [0]\n",
    "Notes\n",
    "Refer to Resources tab for more info."
   ]
  },
  {
   "cell_type": "code",
   "execution_count": null,
   "id": "e6dc4ed4",
   "metadata": {},
   "outputs": [],
   "source": [
    "def who_goes_free(n, k):\n",
    "\tsoldier_list = list(range(n))\n",
    "\ti = 0\n",
    "\twhile len(soldier_list) > 1:\n",
    "\t\ti = (i+(k-1)) % len(soldier_list)\n",
    "\t\tsoldier_list.pop(i)\n",
    "\treturn soldier_list[0]"
   ]
  },
  {
   "cell_type": "code",
   "execution_count": null,
   "id": "522da40b",
   "metadata": {},
   "outputs": [],
   "source": [
    "def who_goes_free(n, k):\n",
    "    kalan = 0\n",
    "    prisoners = [i for i in range(n)]\n",
    "    while len(prisoners) > 1:\n",
    "        count = kalan\n",
    "        deleted = []\n",
    "        for i in prisoners:\n",
    "            if count % k == k - 1:\n",
    "                deleted.append(prisoners.index(i))\n",
    "            count += 1\n",
    "        if deleted != []:\n",
    "            kalan = (len(prisoners) - 1) - deleted[-1]\n",
    "        else:\n",
    "            kalan = count\n",
    "        for i in deleted[::-1]:\n",
    "            prisoners.pop(i)\n",
    "    print(prisoners)\n",
    "    \n",
    "who_goes_free(12, 6)"
   ]
  },
  {
   "cell_type": "code",
   "execution_count": null,
   "id": "db753adf",
   "metadata": {},
   "outputs": [],
   "source": [
    "def who_goes_free(n,k):\n",
    "    return 0 if n==1 else (who_goes_free(n-1, k) + k) % n"
   ]
  },
  {
   "cell_type": "code",
   "execution_count": 9,
   "id": "92cb4762",
   "metadata": {},
   "outputs": [
    {
     "data": {
      "text/plain": [
       "2"
      ]
     },
     "execution_count": 9,
     "metadata": {},
     "output_type": "execute_result"
    }
   ],
   "source": [
    "def who_goes_free(n, k):\n",
    "    pos = 0\n",
    "    for i in range(1, n + 1):\n",
    "        pos += k\n",
    "        pos %= i\n",
    "    return pos\n",
    "who_goes_free(9, 2)"
   ]
  },
  {
   "cell_type": "code",
   "execution_count": null,
   "id": "746913d2",
   "metadata": {},
   "outputs": [],
   "source": [
    "def who_goes_free(n, k):\n",
    "    lst = list(range(n))\n",
    "    while len(lst) > 1:\n",
    "        for i in range(k - 1):\n",
    "            lst = lst[1:] + [lst[0]]\n",
    "        lst = lst[1:]\n",
    "    return lst[0]"
   ]
  },
  {
   "cell_type": "code",
   "execution_count": 11,
   "id": "f723343d",
   "metadata": {},
   "outputs": [
    {
     "name": "stdout",
     "output_type": "stream",
     "text": [
      "0\n",
      "1\n",
      "1\n",
      "0\n",
      "3\n",
      "0\n",
      "3\n",
      "6\n",
      "0\n"
     ]
    }
   ],
   "source": [
    "\n",
    "p = 0\n",
    "for i in range(1, 10):\n",
    "    p += 3\n",
    "    p %= i\n",
    "    print(p)"
   ]
  }
 ],
 "metadata": {
  "kernelspec": {
   "display_name": "Python 3",
   "language": "python",
   "name": "python3"
  },
  "language_info": {
   "codemirror_mode": {
    "name": "ipython",
    "version": 3
   },
   "file_extension": ".py",
   "mimetype": "text/x-python",
   "name": "python",
   "nbconvert_exporter": "python",
   "pygments_lexer": "ipython3",
   "version": "3.8.8"
  }
 },
 "nbformat": 4,
 "nbformat_minor": 5
}
