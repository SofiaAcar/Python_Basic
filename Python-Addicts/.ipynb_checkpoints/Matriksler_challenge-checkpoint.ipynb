{
 "cells": [
  {
   "cell_type": "code",
   "execution_count": 1,
   "id": "7ab8c979",
   "metadata": {},
   "outputs": [
    {
     "name": "stdout",
     "output_type": "stream",
     "text": [
      "[[1, 2, 3], [1, 3, 2], [2, 1, 3], [2, 3, 1], [3, 1, 2], [3, 2, 1]]\n"
     ]
    }
   ],
   "source": [
    "lst = [1,2,3]\n",
    "lst_new = []\n",
    "for i in lst:\n",
    "    for j in lst:\n",
    "        for k in lst:\n",
    "            if i != j and j != k and i != k:\n",
    "                lst_new.append([i,j,k])\n",
    "print(lst_new)\n"
   ]
  },
  {
   "cell_type": "code",
   "execution_count": 2,
   "id": "87d80bb2",
   "metadata": {},
   "outputs": [
    {
     "name": "stdout",
     "output_type": "stream",
     "text": [
      "[[1, 2, 3], [2, 3, 1], [3, 1, 2], [1, 2, 3], [2, 3, 1], [3, 1, 2]]\n"
     ]
    }
   ],
   "source": [
    "list1 = [1, 2, 3]\n",
    "i = 1\n",
    "fact = 1\n",
    "while i < len(list1) + 1 :\n",
    "    fact *= i\n",
    "    i += 1\n",
    "i = 1\n",
    "fact_dict = {}\n",
    "while i < fact + 1:\n",
    "    fact_dict[i] = []\n",
    "    i += 1\n",
    "\n",
    "indx= 0 \n",
    "for i in range(len(list1)):\n",
    "    for k in range(1, fact+1):\n",
    "        fact_dict[k].append(list1[indx])\n",
    "        indx += 1\n",
    "        if indx == len(list1):\n",
    "            indx = 0\n",
    "    indx += 1   \n",
    "       \n",
    "print(list(fact_dict.values()))"
   ]
  }
 ],
 "metadata": {
  "kernelspec": {
   "display_name": "Python 3",
   "language": "python",
   "name": "python3"
  },
  "language_info": {
   "codemirror_mode": {
    "name": "ipython",
    "version": 3
   },
   "file_extension": ".py",
   "mimetype": "text/x-python",
   "name": "python",
   "nbconvert_exporter": "python",
   "pygments_lexer": "ipython3",
   "version": "3.8.8"
  }
 },
 "nbformat": 4,
 "nbformat_minor": 5
}
