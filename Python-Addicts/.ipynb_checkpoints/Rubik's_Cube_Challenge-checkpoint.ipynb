{
 "cells": [
  {
   "cell_type": "markdown",
   "id": "c7a3b0a5",
   "metadata": {},
   "source": [
    "Matt wants to make Rubik Cubes. These Rubiks should be in the shape of a full cube, and it shouldn't have any missing parts.\n",
    "This is a full cube:\n",
    "This is not a full cube:\n",
    "And he asks his friend to draw some patterns. When his friend gives him these Rubik's Cube patterns, he realizes that some of them are wrong or missing. Help him identify them!\n",
    "\n",
    "The small cubes that make up the Rubik's Cube will be denoted by \"O\".\n",
    "\n",
    "Return \"Full\" if the Rubik Cube is full and no part is missing.\n",
    "Return \"Non-Full\" if the Rubik Cube is non-full and no part is missing.\n",
    "Return \"Missing {number of missing parts}\" if the Rubik Cube has missing parts.\n",
    "Examples\n",
    "identify(\n",
    "  [\"O\", \"O\", \"O\"],\n",
    "  [\"O\", \"O\", \"O\"],\n",
    "  [\"O\", \"O\", \"O\"]\n",
    ") ➞ \"Full\"\n",
    "\n",
    " This is 3x3 full Rubik's Cube.\n",
    " So we should return \"Full\"\n",
    "identify(\n",
    "  [\"O\", \"O\", \"O\"],\n",
    "  [\"O\", \"O\", \"O\"]\n",
    ") ➞ \"Non-Full\"\n",
    "\n",
    " This is a 2x3 Rubik's Cube.\n",
    " It's not full, so we should return \"Non-Full\".\n",
    "identify(\n",
    "  [\"O\", \"O\"],\n",
    "  [\"O\", \"O\", \"O\"],\n",
    "  [\"O\", \"O\", \"O\"]\n",
    ") ➞ \"Missing 1\"\n",
    "\n",
    " This is almost a 3x3 Rubik's Cube with one missing part.\n",
    " We should return \"Missing 1\".\n",
    "Notes\n",
    "Every cubic (small part of a Rubik's Cube) will be denoted by \"O\". There won't be any other type.\n",
    "Don't forget to return by paying attention to capital letters."
   ]
  },
  {
   "cell_type": "markdown",
   "id": "7bf516df",
   "metadata": {},
   "source": [
    "def identify( *cube):\n",
    "    return \"Missing {}\".format(cube.count(min(cube))) if min(cube) != max(cube) else \"Non-Full\"if cube.count(min(cube)) != len(min(cube)) else \"Full\"\n",
    "identify(\n",
    "  [\"O\", \"O\", \"O\"],\n",
    "  [\"O\", \"O\", \"O\"]\n",
    ") "
   ]
  },
  {
   "cell_type": "code",
   "execution_count": 18,
   "id": "82388b71",
   "metadata": {},
   "outputs": [
    {
     "name": "stdout",
     "output_type": "stream",
     "text": [
      "non full\n"
     ]
    }
   ],
   "source": [
    "def identify(*kup):\n",
    "    kup=list(kup)\n",
    "    \n",
    "    sayac=0\n",
    "    for i in kup:\n",
    "        sayac+=1\n",
    "    if sayac==3:\n",
    "        toplam=0\n",
    "        for j in kup:\n",
    "             toplam+=len(j)\n",
    "        if toplam==9:\n",
    "            print(\"full\")\n",
    "        else:print(\"missing values\")\n",
    "    else:print(\"non full\")\n",
    "\n",
    "identify([\"O\", \"O\", \"O\"],\n",
    "  [\"O\", \"O\", \"O\"])"
   ]
  },
  {
   "cell_type": "code",
   "execution_count": 9,
   "id": "acc86dd6",
   "metadata": {},
   "outputs": [
    {
     "name": "stdout",
     "output_type": "stream",
     "text": [
      "Missing 1\n"
     ]
    }
   ],
   "source": [
    "def identify(*args):\n",
    "    sayac = 0\n",
    "    genislik = 0\n",
    "    for i in args:\n",
    "        for j in i:\n",
    "            sayac += 1\n",
    "        genislik = len(args[-1])\n",
    "    if sayac == (genislik**2):\n",
    "        return \"Full\"\n",
    "    elif sayac == ((genislik**2)-1):\n",
    "        return \"Missing 1\"\n",
    "    else:\n",
    "        return \"Non-Full\"\n",
    "print(identify(  [\"O\", \"O\",\"O\"],\n",
    "  [\"O\", \"O\", \"O\", \"O\"],\n",
    "  [\"O\", \"O\", \"O\",\"O\"],[\"O\", \"O\", \"O\",\"O\"]))"
   ]
  },
  {
   "cell_type": "code",
   "execution_count": null,
   "id": "57d7e053",
   "metadata": {},
   "outputs": [],
   "source": []
  },
  {
   "cell_type": "code",
   "execution_count": null,
   "id": "ffcf3cad",
   "metadata": {},
   "outputs": [],
   "source": []
  }
 ],
 "metadata": {
  "kernelspec": {
   "display_name": "Python 3",
   "language": "python",
   "name": "python3"
  },
  "language_info": {
   "codemirror_mode": {
    "name": "ipython",
    "version": 3
   },
   "file_extension": ".py",
   "mimetype": "text/x-python",
   "name": "python",
   "nbconvert_exporter": "python",
   "pygments_lexer": "ipython3",
   "version": "3.8.8"
  }
 },
 "nbformat": 4,
 "nbformat_minor": 5
}
