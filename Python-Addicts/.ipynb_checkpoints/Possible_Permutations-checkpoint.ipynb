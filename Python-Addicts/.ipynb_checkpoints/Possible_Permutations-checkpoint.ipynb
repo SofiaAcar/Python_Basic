{
 "cells": [
  {
   "cell_type": "markdown",
   "id": "19673a91",
   "metadata": {},
   "source": [
    "Problem :\n",
    "Given a collection of distinct integers, return all possible permutations.\n",
    "Example:\n",
    "Input:\n",
    "[1,2,3]\n",
    "Output:\n",
    "[\n",
    "  [1,2,3],\n",
    "  [1,3,2],\n",
    "  [2,1,3],\n",
    "  [2,3,1],\n",
    "  [3,1,2],\n",
    "  [3,2,1]\n",
    "]"
   ]
  },
  {
   "cell_type": "code",
   "execution_count": 13,
   "id": "9267fd36",
   "metadata": {},
   "outputs": [
    {
     "name": "stdout",
     "output_type": "stream",
     "text": [
      "[1, 2, 3]\n",
      "[1, 3, 2]\n",
      "[2, 1, 3]\n",
      "[2, 3, 1]\n",
      "[3, 2, 1]\n",
      "[3, 1, 2]\n"
     ]
    }
   ],
   "source": [
    "def permütasyon(num, i=0):\n",
    "    if i == len(num):\n",
    "        print (num)\n",
    "    else:\n",
    "        for x in range(i, len(num)):\n",
    "            num[i], num[x] = num[x] ,num[i]\n",
    "            permütasyon(num, i+1)\n",
    "            num[i], num[x] = num[x], num[i]\n",
    "permütasyon([1,2,3])"
   ]
  },
  {
   "cell_type": "code",
   "execution_count": 12,
   "id": "25d56cfc",
   "metadata": {},
   "outputs": [
    {
     "name": "stdout",
     "output_type": "stream",
     "text": [
      "[[1, 2, 3], [1, 3, 2], [2, 1, 3], [2, 3, 1], [3, 1, 2], [3, 2, 1]]\n"
     ]
    }
   ],
   "source": [
    "lst = [1,2,3]\n",
    "lst_new = []\n",
    "for i in lst:\n",
    "    for j in lst:\n",
    "        for k in lst:\n",
    "            if i != j and j != k and i != k:\n",
    "                lst_new.append([i,j,k])\n",
    "print(lst_new)"
   ]
  },
  {
   "cell_type": "code",
   "execution_count": 11,
   "id": "2b7fd4c1",
   "metadata": {},
   "outputs": [
    {
     "name": "stdout",
     "output_type": "stream",
     "text": [
      "[[1, 2, 3], [1, 3, 2], [2, 1, 3], [2, 3, 1], [3, 1, 2], [3, 2, 1]]\n"
     ]
    }
   ],
   "source": [
    "lst = [1,2,3]\n",
    "perm = [[a,b,c]\n",
    "        for a in lst\n",
    "        for b in lst\n",
    "        for c in lst\n",
    "        if (a != b and b!=c and a!=c)\n",
    "        ]\n",
    "print(perm)"
   ]
  },
  {
   "cell_type": "code",
   "execution_count": 17,
   "id": "348fd413",
   "metadata": {},
   "outputs": [
    {
     "name": "stdout",
     "output_type": "stream",
     "text": [
      "[[1, 2, 3], [1, 3, 2], [2, 1, 3], [2, 3, 1], [3, 1, 2], [3, 2, 1]]\n"
     ]
    }
   ],
   "source": [
    "def permütasyon(lst):\n",
    "    halit=[]\n",
    "    y=0\n",
    "    for i in lst:\n",
    "        x=lst.index(i)\n",
    "        z=lst.index(i)\n",
    "        halit.append(lst[x:]+lst[:y])\n",
    "        z=sorted(lst,reverse=True)\n",
    "        halit.append(z[x:]+z[:y])\n",
    "        y+=1\n",
    "        k=sorted(halit)     \n",
    "    return k\n",
    "print(permütasyon([1,2,3]))"
   ]
  },
  {
   "cell_type": "code",
   "execution_count": 26,
   "id": "5053bf81",
   "metadata": {},
   "outputs": [
    {
     "data": {
      "text/plain": [
       "[3]"
      ]
     },
     "execution_count": 26,
     "metadata": {},
     "output_type": "execute_result"
    }
   ],
   "source": [
    "lst = [1,2,3]\n",
    "lst[2:]"
   ]
  },
  {
   "cell_type": "code",
   "execution_count": 28,
   "id": "7b38abf5",
   "metadata": {},
   "outputs": [
    {
     "data": {
      "text/plain": [
       "[1, 2]"
      ]
     },
     "execution_count": 28,
     "metadata": {},
     "output_type": "execute_result"
    }
   ],
   "source": [
    "lst[:2]"
   ]
  }
 ],
 "metadata": {
  "kernelspec": {
   "display_name": "Python 3",
   "language": "python",
   "name": "python3"
  },
  "language_info": {
   "codemirror_mode": {
    "name": "ipython",
    "version": 3
   },
   "file_extension": ".py",
   "mimetype": "text/x-python",
   "name": "python",
   "nbconvert_exporter": "python",
   "pygments_lexer": "ipython3",
   "version": "3.8.8"
  }
 },
 "nbformat": 4,
 "nbformat_minor": 5
}
