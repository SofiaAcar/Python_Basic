{
 "cells": [
  {
   "cell_type": "markdown",
   "id": "c692f17a",
   "metadata": {},
   "source": [
    "# Exercise1\n",
    "Write a Python code that displays the unique vowels found in a word entered by the user."
   ]
  },
  {
   "cell_type": "code",
   "execution_count": 5,
   "id": "fe8824b3",
   "metadata": {},
   "outputs": [
    {
     "data": {
      "text/plain": [
       "{'a', 'u'}"
      ]
     },
     "execution_count": 5,
     "metadata": {},
     "output_type": "execute_result"
    }
   ],
   "source": [
    "# List all the vowels\n",
    "vowels = ['a', 'e', 'i', 'o', 'u']\n",
    "#string = input (\"provide a string to search vowels:\")\n",
    "string = \"Clarusway\"\n",
    "found = set([letter for letter in string if letter in vowels])\n",
    "found\n",
    "#iterate the string"
   ]
  },
  {
   "cell_type": "markdown",
   "id": "e470ffe6",
   "metadata": {},
   "source": [
    "# Exercise2\n",
    "Write a Python program to find those numbers which satisfies the following bullets:\n",
    "\n",
    "- divisible by 7\n",
    "- multiple of 3\n",
    "- between 100 and 500 (both included)."
   ]
  },
  {
   "cell_type": "code",
   "execution_count": 26,
   "id": "fcdf8bb6",
   "metadata": {},
   "outputs": [
    {
     "name": "stdout",
     "output_type": "stream",
     "text": [
      "[105, 112, 119, 126, 133, 140, 147, 154, 161, 168, 175, 182, 189, 196, 203, 210, 217, 224, 231, 238, 245, 252, 259, 266, 273, 280, 287, 294, 301, 308, 315, 322, 329, 336, 343, 350, 357, 364, 371, 378, 385, 392, 399, 406, 413, 420, 427, 434, 441, 448, 455, 462, 469, 476, 483, 490, 497]\n"
     ]
    }
   ],
   "source": [
    "numbers =[i for i in range(100,501) if i%7==0 & i//3==0]\n",
    "print(numbers)"
   ]
  },
  {
   "cell_type": "markdown",
   "id": "8eb01c49",
   "metadata": {},
   "source": [
    "# Exercise3\n",
    "Write a Python program that accepts the string and calculates the number of digits and letters in the string seperately."
   ]
  },
  {
   "cell_type": "code",
   "execution_count": 31,
   "id": "7ecee01a",
   "metadata": {},
   "outputs": [
    {
     "name": "stdout",
     "output_type": "stream",
     "text": [
      "Bu stringte 28 tane harf, 4 tane rakam vardir.\n"
     ]
    }
   ],
   "source": [
    "string =\"Clarusway has 500+ students and 4 paths.\"\n",
    "digits = 0\n",
    "letters = 0\n",
    "for i in string:\n",
    "    if i.isdigit():\n",
    "        digits+=1\n",
    "    elif i.isalpha():\n",
    "        letters +=1\n",
    "print(f\"Bu stringte {letters} tane harf, {digits} tane rakam vardir.\")\n"
   ]
  },
  {
   "cell_type": "markdown",
   "id": "ef8fcdc2",
   "metadata": {},
   "source": [
    "# Exercise4\n",
    "Write a Python program that calculates a square root using Newton's Method."
   ]
  },
  {
   "cell_type": "code",
   "execution_count": 34,
   "id": "8edb1a19",
   "metadata": {},
   "outputs": [
    {
     "name": "stdout",
     "output_type": "stream",
     "text": [
      "Enter a number to calculate its square root: 49\n",
      "How many iterations?: 5\n",
      "7.001406475243939\n"
     ]
    }
   ],
   "source": [
    "x = int(input(\"Enter a number to calculate its square root: \"))\n",
    "iteration = int(input(\"How many iterations?: \"))\n",
    "r=x\n",
    "for i in range (iteration):\n",
    "    r = (r+x/r)/2\n",
    "print(r)"
   ]
  },
  {
   "cell_type": "code",
   "execution_count": null,
   "id": "3d6ca5b7",
   "metadata": {},
   "outputs": [],
   "source": []
  },
  {
   "cell_type": "markdown",
   "id": "801766d6",
   "metadata": {},
   "source": [
    "# Exercise5\n",
    "Program to remove vowels from a String"
   ]
  },
  {
   "cell_type": "code",
   "execution_count": 42,
   "id": "23661a67",
   "metadata": {},
   "outputs": [
    {
     "name": "stdout",
     "output_type": "stream",
     "text": [
      "clrswy\n"
     ]
    }
   ],
   "source": [
    "string = \"Clarusway\".lower()\n",
    "vowels = ['a', 'e', 'i', 'o', 'u']\n",
    "for i in string:\n",
    "    if i in vowels:\n",
    "        string=string.replace(i, \"\")\n",
    "print(string)\n",
    "\n"
   ]
  },
  {
   "cell_type": "markdown",
   "id": "b489aa01",
   "metadata": {},
   "source": [
    "# Exercise6\n",
    "Given a string of odd length greater 7, return a string made of the middle three chars of a given String"
   ]
  },
  {
   "cell_type": "code",
   "execution_count": 48,
   "id": "468d9d12",
   "metadata": {},
   "outputs": [
    {
     "data": {
      "text/plain": [
       "'rus'"
      ]
     },
     "execution_count": 48,
     "metadata": {},
     "output_type": "execute_result"
    }
   ],
   "source": [
    "string = \"Clarusway\"\n",
    "string[string.index(\"rus\"):string.index(\"rus\")+len(\"rus\")]"
   ]
  },
  {
   "cell_type": "markdown",
   "id": "60d2fba7",
   "metadata": {},
   "source": [
    "# Exercise7\n",
    "Given 2 strings, s1 and s2, create a new string by appending s2 in the middle of s1"
   ]
  },
  {
   "cell_type": "code",
   "execution_count": 59,
   "id": "cd4c952e",
   "metadata": {},
   "outputs": [
    {
     "data": {
      "text/plain": [
       "'Best Clarusway Camp '"
      ]
     },
     "execution_count": 59,
     "metadata": {},
     "output_type": "execute_result"
    }
   ],
   "source": [
    "s1 = \"Bestcamp \"\n",
    "s2 = \"Clarusway\"\n",
    "mix= int(len(s1)//2)\n",
    "mixi= s1[ :mix] + \" \"+  s2 +\" \"+ s1[mix: ].title()\n",
    "print(mixi)"
   ]
  },
  {
   "cell_type": "markdown",
   "id": "0008902f",
   "metadata": {},
   "source": [
    "# Exercise8\n",
    "Given 2 strings, s1, and s2 return a new string made of the first, middle and last char each input string"
   ]
  },
  {
   "cell_type": "code",
   "execution_count": 62,
   "id": "b17140b7",
   "metadata": {},
   "outputs": [
    {
     "name": "stdout",
     "output_type": "stream",
     "text": [
      "ACruay\n"
     ]
    }
   ],
   "source": [
    "s1 = \"America\"\n",
    "s2 = \"Clarusway\"\n",
    "print(s1[0] + s2 [0] + s1[int(len(s1)/2)] + s2[int(len(s2)/2)] + s1[-1] + s2[-1])"
   ]
  },
  {
   "cell_type": "markdown",
   "id": "c35649f3",
   "metadata": {},
   "source": [
    "# Exercise9\n",
    "Arrange String characters such that lowercase letters should come first"
   ]
  },
  {
   "cell_type": "code",
   "execution_count": 61,
   "id": "e3671cea",
   "metadata": {},
   "outputs": [
    {
     "name": "stdout",
     "output_type": "stream",
     "text": [
      "yaivePNT\n"
     ]
    }
   ],
   "source": [
    "Str = \"PyNaTive\"\n",
    "lwr, spr = \"\", \"\"\n",
    "for i in Str:\n",
    "    if i.isupper():\n",
    "         spr +=i\n",
    "    else:\n",
    "        lwr +=i\n",
    "print(lwr+spr)"
   ]
  },
  {
   "cell_type": "code",
   "execution_count": null,
   "id": "ac0b4854",
   "metadata": {},
   "outputs": [],
   "source": []
  },
  {
   "cell_type": "code",
   "execution_count": null,
   "id": "46f92dd3",
   "metadata": {},
   "outputs": [],
   "source": []
  }
 ],
 "metadata": {
  "kernelspec": {
   "display_name": "Python 3",
   "language": "python",
   "name": "python3"
  },
  "language_info": {
   "codemirror_mode": {
    "name": "ipython",
    "version": 3
   },
   "file_extension": ".py",
   "mimetype": "text/x-python",
   "name": "python",
   "nbconvert_exporter": "python",
   "pygments_lexer": "ipython3",
   "version": "3.8.8"
  }
 },
 "nbformat": 4,
 "nbformat_minor": 5
}
