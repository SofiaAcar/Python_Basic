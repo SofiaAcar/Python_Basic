{
 "cells": [
  {
   "cell_type": "markdown",
   "id": "5f419af5",
   "metadata": {},
   "source": [
    "Write a program that accepts a comma separated sequence of words as input and prints the words in a comma-separated sequence after sorting them alphabetically.\n",
    "Suppose the following input is supplied to the program:\n",
    "without,hello,bag,world\n",
    "Then, the output should be:\n",
    "bag,hello,without,world"
   ]
  },
  {
   "cell_type": "code",
   "execution_count": null,
   "id": "f09dc67c",
   "metadata": {},
   "outputs": [],
   "source": [
    "def comma(string):\n",
    "    liste = string.split(\",\")\n",
    "    liste1 = []\n",
    "    for i in liste:\n",
    "        liste1.append(i.lower())\n",
    "    return sorted(liste1)\n",
    "comma(\"steive,dustin,Bean,Enzo,murat,adsum,muhammet,burak\")"
   ]
  },
  {
   "cell_type": "code",
   "execution_count": 1,
   "id": "0a638f6a",
   "metadata": {},
   "outputs": [
    {
     "data": {
      "text/plain": [
       "['adsum', 'bean', 'burak', 'dustin', 'enzo', 'muhammet', 'murat', 'steive']"
      ]
     },
     "execution_count": 1,
     "metadata": {},
     "output_type": "execute_result"
    }
   ],
   "source": [
    "def ayir(words):\n",
    "    return sorted([i.lower() for i in words.split(\",\")])\n",
    "ayir(\"steive,dustin,Bean,Enzo,murat,adsum,muhammet,burak\")"
   ]
  },
  {
   "cell_type": "code",
   "execution_count": null,
   "id": "10955ff5",
   "metadata": {},
   "outputs": [],
   "source": []
  }
 ],
 "metadata": {
  "kernelspec": {
   "display_name": "Python 3",
   "language": "python",
   "name": "python3"
  },
  "language_info": {
   "codemirror_mode": {
    "name": "ipython",
    "version": 3
   },
   "file_extension": ".py",
   "mimetype": "text/x-python",
   "name": "python",
   "nbconvert_exporter": "python",
   "pygments_lexer": "ipython3",
   "version": "3.8.8"
  }
 },
 "nbformat": 4,
 "nbformat_minor": 5
}
