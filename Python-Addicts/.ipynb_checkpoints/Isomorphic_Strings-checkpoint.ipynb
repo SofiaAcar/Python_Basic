{
 "cells": [
  {
   "cell_type": "markdown",
   "id": "b0581292",
   "metadata": {},
   "source": [
    "Given two strings s and t, create a function to determine if they are isomorphic. Two strings are isomorphic if the characters in s can be replaced to get t. All occurrences of a character must be replaced with another character while preserving the order of characters. No two characters may map to the same character but a character may map to itself.\n",
    "\n",
    "Examples\n",
    "is_isomorphic(\"egg\", \"add\") ➞ True\n",
    "\n",
    "is_isomorphic(\"aba\", \"baa\") ➞ False\n",
    "\n",
    "is_isomorphic(\"paper\", \"title\") ➞ True"
   ]
  },
  {
   "cell_type": "code",
   "execution_count": 1,
   "id": "9394627f",
   "metadata": {},
   "outputs": [
    {
     "data": {
      "text/plain": [
       "True"
      ]
     },
     "execution_count": 1,
     "metadata": {},
     "output_type": "execute_result"
    }
   ],
   "source": [
    "def is_isomorphic(string1, string2):\n",
    "    dct = {}\n",
    "    for i in range(len(string1)):\n",
    "        if len(string1) != len(string2) :\n",
    "            return False\n",
    "            break\n",
    "        elif string1[i] in dct.keys():\n",
    "            if dct[string1[i]] == string2[i]:\n",
    "                continue\n",
    "            else:\n",
    "                return False\n",
    "        else:\n",
    "            if string2[i] in dct.values():\n",
    "                return False\n",
    "            else:\n",
    "                dct[string1[i]] = string2[i]\n",
    "\n",
    "    return True\n",
    "\n",
    "is_isomorphic(\"eggaa\", \"addss\")"
   ]
  },
  {
   "cell_type": "code",
   "execution_count": 2,
   "id": "c7a9cbb1",
   "metadata": {},
   "outputs": [
    {
     "data": {
      "text/plain": [
       "True"
      ]
     },
     "execution_count": 2,
     "metadata": {},
     "output_type": "execute_result"
    }
   ],
   "source": [
    "def isomorphic_strings(text_1, text_2):\n",
    "    dictt = {}\n",
    "    count = 0\n",
    "    result = True\n",
    "    for i in text_1:\n",
    "        if i not in dictt.keys():\n",
    "            dictt[i] = text_2[count]\n",
    "            count += 1\n",
    "        else:\n",
    "            if dictt[i] == text_2[count]:\n",
    "                count += 1\n",
    "                continue\n",
    "            else:\n",
    "                result = False\n",
    "                break\n",
    "    return result\n",
    "\n",
    "isomorphic_strings(\"paper\", \"title\")"
   ]
  },
  {
   "cell_type": "code",
   "execution_count": 3,
   "id": "ff2d5ee7",
   "metadata": {},
   "outputs": [
    {
     "data": {
      "text/plain": [
       "True"
      ]
     },
     "execution_count": 3,
     "metadata": {},
     "output_type": "execute_result"
    }
   ],
   "source": [
    "def is_isomorphic(s, t):\n",
    "    s_dicct,t_dicct ={},{}\n",
    "    if len(s) != len(t):\n",
    "        return False\n",
    "    for i in range(len(t)):\n",
    "        si, ti = s[i], t[i]\n",
    "        if si not in s_dicct:\n",
    "            s_dicct[si] = ti\n",
    "        if ti not in t_dicct:\n",
    "            t_dicct[ti] = si\n",
    "        if t_dicct[ti] !=  si or s_dicct[si] != ti:\n",
    "            return False\n",
    "    return True\n",
    "is_isomorphic(\"paper\", \"title\")"
   ]
  },
  {
   "cell_type": "code",
   "execution_count": null,
   "id": "57fd8a1e",
   "metadata": {},
   "outputs": [],
   "source": [
    "def morfic(a,b):\n",
    "    first_list=[a.count(a[i]) for i in range(len(a)) if a[i] in a]\n",
    "    second_list = [b.count(b[j]) for j in range(len(b)) if b[j] in b]\n",
    "    if first_list==second_list:return True\n",
    "    else: return False\n",
    "print(morfic(\"paper\", \"title\"))"
   ]
  },
  {
   "cell_type": "code",
   "execution_count": 4,
   "id": "c3d0c259",
   "metadata": {},
   "outputs": [
    {
     "name": "stdout",
     "output_type": "stream",
     "text": [
      "True\n"
     ]
    }
   ],
   "source": [
    "def izomorfik(n,k):\n",
    "    t=0\n",
    "    for i in n:\n",
    "        for j in k: \n",
    "            y=k.index(j)\n",
    "            if y==t:\n",
    "                x=n.replace(i,j)\n",
    "                n=x\n",
    "        t+=1   \n",
    "    if n==k:\n",
    "        return True\n",
    "    else:\n",
    "        return False\n",
    "print(izomorfik(\"paper\", \"title\"))"
   ]
  },
  {
   "cell_type": "code",
   "execution_count": null,
   "id": "6844197d",
   "metadata": {},
   "outputs": [],
   "source": []
  }
 ],
 "metadata": {
  "kernelspec": {
   "display_name": "Python 3",
   "language": "python",
   "name": "python3"
  },
  "language_info": {
   "codemirror_mode": {
    "name": "ipython",
    "version": 3
   },
   "file_extension": ".py",
   "mimetype": "text/x-python",
   "name": "python",
   "nbconvert_exporter": "python",
   "pygments_lexer": "ipython3",
   "version": "3.8.8"
  }
 },
 "nbformat": 4,
 "nbformat_minor": 5
}
