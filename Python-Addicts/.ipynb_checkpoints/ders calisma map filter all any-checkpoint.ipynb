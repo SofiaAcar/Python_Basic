{
 "cells": [
  {
   "cell_type": "code",
   "execution_count": 3,
   "id": "bfcf3f8a",
   "metadata": {},
   "outputs": [
    {
     "name": "stdout",
     "output_type": "stream",
     "text": [
      "[[1, 2, 3], [1, 3, 2], [2, 1, 3], [2, 3, 1], [3, 1, 2], [3, 2, 1]]\n"
     ]
    }
   ],
   "source": [
    "lst = [1,2,3]\n",
    "lst_new = []\n",
    "for i in lst:\n",
    "    for j in lst:\n",
    "        for k in lst:\n",
    "            if i != j and j != k and i != k:\n",
    "                lst_new.append([i,j,k])\n",
    "print(lst_new)\n"
   ]
  },
  {
   "cell_type": "code",
   "execution_count": 4,
   "id": "14bad69b",
   "metadata": {},
   "outputs": [
    {
     "name": "stdout",
     "output_type": "stream",
     "text": [
      "[[1, 2, 3], [2, 3, 1], [3, 1, 2], [1, 2, 3], [2, 3, 1], [3, 1, 2]]\n"
     ]
    }
   ],
   "source": [
    "list1 = [1, 2, 3]\n",
    "i = 1\n",
    "fact = 1\n",
    "while i < len(list1) + 1 :\n",
    "    fact *= i\n",
    "    i += 1\n",
    "i = 1\n",
    "fact_dict = {}\n",
    "while i < fact + 1:\n",
    "    fact_dict[i] = []\n",
    "    i += 1\n",
    "\n",
    "indx= 0 \n",
    "for i in range(len(list1)):\n",
    "    for k in range(1, fact+1):\n",
    "        fact_dict[k].append(list1[indx])\n",
    "        indx += 1\n",
    "        if indx == len(list1):\n",
    "            indx = 0\n",
    "    indx += 1   \n",
    "       \n",
    "print(list(fact_dict.values()))"
   ]
  },
  {
   "cell_type": "code",
   "execution_count": 5,
   "id": "93bf64c2",
   "metadata": {},
   "outputs": [
    {
     "name": "stdout",
     "output_type": "stream",
     "text": [
      "[1, 4, 9, 16, 25, 36, 49, 64]\n",
      "[1, 2, 3, 4, 5, 6, 7, 8]\n",
      "[1, 2, 3, 4, 5, 6, 7, 8]\n"
     ]
    }
   ],
   "source": [
    "sayilar = [1, -2, 3, -4, 5, 6, 7, 8]\n",
    "sayilar2 = [\"1\", \"2\", \"3\", \"4\", \"5\", \"6\", \"7\", \"8\"]\n",
    "sonuc = list(map(lambda sayi: sayi ** 2, sayilar))\n",
    "print(sonuc)\n",
    "sonuc = list(map(int, sayilar2))\n",
    "print(sonuc)\n",
    "sonuc = list(map(abs,sayilar))\n",
    "print(sonuc)"
   ]
  },
  {
   "cell_type": "code",
   "execution_count": 6,
   "id": "d371305a",
   "metadata": {},
   "outputs": [
    {
     "name": "stdout",
     "output_type": "stream",
     "text": [
      "[1.0, -2.0, 3.0, -4.0, 5.0, 6.0, 7.0, 8.0]\n"
     ]
    }
   ],
   "source": [
    "sonuc = list(map(float,sayilar))\n",
    "print(sonuc)"
   ]
  },
  {
   "cell_type": "code",
   "execution_count": 9,
   "id": "a0782ee2",
   "metadata": {},
   "outputs": [
    {
     "name": "stdout",
     "output_type": "stream",
     "text": [
      "[3, 5, 4, 5]\n"
     ]
    }
   ],
   "source": [
    "isimler = [\"Ali\", \"Deniz\", \"Ayse\", \"Murat\"]\n",
    "sonuc = list(map(len,isimler))\n",
    "print(sonuc)"
   ]
  },
  {
   "cell_type": "code",
   "execution_count": 10,
   "id": "f82317c5",
   "metadata": {},
   "outputs": [
    {
     "name": "stdout",
     "output_type": "stream",
     "text": [
      "['ali', 'deniz', 'ayse', 'murat']\n"
     ]
    }
   ],
   "source": [
    "isimler = [\"Ali\", \"Deniz\", \"Ayse\", \"Murat\"]\n",
    "sonuc = list(map(str.lower,isimler))\n",
    "print(sonuc)"
   ]
  },
  {
   "cell_type": "code",
   "execution_count": 12,
   "id": "9cb43213",
   "metadata": {},
   "outputs": [],
   "source": [
    "kullanicilar = [\n",
    "    {\"ad\": \"ali\", \"soyad\":\"Yılmaz\"},\n",
    "    {\"ad\": \"ahmet\", \"soyad\":\"Yılmaz\"} ]"
   ]
  },
  {
   "cell_type": "code",
   "execution_count": 13,
   "id": "864fcd3a",
   "metadata": {},
   "outputs": [
    {
     "name": "stdout",
     "output_type": "stream",
     "text": [
      "['ali', 'ahmet']\n"
     ]
    }
   ],
   "source": [
    "sonuc = list(map(lambda x: x[\"ad\"], kullanicilar))\n",
    "print(sonuc)"
   ]
  },
  {
   "cell_type": "code",
   "execution_count": 14,
   "id": "8951fbab",
   "metadata": {},
   "outputs": [
    {
     "name": "stdout",
     "output_type": "stream",
     "text": [
      "['SADIKTURAN', 'SENATURAN']\n"
     ]
    }
   ],
   "source": [
    "yaslar = [5,12,18,24,45]\n",
    "\n",
    "def yetiskinmi(x):\n",
    "    if x<18:\n",
    "        return False\n",
    "    else: \n",
    "        return True"
   ]
  },
  {
   "cell_type": "code",
   "execution_count": 16,
   "id": "816721d9",
   "metadata": {},
   "outputs": [
    {
     "name": "stdout",
     "output_type": "stream",
     "text": [
      "[18, 24, 45]\n"
     ]
    }
   ],
   "source": [
    "sonuc = list(filter(yetiskinmi, yaslar))\n",
    "sonuc = list(filter(lambda x: x>=18, yaslar))\n",
    "print(sonuc)"
   ]
  },
  {
   "cell_type": "code",
   "execution_count": null,
   "id": "3af15a86",
   "metadata": {},
   "outputs": [],
   "source": [
    "sayilar = [0,1,25,6,8,9]\n",
    "sonuc = list(filter(lambda x: x%2!=0, sayilar))\n",
    "print(sonuc)"
   ]
  },
  {
   "cell_type": "code",
   "execution_count": 18,
   "id": "25b416b3",
   "metadata": {},
   "outputs": [
    {
     "data": {
      "text/plain": [
       "['ayse', 'ada', 'ali']"
      ]
     },
     "execution_count": 18,
     "metadata": {},
     "output_type": "execute_result"
    }
   ],
   "source": [
    "isimler = [\"defne\",\"ayse\",\"sena\",\"ada\",\"ali\"]\n",
    "sonuc = list(filter(lambda n: n[0]=='a',isimler))\n",
    "sonuc"
   ]
  },
  {
   "cell_type": "code",
   "execution_count": 19,
   "id": "7eb178b3",
   "metadata": {},
   "outputs": [
    {
     "data": {
      "text/plain": [
       "['AYSE', 'ADA', 'ALI']"
      ]
     },
     "execution_count": 19,
     "metadata": {},
     "output_type": "execute_result"
    }
   ],
   "source": [
    "filteredResult = filter(lambda n: n[0]=='a',isimler)\n",
    "sonuc = list(map(lambda n: n.upper(), filteredResult))\n",
    "sonuc"
   ]
  },
  {
   "cell_type": "code",
   "execution_count": 28,
   "id": "9e565131",
   "metadata": {},
   "outputs": [],
   "source": [
    "users = [\n",
    "    {\"username\":\"sadikturan\", \"tweets\": [\"tweet 1\",\"tweet 2\"]},\n",
    "    {\"username\":\"cinarturan\", \"tweets\": []},\n",
    "    {\"username\":\"senaturan\", \"tweets\": [\"tweet 1\"]}\n",
    "]\n"
   ]
  },
  {
   "cell_type": "code",
   "execution_count": 29,
   "id": "f4cdd14d",
   "metadata": {},
   "outputs": [
    {
     "data": {
      "text/plain": [
       "[{'username': 'sadikturan', 'tweets': ['tweet 1', 'tweet 2']},\n",
       " {'username': 'senaturan', 'tweets': ['tweet 1']}]"
      ]
     },
     "execution_count": 29,
     "metadata": {},
     "output_type": "execute_result"
    }
   ],
   "source": [
    "sonuc = list(filter(lambda u: len(u[\"tweets\"])>0, users))\n",
    "sonuc"
   ]
  },
  {
   "cell_type": "code",
   "execution_count": 30,
   "id": "28217ca7",
   "metadata": {},
   "outputs": [
    {
     "data": {
      "text/plain": [
       "['SADIKTURAN', 'SENATURAN']"
      ]
     },
     "execution_count": 30,
     "metadata": {},
     "output_type": "execute_result"
    }
   ],
   "source": [
    "sonuc = list(map(lambda  u: u[\"username\"].upper(), filter(lambda u: len(u[\"tweets\"])>0, users)))\n",
    "sonuc"
   ]
  },
  {
   "cell_type": "code",
   "execution_count": 31,
   "id": "edab973c",
   "metadata": {},
   "outputs": [
    {
     "name": "stdout",
     "output_type": "stream",
     "text": [
      "['SADIKTURAN', 'SENATURAN']\n"
     ]
    }
   ],
   "source": [
    "sonuc = [user[\"username\"].upper() for user in users if len(user[\"tweets\"])>0]\n",
    "print(sonuc)"
   ]
  },
  {
   "cell_type": "code",
   "execution_count": null,
   "id": "7815d6bc",
   "metadata": {},
   "outputs": [],
   "source": []
  }
 ],
 "metadata": {
  "interpreter": {
   "hash": "c2c440561eadd0fa45e88072f29f5326703e327b87d123de35331166474665ec"
  },
  "kernelspec": {
   "display_name": "Python 3",
   "language": "python",
   "name": "python3"
  },
  "language_info": {
   "codemirror_mode": {
    "name": "ipython",
    "version": 3
   },
   "file_extension": ".py",
   "mimetype": "text/x-python",
   "name": "python",
   "nbconvert_exporter": "python",
   "pygments_lexer": "ipython3",
   "version": "3.8.8"
  }
 },
 "nbformat": 4,
 "nbformat_minor": 5
}
