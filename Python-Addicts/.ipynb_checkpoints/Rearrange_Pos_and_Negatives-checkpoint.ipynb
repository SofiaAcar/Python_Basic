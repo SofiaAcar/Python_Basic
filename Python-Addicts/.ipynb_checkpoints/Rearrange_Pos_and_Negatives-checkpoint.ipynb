{
 "cells": [
  {
   "cell_type": "markdown",
   "id": "4cca2856",
   "metadata": {},
   "source": [
    "Write a Python program to rearrange positive and negative numbers in a given array using Lambda. \n",
    "Sample Output:\n",
    "Original arrays:\n",
    "[-1, 2, -3, 5, 7, 8, 9, -10]\n",
    "Rearrange positive and negative numbers of the said array:\n",
    "[2, 5, 7, 8, 9, -10, -3, -1]"
   ]
  },
  {
   "cell_type": "code",
   "execution_count": 72,
   "id": "a2544757",
   "metadata": {},
   "outputs": [
    {
     "data": {
      "text/plain": [
       "[2, 5, 7, 8, 9, -10, -3, -1]"
      ]
     },
     "execution_count": 72,
     "metadata": {},
     "output_type": "execute_result"
    }
   ],
   "source": [
    "def original(lst):\n",
    "    eksi = list(sorted(filter(lambda x: x < 0 ,lst)))\n",
    "    for i in lst:\n",
    "        if i < 0:\n",
    "            lst.pop(lst.index(i))\n",
    "    lst.extend(eksi)\n",
    "    return lst\n",
    "\n",
    "original([-1, 2, -3, 5, 7, 8, 9, -10])"
   ]
  },
  {
   "cell_type": "code",
   "execution_count": 61,
   "id": "ac4754cf",
   "metadata": {},
   "outputs": [
    {
     "data": {
      "text/plain": [
       "[-10, -3, -1]"
      ]
     },
     "execution_count": 61,
     "metadata": {},
     "output_type": "execute_result"
    }
   ],
   "source": [
    "lst = [-1, 2, -3, 5, 7, 8, 9, -10]\n",
    "eksi = [i for i in lst if i<0]\n",
    "eksi.sort()\n",
    "eksi"
   ]
  },
  {
   "cell_type": "code",
   "execution_count": 68,
   "id": "6ac1ca4b",
   "metadata": {},
   "outputs": [
    {
     "name": "stdout",
     "output_type": "stream",
     "text": [
      "[2, 5, 7, 8, 9, -10, -3, -1]\n"
     ]
    }
   ],
   "source": [
    "lst = [-1, 2, -3, 5, 7, 8, 9, -10]\n",
    "eksi = list(filter(lambda x: x < 0 ,lst))\n",
    "for i in lst:\n",
    "    if i < 0:\n",
    "        lst.pop(lst.index(i))\n",
    "eksi.sort()\n",
    "lst.extend(eksi)\n",
    "print(lst)\n",
    "\n"
   ]
  },
  {
   "cell_type": "code",
   "execution_count": 40,
   "id": "ee193a94",
   "metadata": {},
   "outputs": [
    {
     "data": {
      "text/plain": [
       "[1, 3, 4, 10, 11, 12]"
      ]
     },
     "execution_count": 40,
     "metadata": {},
     "output_type": "execute_result"
    }
   ],
   "source": [
    "li1 = [1, 3, 4]\n",
    "li2 = [10, 11, 12]\n",
    "li1. extend(li2)\n",
    "li1"
   ]
  },
  {
   "cell_type": "code",
   "execution_count": 71,
   "id": "110166bd",
   "metadata": {},
   "outputs": [
    {
     "name": "stdout",
     "output_type": "stream",
     "text": [
      "[2, 5, 7, 8, 9, -10, -3, -1]\n"
     ]
    }
   ],
   "source": [
    "lst = [-1, 2, -3, 5, 7, 8, 9, -10]\n",
    "eksi = list(sorted(filter(lambda x: x < 0 ,lst)))\n",
    "for i in lst:\n",
    "    if i < 0:\n",
    "        lst.pop(lst.index(i))\n",
    "lst.extend(eksi)\n",
    "print(lst)"
   ]
  },
  {
   "cell_type": "code",
   "execution_count": null,
   "id": "52f1aeb3",
   "metadata": {},
   "outputs": [],
   "source": [
    "liste = [-1, 2, -3, 5, 7, 8, 9, -10]\n",
    "list1 = list(filter(lambda x : x > 0, liste))\n",
    "list2 = list(sorted(list(filter(lambda x : x < 0, liste))))\n",
    "list1.extend(list2)\n",
    "print(list1)"
   ]
  }
 ],
 "metadata": {
  "kernelspec": {
   "display_name": "Python 3",
   "language": "python",
   "name": "python3"
  },
  "language_info": {
   "codemirror_mode": {
    "name": "ipython",
    "version": 3
   },
   "file_extension": ".py",
   "mimetype": "text/x-python",
   "name": "python",
   "nbconvert_exporter": "python",
   "pygments_lexer": "ipython3",
   "version": "3.8.8"
  }
 },
 "nbformat": 4,
 "nbformat_minor": 5
}
