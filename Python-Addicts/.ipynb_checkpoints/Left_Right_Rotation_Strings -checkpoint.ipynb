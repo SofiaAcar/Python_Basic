{
 "cells": [
  {
   "cell_type": "markdown",
   "id": "25161cdb",
   "metadata": {},
   "source": [
    "Given a string of size n, write functions to perform following operations on string.\n",
    "Left (Or anticlockwise) rotate the given string by d elements (where d <= n).\n",
    "Right (Or clockwise) rotate the given string by d elements (where d <= n). For example given word: \"Hippopotamus\"  result =\n",
    "Left Rotation :  opotamusHipp\n",
    "Right Rotation :  amusHippopot"
   ]
  },
  {
   "cell_type": "code",
   "execution_count": 3,
   "id": "813ddaaa",
   "metadata": {},
   "outputs": [
    {
     "name": "stdout",
     "output_type": "stream",
     "text": [
      "Left Rotation :  opotamusHipp\n",
      "Right Rotation :  amusHippopot\n"
     ]
    }
   ],
   "source": [
    "def rotate(string, d):\n",
    "    left_rotation = string[d:] + string[:d]\n",
    "    right_rotation = string[-d:] + string[:-d]\n",
    "    print(\"Left Rotation : \", left_rotation)\n",
    "    print(\"Right Rotation : \", right_rotation)\n",
    "rotate(\"Hippopotamus\", 4)"
   ]
  },
  {
   "cell_type": "code",
   "execution_count": 6,
   "id": "96a68c94",
   "metadata": {},
   "outputs": [
    {
     "name": "stdout",
     "output_type": "stream",
     "text": [
      "Left Rotation :  opotamusHipp\n",
      "Right Rotation :  amusHippopot\n"
     ]
    }
   ],
   "source": [
    "def rotate(input,d):\n",
    "    Lfirst = input[0:d]\n",
    "    Lsecond= input[d:]\n",
    "    Rfirst = input[0:len(input)-d]\n",
    "    Rsecond= input[len(input)-d: ]\n",
    "    print(\"Left Rotation : \", (Lsecond + Lfirst))\n",
    "    print(\"Right Rotation : \", (Rsecond + Rfirst))\n",
    "\n",
    "rotate(\"Hippopotamus\",4)"
   ]
  },
  {
   "cell_type": "code",
   "execution_count": null,
   "id": "0653f46e",
   "metadata": {},
   "outputs": [],
   "source": []
  },
  {
   "cell_type": "code",
   "execution_count": null,
   "id": "3311e2cb",
   "metadata": {},
   "outputs": [],
   "source": []
  },
  {
   "cell_type": "code",
   "execution_count": null,
   "id": "3f6bf69f",
   "metadata": {},
   "outputs": [],
   "source": []
  },
  {
   "cell_type": "code",
   "execution_count": null,
   "id": "873e6721",
   "metadata": {},
   "outputs": [],
   "source": []
  }
 ],
 "metadata": {
  "kernelspec": {
   "display_name": "Python 3",
   "language": "python",
   "name": "python3"
  },
  "language_info": {
   "codemirror_mode": {
    "name": "ipython",
    "version": 3
   },
   "file_extension": ".py",
   "mimetype": "text/x-python",
   "name": "python",
   "nbconvert_exporter": "python",
   "pygments_lexer": "ipython3",
   "version": "3.8.8"
  }
 },
 "nbformat": 4,
 "nbformat_minor": 5
}
