{
 "cells": [
  {
   "cell_type": "code",
   "execution_count": null,
   "id": "ed1ab2ed",
   "metadata": {},
   "outputs": [],
   "source": [
    "Have the function ArrayChallenge(arr) take the array of numbers stored \n",
    "in arr and return the string true if any combination of numbers in the \n",
    "array (excluding the largest number) can be added up to equal the largest \n",
    "number in the array, otherwise return the string false. \n",
    "\n",
    "For example: if arr contains [4, 6, 23, 10, 1, 3] \n",
    "the output should return true because 4 + 6 + 10 + 3 = 23. \n",
    "The array will not be empty, will not contain all the same elements, \n",
    "and may contain negative numbers.\n",
    "\n",
    "Input: [5,7,16,1,2] Output: false \n",
    "Input: [3,5,-1,8,12] Output: true"
   ]
  },
  {
   "cell_type": "code",
   "execution_count": null,
   "id": "870f8a4b",
   "metadata": {},
   "outputs": [],
   "source": [
    "lst =[4, 5, 8, 12]\n",
    "\n",
    "can = (set(lst))\n",
    "maxi = max(lst)\n",
    "\n",
    "can.remove(maxi)\n",
    "lst.remove(maxi)\n",
    "\n",
    "a = sum(lst)\n",
    "lst.sort()\n",
    "\n",
    "if a < maxi:\n",
    "    print(\"false\")\n",
    "else:\n",
    "    for i in range(len(lst)):\n",
    "        lst.pop(i)\n",
    "        \n",
    "        b = sum(lst)\n",
    "        \n",
    "        lst = sorted(list(can))\n",
    "        \n",
    "        if b == maxi:\n",
    "            print(\"true\")\n",
    "            break\n",
    "    else:\n",
    "        print(\"false\")"
   ]
  },
  {
   "cell_type": "code",
   "execution_count": 14,
   "id": "5429fff6",
   "metadata": {},
   "outputs": [
    {
     "data": {
      "text/plain": [
       "'false'"
      ]
     },
     "execution_count": 14,
     "metadata": {},
     "output_type": "execute_result"
    }
   ],
   "source": [
    "def list_challenge(lst):\n",
    "        \n",
    "    can = (set(lst))\n",
    "    maxi = max(lst)\n",
    "    \n",
    "    can.remove(maxi)\n",
    "    lst.remove(maxi)\n",
    "    \n",
    "    a = sum(lst)\n",
    "    lst.sort()\n",
    "    \n",
    "    if a < maxi:\n",
    "         return \"false\"\n",
    "    else:\n",
    "        for i in range(len(lst)):\n",
    "            lst.pop(i)\n",
    "            \n",
    "            b = sum(lst)\n",
    "            \n",
    "            lst = sorted(list(can))\n",
    "            \n",
    "            if b == maxi:\n",
    "                return \"true\"\n",
    "                break\n",
    "        else:\n",
    "            return \"false\"\n",
    "list_challenge([4, 6, 20, 10, 1, 2])"
   ]
  },
  {
   "cell_type": "code",
   "execution_count": 3,
   "id": "26fde8eb",
   "metadata": {},
   "outputs": [
    {
     "data": {
      "text/plain": [
       "'false'"
      ]
     },
     "execution_count": 3,
     "metadata": {},
     "output_type": "execute_result"
    }
   ],
   "source": [
    "def f_subsets(s):\n",
    "    s= set(s)\n",
    "    result = []\n",
    "    a = max(s)\n",
    "    s.remove(max(s))\n",
    "    for i in s:\n",
    "        result += [j.union({i}) for j in result]\n",
    "        result.append({i})\n",
    "    son = \"false\"\n",
    "    for i in result:\n",
    "        if sum(i) == a:\n",
    "            son = \"true\"\n",
    "    return son\n",
    "f_subsets([3, 5, 8, 12])"
   ]
  },
  {
   "cell_type": "code",
   "execution_count": null,
   "id": "a73c88a8",
   "metadata": {},
   "outputs": [],
   "source": []
  },
  {
   "cell_type": "code",
   "execution_count": null,
   "id": "76ff9d7e",
   "metadata": {},
   "outputs": [],
   "source": []
  }
 ],
 "metadata": {
  "kernelspec": {
   "display_name": "Python 3",
   "language": "python",
   "name": "python3"
  },
  "language_info": {
   "codemirror_mode": {
    "name": "ipython",
    "version": 3
   },
   "file_extension": ".py",
   "mimetype": "text/x-python",
   "name": "python",
   "nbconvert_exporter": "python",
   "pygments_lexer": "ipython3",
   "version": "3.8.8"
  }
 },
 "nbformat": 4,
 "nbformat_minor": 5
}
