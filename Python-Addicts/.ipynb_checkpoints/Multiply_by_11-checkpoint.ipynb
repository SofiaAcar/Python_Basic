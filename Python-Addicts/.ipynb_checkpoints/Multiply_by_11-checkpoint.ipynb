{
 "cells": [
  {
   "cell_type": "code",
   "execution_count": null,
   "id": "df7b7f41",
   "metadata": {},
   "outputs": [],
   "source": [
    "Given a positive number as a string, multiply the number by 11 and \n",
    "also return it as a string. However, there is a catch:\n",
    "\n",
    "You are NOT ALLOWED to simply cast the number into an integer!\n",
    "\n",
    "Now, how is this challenge even possible? Despite this, \n",
    "there is still a way to solve it, and it involves thinking \n",
    "about how someone might multiply by 11 in their head. See the tips below for guidance.\n",
    "\n",
    "Examples\n",
    "multiply_by_11(\"11\") ➞ \"121\"\n",
    "\n",
    "multiply_by_11(\"111111111\") ➞ \"1222222221\"\n",
    "\n",
    "multiply_by_11(\"9473745364784876253253263723\") ➞ \"104211199012633638785785900953\"\n",
    "Tip\n",
    "There is a simple trick to multiplying any two-digit number by 11 in your head:\n",
    "\n",
    "Add the two digits together\n",
    "Place the sum between the two digits!\n",
    "Note if the total goes over, carry the sum on to the next digit\n",
    "# 23 * 11\n",
    "# Add together 2 and 3 to make 5\n",
    "# Place 5 between the two digits to make 253\n",
    "# 77 * 11\n",
    "# Add together 7 and 7 to make 14\n",
    "# Place 4 between the two digits to make 747\n",
    "# Carry the 1 to make 847\n",
    "Notes\n",
    "See this resource to find out how this process can be utilized for numbers of any length!\n"
   ]
  },
  {
   "cell_type": "code",
   "execution_count": 2,
   "id": "1b31f4e6",
   "metadata": {},
   "outputs": [
    {
     "name": "stdout",
     "output_type": "stream",
     "text": [
      "104211199012633638785785900953\n"
     ]
    }
   ],
   "source": [
    "def multiply_11(num):    \n",
    "    leng = len(num)\n",
    "    basamak = '0'\n",
    "    sonuc = num[::-1][0]\n",
    "    for i in range(leng - 1):\n",
    "        toplam = int(num[::-1][i]) + int(num[::-1][i + 1])\n",
    "        if toplam <= 9:\n",
    "            if toplam + int(basamak) <= 9:\n",
    "                sonuc = str(toplam + int(basamak)) + sonuc\n",
    "                basamak = '0'\n",
    "            else:\n",
    "                sonuc = str(toplam + int(basamak))[1] + sonuc\n",
    "                basamak = '1'\n",
    "        else:\n",
    "            sonuc = str(int(str(toplam)[1]) + int(basamak)) + sonuc\n",
    "            basamak = '1'\n",
    "    sonuc = str(int(num[0]) + int(basamak)) + sonuc \n",
    "    return sonuc\n",
    "\n",
    "print(multiply_11(\"9473745364784876253253263723\"))"
   ]
  },
  {
   "cell_type": "code",
   "execution_count": 3,
   "id": "3bf734da",
   "metadata": {},
   "outputs": [
    {
     "data": {
      "text/plain": [
       "'104211199012633638785785900953'"
      ]
     },
     "execution_count": 3,
     "metadata": {},
     "output_type": "execute_result"
    }
   ],
   "source": [
    "def multiply_by_11(n):\n",
    "\t#:))))))))))\n",
    "\treturn str(int(n)*11)\n",
    "multiply_by_11(\"9473745364784876253253263723\")"
   ]
  },
  {
   "cell_type": "code",
   "execution_count": 20,
   "id": "fed6ccf8",
   "metadata": {},
   "outputs": [
    {
     "data": {
      "text/plain": [
       "'104211199012633638785785900953'"
      ]
     },
     "execution_count": 20,
     "metadata": {},
     "output_type": "execute_result"
    }
   ],
   "source": [
    "def multiply_by_11(n):\n",
    "\tn = [int(i) for i in n][::-1]\n",
    "\trem = 0\n",
    "\tret = []\n",
    "\tfor i in range(len(n)):\n",
    "\t\tif i>0:\n",
    "\t\t\tret+=[(n[i]+n[i-1]+rem)%10]\n",
    "\t\t\trem=(n[i]+n[i-1]+rem)//10\n",
    "\t\telse:\n",
    "\t\t\tret+=[n[i]]\n",
    "\tret+=[n[-1]+rem]\n",
    "\treturn ''.join([str(i) for i in ret][::-1])\n",
    "multiply_by_11(\"9473745364784876253253263723\")"
   ]
  },
  {
   "cell_type": "code",
   "execution_count": 24,
   "id": "04d8b60c",
   "metadata": {},
   "outputs": [
    {
     "data": {
      "text/plain": [
       "['3273623523526784874635473749']"
      ]
     },
     "execution_count": 24,
     "metadata": {},
     "output_type": "execute_result"
    }
   ],
   "source": [
    "def multiply_by_11(n):\n",
    "    n = str(n)[::-1].split()\n",
    "    return n\n",
    "    rem = 0\n",
    "    ret = []\n",
    "    for i in range(len(n)):\n",
    "        if int(i)> 0:\n",
    "            ret += [(n[i]+ n[i-1]+rem ) % 10]\n",
    "            rem = (n[i]+n[i-1]+rem)//10\n",
    "        else:\n",
    "            ret += [n[i]]\n",
    "    ret+=[n[-1]+rem]\n",
    "    return ''.join([str(i) for i in ret][::-1])\n",
    "multiply_by_11(\"9473745364784876253253263723\")"
   ]
  },
  {
   "cell_type": "code",
   "execution_count": 28,
   "id": "9def270d",
   "metadata": {},
   "outputs": [
    {
     "name": "stdout",
     "output_type": "stream",
     "text": [
      "[('3', '0'), ('2', '3'), ('7', '2'), ('3', '7'), ('6', '3'), ('2', '6'), ('3', '2'), ('5', '3'), ('2', '5'), ('3', '2'), ('5', '3'), ('2', '5'), ('6', '2'), ('7', '6'), ('8', '7'), ('4', '8'), ('8', '4'), ('7', '8'), ('4', '7'), ('6', '4'), ('3', '6'), ('5', '3'), ('4', '5'), ('7', '4'), ('3', '7'), ('7', '3'), ('4', '7'), ('9', '4'), ('0', '9')]\n"
     ]
    }
   ],
   "source": [
    "n = \"9473745364784876253253263723\" \n",
    "n = n[::-1]\n",
    "#print(n)\n",
    "#3273623523526784874635473749\n",
    "\n",
    "\n",
    "a= list(zip(n + '0', '0' + n ))\n",
    "print(a)"
   ]
  },
  {
   "cell_type": "code",
   "execution_count": 44,
   "id": "81fc8d92",
   "metadata": {},
   "outputs": [
    {
     "name": "stdout",
     "output_type": "stream",
     "text": [
      "('3', '0') ('2', '3') ('0', '2')\n"
     ]
    },
    {
     "data": {
      "text/plain": [
       "[('3', '0'), ('2', '3'), ('0', '2')]"
      ]
     },
     "execution_count": 44,
     "metadata": {},
     "output_type": "execute_result"
    }
   ],
   "source": [
    "n = \"32\"\n",
    "\n",
    "print(*zip(n + '0', '0' + n ))\n",
    "list(zip(n + '0', '0' + n ))"
   ]
  },
  {
   "cell_type": "code",
   "execution_count": 33,
   "id": "da148cda",
   "metadata": {},
   "outputs": [
    {
     "name": "stdout",
     "output_type": "stream",
     "text": [
      "1250 0125\n",
      "1\n",
      "0\n",
      "2\n",
      "1\n",
      "5\n",
      "2\n",
      "0\n",
      "5\n"
     ]
    }
   ],
   "source": [
    "n = \"125\"\n",
    "count = 0\n",
    "print(n + '0', '0' + n )\n",
    "list(zip(n + '0', '0' + n ))\n",
    "for a, b in zip(n + '0', '0' + n ):\n",
    "    divmod(int(a)+int(b)+count, 10)\n",
    "    print(a)\n",
    "    print(b)"
   ]
  },
  {
   "cell_type": "code",
   "execution_count": 10,
   "id": "07bc22b5",
   "metadata": {},
   "outputs": [
    {
     "data": {
      "text/plain": [
       "'9867'"
      ]
     },
     "execution_count": 10,
     "metadata": {},
     "output_type": "execute_result"
    }
   ],
   "source": [
    "def multiply_by_11(n):\n",
    "    n = n[::-1]\n",
    "    new = \"\"\n",
    "    bolum = 0\n",
    "  \n",
    "    for a, b in zip(n + '0', '0' + n ):      \n",
    "        bolum, kalan = divmod( int(a) + int(b) + bolum, 10 ) \n",
    "        new += str(kalan)\n",
    "    \n",
    "        \n",
    "    return new[::-1]\n",
    "\n",
    "multiply_by_11(\"897\")"
   ]
  },
  {
   "cell_type": "code",
   "execution_count": 63,
   "id": "7a4cdd72",
   "metadata": {},
   "outputs": [
    {
     "data": {
      "text/plain": [
       "9867"
      ]
     },
     "execution_count": 63,
     "metadata": {},
     "output_type": "execute_result"
    }
   ],
   "source": [
    "897 * 11 "
   ]
  }
 ],
 "metadata": {
  "kernelspec": {
   "display_name": "Python 3",
   "language": "python",
   "name": "python3"
  },
  "language_info": {
   "codemirror_mode": {
    "name": "ipython",
    "version": 3
   },
   "file_extension": ".py",
   "mimetype": "text/x-python",
   "name": "python",
   "nbconvert_exporter": "python",
   "pygments_lexer": "ipython3",
   "version": "3.8.8"
  }
 },
 "nbformat": 4,
 "nbformat_minor": 5
}
