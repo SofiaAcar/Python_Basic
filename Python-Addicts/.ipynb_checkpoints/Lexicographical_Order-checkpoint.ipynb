{
 "cells": [
  {
   "cell_type": "markdown",
   "id": "1afdc210",
   "metadata": {},
   "source": [
    "1- Given two arrays of strings a1 and a2 return a sorted array r in lexicographical order of the strings of a1 which are substrings of strings of a2.\n",
    "\n",
    "Example 1: a1 = [\"arp\", \"live\", \"strong\"]\n",
    "\n",
    "a2 = [\"lively\", \"alive\", \"harp\", \"sharp\", \"armstrong\"]\n",
    "\n",
    "returns [\"arp\", \"live\", \"strong\"]\n",
    "\n",
    "Example 2: a1 = [\"tarp\", \"mice\", \"bull\"]\n",
    "\n",
    "a2 = [\"lively\", \"alive\", \"harp\", \"sharp\", \"armstrong\"]\n",
    "\n",
    "returns []\n",
    "\n",
    "Notes: Arrays are written in \"general\" notation. See \"Your Test Cases\" for examples in your language.\n",
    "\n",
    "In Shell bash a1 and a2 are strings. The return is a string where words are separated by commas."
   ]
  },
  {
   "cell_type": "code",
   "execution_count": null,
   "id": "9b73ac89",
   "metadata": {},
   "outputs": [],
   "source": [
    "a1 = [\"arp\", \"live\", \"strong\"]\n",
    "a2 = [\"lively\", \"alive\", \"harp\", \"sharp\", \"armstrong\"]\n",
    "lst = []\n",
    "for i in a1:\n",
    "    for j in a2:\n",
    "        if i in j and i not in lst:\n",
    "            lst.append(i)\n",
    "print(lst)   "
   ]
  }
 ],
 "metadata": {
  "kernelspec": {
   "display_name": "Python 3",
   "language": "python",
   "name": "python3"
  },
  "language_info": {
   "codemirror_mode": {
    "name": "ipython",
    "version": 3
   },
   "file_extension": ".py",
   "mimetype": "text/x-python",
   "name": "python",
   "nbconvert_exporter": "python",
   "pygments_lexer": "ipython3",
   "version": "3.8.8"
  }
 },
 "nbformat": 4,
 "nbformat_minor": 5
}
