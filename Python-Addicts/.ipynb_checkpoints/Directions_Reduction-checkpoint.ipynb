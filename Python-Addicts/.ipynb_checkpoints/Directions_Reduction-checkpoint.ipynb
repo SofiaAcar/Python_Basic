{
 "cells": [
  {
   "cell_type": "markdown",
   "id": "a989546a",
   "metadata": {},
   "source": [
    "Once upon a time, on a way through the old wild mountainous west,…\n",
    "… a man was given directions to go from one point to another. \n",
    "The directions were \"NORTH\", \"SOUTH\", \"WEST\", \"EAST\". \n",
    "Clearly \"NORTH\" and \"SOUTH\" are opposite, \"WEST\" and \"EAST\" too.\n",
    "Going to one direction and coming back the opposite direction right \n",
    "away is a needless effort. Since this is the wild west, with dreadfull \n",
    "weather and not much water, it's important to save yourself some energy, \n",
    "otherwise you might die of thirst!\n",
    "How I crossed a mountainous desert the smart way.\n",
    "The directions given to the man are, for example, the following (depending on the language):\n",
    "[\"NORTH\", \"SOUTH\", \"SOUTH\", \"EAST\", \"WEST\", \"NORTH\", \"WEST\"].\n",
    "or\n",
    "{ \"NORTH\", \"SOUTH\", \"SOUTH\", \"EAST\", \"WEST\", \"NORTH\", \"WEST\" };\n",
    "or\n",
    "[North, South, South, East, West, North, West]\n",
    "You can immediatly see that going \"NORTH\" and immediately \"SOUTH\" is not reasonable,\n",
    "better stay to the same place! So the task is to give to the man a simplified \n",
    "version of the plan. A better plan in this case is simply:\n",
    "[\"WEST\"]\n",
    "or\n",
    "{ \"WEST\" }\n",
    "or\n",
    "[West]\n",
    "Other examples:\n",
    "In [\"NORTH\", \"SOUTH\", \"EAST\", \"WEST\"], the direction \"NORTH\" + \"SOUTH\" is going north \n",
    "and coming back right away.\n",
    "The path becomes [\"EAST\", \"WEST\"], now \"EAST\" and \"WEST\" annihilate each other, therefore, \n",
    "the final result is [] (nil in Clojure).\n",
    "In [\"NORTH\", \"EAST\", \"WEST\", \"SOUTH\", \"WEST\", \"WEST\"], \"NORTH\" and \"SOUTH\" are not directly \n",
    "opposite but they become directly opposite after the reduction of \"EAST\" and \"WEST\" so the \n",
    "whole path is reducible to [\"WEST\", \"WEST\"].\n",
    "Task\n",
    "Write a function dirReduc which will take an array of strings and returns an array of \n",
    "strings with the needless directions removed (W<->E or S<->N side by side).\n",
    "The Haskell version takes a list of directions with data Direction = North | East | West | South.\n",
    "The Clojure version returns nil when the path is reduced to nothing.\n",
    "The Rust version takes a slice of enum Direction {North, East, West, South}.\n",
    "See more examples in \"Sample Tests:\"\n",
    "Notes\n",
    "Not all paths can be made simpler. The path [\"NORTH\", \"WEST\", \"SOUTH\", \"EAST\"] is not \n",
    "reducible. \"NORTH\" and \"WEST\", \"WEST\" and \"SOUTH\", \"SOUTH\" and \"EAST\" are not directly \n",
    "opposite of each other and can't become such. Hence the result path is itself : \n",
    "[\"NORTH\", \"WEST\", \"SOUTH\", \"EAST\"].\n"
   ]
  },
  {
   "cell_type": "code",
   "execution_count": null,
   "id": "33ba98cd",
   "metadata": {},
   "outputs": [],
   "source": [
    "lst = [\"NORTH\", \"SOUTH\", \"SOUTH\", \"EAST\", \"WEST\", \"NORTH\", \"WEST\"]\n",
    "karsit = {\"NORTH\":\"SOUTH\", \"SOUTH\":\"NORTH\", \"EAST\":\"WEST\", \"WEST\":\"EAST\"}\n",
    "new_list = []\n",
    "for i in range(len(lst)): \n",
    "    if len(new_list)  ==  0: \n",
    "        new_list.append(lst[i]) \n",
    "    elif new_list[-1]  !=  karsit[lst[i]]: \n",
    "        new_list.append(lst[i]) \n",
    "    else: \n",
    "        new_list.pop()\n",
    "        \n",
    "print(new_list)"
   ]
  },
  {
   "cell_type": "code",
   "execution_count": null,
   "id": "2301bf56",
   "metadata": {},
   "outputs": [],
   "source": [
    "def dirReduc(dir):\n",
    "    while \"NS\" in dir or \"SN\" in dir or \"WE\" in dir or \"EW\" in dir:\n",
    "        dir = dir.replace(\"NS\",\"\").replace(\"SN\",\"\").replace(\"WE\",\"\").replace(\"EW\",\"\")\n",
    "    if dir == \"\" :\n",
    "        return 0\n",
    "    else:\n",
    "        return dir\n",
    "dirReduc(\"NWNSWE\")"
   ]
  },
  {
   "cell_type": "code",
   "execution_count": 1,
   "id": "f912167a",
   "metadata": {},
   "outputs": [
    {
     "data": {
      "text/plain": [
       "['SOUTH', 'EAST', 'SOUTH']"
      ]
     },
     "execution_count": 1,
     "metadata": {},
     "output_type": "execute_result"
    }
   ],
   "source": [
    "def nereye(liste):\n",
    "    s = ''\n",
    "    n = 0\n",
    "    p = []\n",
    "    leng = len(liste)\n",
    "    for i in liste:\n",
    "        s += ''.join(str(i).upper())\n",
    "    while n < leng:\n",
    "        if 'NORTHSOUTH' in s or 'SOUTHNORTH' in s or 'WESTEAST' in s or 'EASTWEST':\n",
    "            s = s.replace('NORTHSOUTH', '').replace('SOUTHNORTH', '').replace('WESTEAST', '').replace('EASTWEST', '')\n",
    "        n += 1\n",
    "    while True:\n",
    "        for i in [\"NORTH\", \"WEST\", \"SOUTH\", \"EAST\"]:\n",
    "            if i in s:\n",
    "                p.append(i)\n",
    "                s = s.replace(i, '', 1)\n",
    "        if s == '':\n",
    "            break\n",
    "    return p\n",
    "        \n",
    "        \n",
    "nereye([\"NORTH\", \"SOUTH\", \"SOUTH\", \"EAST\", \"NORTH\", \"WEST\", \"EAST\", \"SOUTH\", \"SOUTH\"])"
   ]
  },
  {
   "cell_type": "code",
   "execution_count": 2,
   "id": "3e2b1b17",
   "metadata": {},
   "outputs": [
    {
     "name": "stdout",
     "output_type": "stream",
     "text": [
      "['East']\n",
      "['South', 'South']\n"
     ]
    }
   ],
   "source": [
    "def dirReduce(way) :\n",
    "  last = []\n",
    "  x = y = 0\n",
    "  for i in range(len(way)) :\n",
    "    if way[i].startswith(\"N\") : y = y + 1 \n",
    "    elif way[i].startswith(\"S\") : y = y - 1\n",
    "    elif way[i].startswith(\"E\") : x = x + 1\n",
    "    elif way[i].startswith(\"W\") : x = x - 1 \n",
    "  if x > 0 : last.append(x * \" East\")\n",
    "  elif x < 0 : last.append(-x * \" West\")\n",
    "  if y > 0 : last.append(y * \" North\")\n",
    "  elif y < 0 : last.append(-y * \" South\")\n",
    "  for i in range(2) : print(last[i].split()) \n",
    "dirReduce([\"NORTH\", \"SOUTH\", \"SOUTH\", \"EAST\", \"NORTH\", \"WEST\", \"EAST\", \"SOUTH\", \"SOUTH\"])"
   ]
  },
  {
   "cell_type": "code",
   "execution_count": null,
   "id": "fabfb54c",
   "metadata": {},
   "outputs": [],
   "source": []
  },
  {
   "cell_type": "code",
   "execution_count": null,
   "id": "a6858281",
   "metadata": {},
   "outputs": [],
   "source": []
  }
 ],
 "metadata": {
  "kernelspec": {
   "display_name": "Python 3",
   "language": "python",
   "name": "python3"
  },
  "language_info": {
   "codemirror_mode": {
    "name": "ipython",
    "version": 3
   },
   "file_extension": ".py",
   "mimetype": "text/x-python",
   "name": "python",
   "nbconvert_exporter": "python",
   "pygments_lexer": "ipython3",
   "version": "3.8.8"
  }
 },
 "nbformat": 4,
 "nbformat_minor": 5
}
