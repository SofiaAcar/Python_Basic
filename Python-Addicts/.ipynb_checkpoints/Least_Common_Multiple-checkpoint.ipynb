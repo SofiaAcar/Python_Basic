{
 "cells": [
  {
   "cell_type": "code",
   "execution_count": null,
   "id": "1701b22b",
   "metadata": {},
   "outputs": [],
   "source": [
    "Given a list of integers, create a function that will find the smallest positive integer that is evenly divisible by all the members of the list. In other words, find the least common multiple (LCM).\n",
    "\n",
    "Examples\n",
    "lcm([1, 2, 3, 4, 5, 6, 7, 8, 9]) ➞ 2520\n",
    "\n",
    "lcm([5]) ➞ 5\n",
    "\n",
    "lcm([5, 7, 11]) ➞ 385\n",
    "\n",
    "lcm([5, 7, 11, 35, 55, 77]) ➞ 385"
   ]
  },
  {
   "cell_type": "code",
   "execution_count": 20,
   "id": "3e6cc9d3",
   "metadata": {},
   "outputs": [
    {
     "name": "stdout",
     "output_type": "stream",
     "text": [
      "385\n"
     ]
    }
   ],
   "source": [
    "list1 = [5, 7, 11]\n",
    "def ekok(x):\n",
    "    max_value = max(list1)\n",
    "    while True:\n",
    "        y = True\n",
    "        for i in list1:\n",
    "            if max_value % i != 0:\n",
    "                y = False\n",
    "        if y:\n",
    "            return max_value\n",
    "            break\n",
    "        else:\n",
    "            max_value += 1\n",
    "print(ekok(list1))"
   ]
  },
  {
   "cell_type": "code",
   "execution_count": null,
   "id": "642a8330",
   "metadata": {},
   "outputs": [],
   "source": [
    "def to_infinity():\n",
    "    index = 1\n",
    "    while True:\n",
    "        yield index\n",
    "        index += 1\n",
    "\n",
    "def least_common(liste):\n",
    "    for i in to_infinity():\n",
    "        count = 0\n",
    "        for j in liste:\n",
    "            if i % j == 0:\n",
    "                count += 1\n",
    "        if count == len(liste):\n",
    "            result = i\n",
    "            break\n",
    "    return result\n",
    "\n",
    "least_common([1, 2, 3, 4, 5, 6, 7, 8, 9])"
   ]
  },
  {
   "cell_type": "code",
   "execution_count": null,
   "id": "197d18d1",
   "metadata": {},
   "outputs": [],
   "source": []
  },
  {
   "cell_type": "code",
   "execution_count": null,
   "id": "c08a4cc0",
   "metadata": {},
   "outputs": [],
   "source": []
  },
  {
   "cell_type": "code",
   "execution_count": null,
   "id": "2665999a",
   "metadata": {},
   "outputs": [],
   "source": []
  }
 ],
 "metadata": {
  "kernelspec": {
   "display_name": "Python 3",
   "language": "python",
   "name": "python3"
  },
  "language_info": {
   "codemirror_mode": {
    "name": "ipython",
    "version": 3
   },
   "file_extension": ".py",
   "mimetype": "text/x-python",
   "name": "python",
   "nbconvert_exporter": "python",
   "pygments_lexer": "ipython3",
   "version": "3.8.8"
  }
 },
 "nbformat": 4,
 "nbformat_minor": 5
}
