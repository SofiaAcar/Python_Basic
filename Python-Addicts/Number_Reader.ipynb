{
 "cells": [
  {
   "cell_type": "markdown",
   "id": "5456725a",
   "metadata": {},
   "source": [
    "Kullanıcıdan 2 basamaklı bir sayı alın ve bu sayının okunuşunu bulan bir fonksiyon yazın.\n",
    "Örnek: 99 ---------> Doğsan Doğuz"
   ]
  },
  {
   "cell_type": "code",
   "execution_count": 15,
   "id": "95ea4950",
   "metadata": {},
   "outputs": [
    {
     "data": {
      "text/plain": [
       "'aman bre seksenbeş be yav'"
      ]
     },
     "execution_count": 15,
     "metadata": {},
     "output_type": "execute_result"
    }
   ],
   "source": [
    "def number_reader(sayı) :\n",
    "    onluk = {\"1\":\"on\",\"2\":\"yirmi\",\"3\":\"otuz\",\"4\":\"kırk\",\"5\":\"elli\",\\\n",
    "             \"6\":\"atmış\",\"7\":\"yetmiş\",\"8\":\"seksen\",\"9\":\"doksan\"}\n",
    "    birlik = {\"1\":\"bir\",\"2\":\"iki\",\"3\":\"üç\",\"4\":\"dört\",\"5\":\"beş\",\\\n",
    "              \"6\":\"altı\",\"7\":\"yedi\",\"8\":\"sekiz\",\"9\":\"dokuz\"}\n",
    "    \n",
    "    return f\"aman bre {onluk[str(sayı)[0]] + birlik[str(sayı)[1]]} be yav\"\n",
    "number_reader(85)"
   ]
  },
  {
   "cell_type": "code",
   "execution_count": null,
   "id": "1973ae81",
   "metadata": {},
   "outputs": [],
   "source": [
    "tens = {\"1\" : \"ten\", \"2\" : \"twenty\", \"3\" : \"thirty\", \"4\" : \"fourty\", \"5\" : \"fifty\", \"6\" : \"sixty\", \"7\" : \"seventy\", \"8\" : \"eighty\", \"9\" : \"ninety\"}\n",
    "ones = {\"0\": \"zero\", \"1\" : \"one\", \"2\" : \"two\", \"3\" : \"three\", \"4\" : \"four\", \"5\": \"five\", \"6\" : \"six\", \"7\" : \"seven\", \"8\" : \"eight\", \"9\" : \"nine\"}\n",
    "def pro(numbs) :\n",
    "    my_list = []\n",
    "    end = \"\"\n",
    "    for i in str(numbs):\n",
    "        my_list.append(i)\n",
    "    if my_list[0] in tens :\n",
    "        end += tens[my_list[0]]\n",
    "    if my_list[1] in ones : \n",
    "        end += ones[my_list[1]]\n",
    "        \n",
    "    return end"
   ]
  },
  {
   "cell_type": "code",
   "execution_count": null,
   "id": "a91e8cfd",
   "metadata": {},
   "outputs": [],
   "source": []
  },
  {
   "cell_type": "code",
   "execution_count": null,
   "id": "7205ecd1",
   "metadata": {},
   "outputs": [],
   "source": []
  },
  {
   "cell_type": "code",
   "execution_count": null,
   "id": "2f5f5e69",
   "metadata": {},
   "outputs": [],
   "source": []
  }
 ],
 "metadata": {
  "kernelspec": {
   "display_name": "Python 3",
   "language": "python",
   "name": "python3"
  },
  "language_info": {
   "codemirror_mode": {
    "name": "ipython",
    "version": 3
   },
   "file_extension": ".py",
   "mimetype": "text/x-python",
   "name": "python",
   "nbconvert_exporter": "python",
   "pygments_lexer": "ipython3",
   "version": "3.8.8"
  }
 },
 "nbformat": 4,
 "nbformat_minor": 5
}
