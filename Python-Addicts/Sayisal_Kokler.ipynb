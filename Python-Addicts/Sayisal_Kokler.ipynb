{
 "cells": [
  {
   "cell_type": "markdown",
   "id": "8d196105",
   "metadata": {},
   "source": [
    "Sayısal kök , bir sayıdaki tüm rakamların özyinelemeli toplamıdır.\n",
    "Verilen n, rakamlarının toplamını alın n. Bu değerin birden fazla hanesi varsa, tek haneli bir sayı üretilene kadar bu şekilde düşürmeye devam edin. Girdi, negatif olmayan bir tam sayı olacaktır.\n",
    "Örnekler\n",
    "    16  -->  1 + 6 = 7\n",
    "   942  -->  9 + 4 + 2 = 15  -->  1 + 5 = 6\n",
    "132189  -->  1 + 3 + 2 + 1 + 8 + 9 = 24  -->  2 + 4 = 6\n",
    "493193  -->  4 + 9 + 3 + 1 + 9 + 3 = 29  -->  2 + 9 = 11  -->  1 + 1 = 2"
   ]
  },
  {
   "cell_type": "code",
   "execution_count": 17,
   "id": "09ae3939",
   "metadata": {},
   "outputs": [
    {
     "name": "stdout",
     "output_type": "stream",
     "text": [
      "2\n"
     ]
    }
   ],
   "source": [
    "def eklemeli(num):\n",
    "    sayac = 0\n",
    "    while num > 10:\n",
    "        num = sum([int(i) for i in str(num)])\n",
    "        sayac +=1\n",
    "    return num\n",
    "print(eklemeli(493193))"
   ]
  },
  {
   "cell_type": "code",
   "execution_count": 4,
   "id": "bb4c76ba",
   "metadata": {},
   "outputs": [
    {
     "data": {
      "text/plain": [
       "2"
      ]
     },
     "execution_count": 4,
     "metadata": {},
     "output_type": "execute_result"
    }
   ],
   "source": [
    "def sayisal_kok(x):\n",
    "    x = str(x)\n",
    "    uzunluk = len(x)\n",
    "    while uzunluk > 1:\n",
    "        toplam = 0\n",
    "        for i in str(x):\n",
    "            toplam += int(i)\n",
    "            x = toplam\n",
    "        uzunluk = len(str(toplam))\n",
    "    return toplam\n",
    "\n",
    "sayisal_kok(493193)"
   ]
  },
  {
   "cell_type": "code",
   "execution_count": 18,
   "id": "d9a1cf09",
   "metadata": {},
   "outputs": [
    {
     "name": "stdout",
     "output_type": "stream",
     "text": [
      "6\n"
     ]
    }
   ],
   "source": [
    "def tekhane(number):\n",
    "  totals = number\n",
    "  while True:\n",
    "    k= 0\n",
    "    for i in str(totals):\n",
    "      k += int(i)\n",
    "    totals = k\n",
    "    if len(str(totals)) == 1:\n",
    "      print(totals)\n",
    "      break\n",
    "    \n",
    "\n",
    "tekhane(132189)"
   ]
  },
  {
   "cell_type": "code",
   "execution_count": 2,
   "id": "4e04ca93",
   "metadata": {},
   "outputs": [
    {
     "name": "stdout",
     "output_type": "stream",
     "text": [
      "3\n"
     ]
    }
   ],
   "source": [
    "def reduce(num):\n",
    "    while num >= 10:\n",
    "         num = int(num/10)+(num-(int(num/10)*10))\n",
    "    return num\n",
    "print(reduce(129))"
   ]
  },
  {
   "cell_type": "code",
   "execution_count": 1,
   "id": "455cab59",
   "metadata": {},
   "outputs": [
    {
     "name": "stdout",
     "output_type": "stream",
     "text": [
      "3\n"
     ]
    }
   ],
   "source": [
    "def reduce(num):\n",
    "    while num >= 10:\n",
    "         num = sum(map(int, str(num)))\n",
    "    return num\n",
    "print(reduce(129))"
   ]
  },
  {
   "cell_type": "code",
   "execution_count": null,
   "id": "f8a3aa7e",
   "metadata": {},
   "outputs": [],
   "source": []
  }
 ],
 "metadata": {
  "kernelspec": {
   "display_name": "Python 3",
   "language": "python",
   "name": "python3"
  },
  "language_info": {
   "codemirror_mode": {
    "name": "ipython",
    "version": 3
   },
   "file_extension": ".py",
   "mimetype": "text/x-python",
   "name": "python",
   "nbconvert_exporter": "python",
   "pygments_lexer": "ipython3",
   "version": "3.8.8"
  }
 },
 "nbformat": 4,
 "nbformat_minor": 5
}
