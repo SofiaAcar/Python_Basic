{
 "cells": [
  {
   "cell_type": "markdown",
   "id": "7d690806",
   "metadata": {},
   "source": [
    "Write an efficient function that deletes characters from an ASCII\n",
    "string where any character existing in remove must be deleted from\n",
    "str. For example, given a str of \"Battle of the Vowels: Hawaii vs.\n",
    "Grozny\" and a remove of \"aeiou\", the function should transform str\n",
    "to “Bttl f th Vwls: Hw vs. Grzny”."
   ]
  },
  {
   "cell_type": "code",
   "execution_count": null,
   "id": "f9f9d268",
   "metadata": {},
   "outputs": [],
   "source": [
    "def del_vowels(sentn):\n",
    "    vowels = 'aeiou'\n",
    "    list1 = list(filter( lambda x: x not in vowels, sentn))\n",
    "    result = \"\".join(list1)\n",
    "    return result "
   ]
  },
  {
   "cell_type": "code",
   "execution_count": null,
   "id": "1ecf50d8",
   "metadata": {},
   "outputs": [],
   "source": [
    "def del_vowels(sentence):\n",
    "    vowels = 'aeiou'\n",
    "    for i in sentence:\n",
    "        if i in vowels:\n",
    "            sentence = sentence.replace(str(i), \"\")\n",
    "    return sentence "
   ]
  },
  {
   "cell_type": "code",
   "execution_count": 3,
   "id": "035a2b53",
   "metadata": {},
   "outputs": [
    {
     "data": {
      "text/plain": [
       "'Bttl f th Vwls: Hw vs. Grzny'"
      ]
     },
     "execution_count": 3,
     "metadata": {},
     "output_type": "execute_result"
    }
   ],
   "source": [
    "def remove_char(sentence, removes):\n",
    "    result = \"\"\n",
    "    for i in sentence:\n",
    "        if i not in removes:\n",
    "            result += i\n",
    "    return result \n",
    "remove_char(\"Battle of the Vowels: Hawaii vs. Grozny\", \"aeiou\")"
   ]
  },
  {
   "cell_type": "code",
   "execution_count": null,
   "id": "192e6019",
   "metadata": {},
   "outputs": [],
   "source": []
  },
  {
   "cell_type": "code",
   "execution_count": null,
   "id": "b3a5dc36",
   "metadata": {},
   "outputs": [],
   "source": []
  }
 ],
 "metadata": {
  "kernelspec": {
   "display_name": "Python 3",
   "language": "python",
   "name": "python3"
  },
  "language_info": {
   "codemirror_mode": {
    "name": "ipython",
    "version": 3
   },
   "file_extension": ".py",
   "mimetype": "text/x-python",
   "name": "python",
   "nbconvert_exporter": "python",
   "pygments_lexer": "ipython3",
   "version": "3.8.8"
  }
 },
 "nbformat": 4,
 "nbformat_minor": 5
}
