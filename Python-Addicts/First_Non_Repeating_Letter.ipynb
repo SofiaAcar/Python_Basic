{
 "cells": [
  {
   "cell_type": "markdown",
   "id": "b0eaffe5",
   "metadata": {},
   "source": [
    "Bir first_non_repeating_letter dize girdisi alan ve dizenin \n",
    "hiçbir yerinde tekrarlanmayan ilk karakteri döndüren bir işlev yazın .\n",
    "Örneğin, girdi verilirse, t harfi dizede yalnızca \n",
    "bir kez geçtiği ve dizede ilk sırada yer aldığı \n",
    "'stress' için işlev dönmelidir. 't' \n",
    "Ek bir meydan okuma olarak, \n",
    "büyük ve küçük harfler aynı karakter olarak kabul edilir , \n",
    "ancak işlev ilk harf için doğru durumu döndürmelidir. \n",
    "Örneğin, girdi 'sTreSS'dönmelidir 'T'. Bir dize tüm yinelenen \n",
    "karakterleri içeriyorsa , boş bir dize ( \"\") döndürmelidir veya None"
   ]
  },
  {
   "cell_type": "code",
   "execution_count": 5,
   "id": "5407bede",
   "metadata": {},
   "outputs": [
    {
     "name": "stdout",
     "output_type": "stream",
     "text": [
      "None\n"
     ]
    }
   ],
   "source": [
    "def first_non_repeating_letter(word):\n",
    "    lst = [i.lower() for i in word]\n",
    "    for i in range(len(lst)):\n",
    "        if lst.count(lst[i]) == 1:\n",
    "            sonuc = (word[i])\n",
    "            break\n",
    "        else:\n",
    "            sonuc = None\n",
    "    return sonuc\n",
    "print(first_non_repeating_letter(\"sTrtereSS\"))"
   ]
  },
  {
   "cell_type": "code",
   "execution_count": 127,
   "id": "34c85782",
   "metadata": {},
   "outputs": [
    {
     "name": "stdout",
     "output_type": "stream",
     "text": [
      "T\n"
     ]
    }
   ],
   "source": [
    "word = 'sTreSS'\n",
    "lst = [i.lower() for i in word]\n",
    "\n",
    "for i in range(len(lst)):\n",
    "    if lst.count(lst[i]) == 1:\n",
    "        sonuc = (word[i])\n",
    "        break\n",
    "    else:\n",
    "        sonuc = '\"\"'\n",
    "\n",
    "print(sonuc)\n",
    "     "
   ]
  },
  {
   "cell_type": "code",
   "execution_count": 137,
   "id": "fb82afb6",
   "metadata": {},
   "outputs": [
    {
     "name": "stdout",
     "output_type": "stream",
     "text": [
      "None\n"
     ]
    }
   ],
   "source": [
    "word = 'sTrtereSS'\n",
    "lst = [i.lower() for i in word]\n",
    "\n",
    "for i in range(len(lst)):\n",
    "    if lst.count(lst[i]) == 1:\n",
    "        sonuc = (word[i])\n",
    "        break\n",
    "    else:\n",
    "        sonuc = None\n",
    "\n",
    "print(sonuc)"
   ]
  },
  {
   "cell_type": "code",
   "execution_count": 129,
   "id": "15285232",
   "metadata": {},
   "outputs": [
    {
     "data": {
      "text/plain": [
       "''"
      ]
     },
     "execution_count": 129,
     "metadata": {},
     "output_type": "execute_result"
    }
   ],
   "source": [
    "def first_non_repeating_letter(text):\n",
    "  text = \"\".join(filter(lambda x: text.count(x.lower()) + text.count(x.upper())== 1, text))[0:1]\n",
    "  return text\n",
    "\n",
    "first_non_repeating_letter(\"sTrtreeSS\")"
   ]
  }
 ],
 "metadata": {
  "kernelspec": {
   "display_name": "Python 3",
   "language": "python",
   "name": "python3"
  },
  "language_info": {
   "codemirror_mode": {
    "name": "ipython",
    "version": 3
   },
   "file_extension": ".py",
   "mimetype": "text/x-python",
   "name": "python",
   "nbconvert_exporter": "python",
   "pygments_lexer": "ipython3",
   "version": "3.8.8"
  }
 },
 "nbformat": 4,
 "nbformat_minor": 5
}
