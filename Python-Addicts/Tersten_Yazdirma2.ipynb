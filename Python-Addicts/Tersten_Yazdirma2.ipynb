{
 "cells": [
  {
   "cell_type": "markdown",
   "id": "3ee405fd",
   "metadata": {},
   "source": [
    "Bir foksiyon tanımlayın ve foksiyonun sonucunda girilen her \n",
    "kelimeyi kendi içinde tersten yazdırın: \n",
    "given str =\"My Name is Muhammet\" expected_out_put: 'yM emaN si temmahuM'"
   ]
  },
  {
   "cell_type": "code",
   "execution_count": 4,
   "id": "bc107b52",
   "metadata": {},
   "outputs": [
    {
     "data": {
      "text/plain": [
       "'yM emaN si temmahuM'"
      ]
     },
     "execution_count": 4,
     "metadata": {},
     "output_type": "execute_result"
    }
   ],
   "source": [
    "def reversewords(sentence) :\n",
    "    wordslists = sentence.split(\" \")\n",
    "    new_sentence = \"\"\n",
    "    for i in wordslists :\n",
    "        new_sentence += i[::-1] \n",
    "        new_sentence += \" \"\n",
    "        \n",
    "        \n",
    "    return new_sentence[:len(sentence)]\n",
    "reversewords(\"My Name is Muhammet\")"
   ]
  },
  {
   "cell_type": "code",
   "execution_count": 5,
   "id": "b2ed3710",
   "metadata": {},
   "outputs": [
    {
     "data": {
      "text/plain": [
       "['Mike', 'Emme', 'Kelly', 'Brad']"
      ]
     },
     "execution_count": 5,
     "metadata": {},
     "output_type": "execute_result"
    }
   ],
   "source": [
    "list1= ['Mike', \"\", 'Emme', \"\", 'Kelly', \"\", 'Brad']\n",
    "\n",
    "result = list(filter(lambda x: x != \"\", list1))\n",
    "result"
   ]
  },
  {
   "cell_type": "code",
   "execution_count": null,
   "id": "235084ba",
   "metadata": {},
   "outputs": [],
   "source": []
  },
  {
   "cell_type": "code",
   "execution_count": null,
   "id": "6601415c",
   "metadata": {},
   "outputs": [],
   "source": []
  }
 ],
 "metadata": {
  "kernelspec": {
   "display_name": "Python 3",
   "language": "python",
   "name": "python3"
  },
  "language_info": {
   "codemirror_mode": {
    "name": "ipython",
    "version": 3
   },
   "file_extension": ".py",
   "mimetype": "text/x-python",
   "name": "python",
   "nbconvert_exporter": "python",
   "pygments_lexer": "ipython3",
   "version": "3.8.8"
  }
 },
 "nbformat": 4,
 "nbformat_minor": 5
}
