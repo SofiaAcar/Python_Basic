{
 "cells": [
  {
   "cell_type": "code",
   "execution_count": null,
   "id": "4d0bab01",
   "metadata": {},
   "outputs": [],
   "source": [
    "Muhtemelen Facebook ve diğer sayfalardan \"beğenme\" \n",
    "sistemini biliyorsunuzdur. İnsanlar blog gönderilerini,\n",
    "resimleri veya diğer öğeleri \"beğenebilir\". \n",
    "Böyle bir öğenin yanında görüntülenmesi gereken metni oluşturmak istiyoruz.\n",
    "likesBir öğeyi beğenen kişilerin adlarını \n",
    "içeren bir diziyi alan işlevi uygulayın . \n",
    "Örneklerde gösterildiği gibi ekran metnini döndürmelidir:\n",
    "    \n",
    "likes([]) # must be \"no one likes this\"\n",
    "likes([\"Peter\"]) # must be \"Peter likes this\"\n",
    "likes([\"Jacob\", \"Alex\"]) # must be \"Jacob and Alex like this\"\n",
    "likes([\"Max\", \"John\", \"Mark\"]) # must be \"Max, John and Mark like this\"\n",
    "likes([\"Alex\", \"Jacob\", \"Mark\", \"Max\"]) # must be \"Alex, Jacob and 2 others"
   ]
  },
  {
   "cell_type": "code",
   "execution_count": 14,
   "id": "0bb62392",
   "metadata": {},
   "outputs": [
    {
     "data": {
      "text/plain": [
       "'Mr.Bean, Mehmet, Murat, Raife, Joseph, Dustin and 0 others like this'"
      ]
     },
     "execution_count": 14,
     "metadata": {},
     "output_type": "execute_result"
    }
   ],
   "source": [
    "def likes(names):\n",
    "    if names == []:\n",
    "        return str(\"no one likes this\")\n",
    "    elif len(names) == 1:\n",
    "        return (str(names)) + \" likes this\"\n",
    "    elif 1<len(names)<=3:\n",
    "        return \" and \".join(map(str,names)) + \" like this\"\n",
    "    else:\n",
    "        return \", \".join(map(str,names)) + \" and \" + str(len(names)-6)+\" others like this\"\n",
    "likes([\"Mr.Bean\", \"Mehmet\", \"Murat\", \"Raife\", \"Joseph\", \"Dustin\"])"
   ]
  },
  {
   "cell_type": "code",
   "execution_count": 7,
   "id": "427be78e",
   "metadata": {},
   "outputs": [
    {
     "data": {
      "text/plain": [
       "['Mr.Bean', 'Mehmet', 'Muhammet', 'Raife', 'Joseph', 'Dustin']"
      ]
     },
     "execution_count": 7,
     "metadata": {},
     "output_type": "execute_result"
    }
   ],
   "source": [
    "names = [\"Mr.Bean\", \"Mehmet\", \"Muhammet\", \"Raife\", \"Joseph\", \"Dustin\"]\n",
    "lst = list(map(str,names))\n",
    "#\" and \".join(map(str,names))\n",
    "lst"
   ]
  },
  {
   "cell_type": "code",
   "execution_count": null,
   "id": "403b30c2",
   "metadata": {},
   "outputs": [],
   "source": [
    "def likes(liste):\n",
    "    if liste != []:\n",
    "        if len(liste) == 1:\n",
    "            sonuc = liste[0] + ' likes this.'\n",
    "        elif len(liste) == 2:\n",
    "            sonuc = liste[0] + ' and ' + liste[1] + ' like this.'\n",
    "        elif len(liste) == 3:\n",
    "            sonuc = liste[0] + ', ' + liste[1] + ' and ' + liste[2] + ' like this.'\n",
    "        elif len(liste) > 3:\n",
    "            ek = len(liste) - 2\n",
    "            sonuc = liste[0] + ', ' + liste[1]+ ' and ' + str(ek) + ' others like this.'\n",
    "    else:\n",
    "        sonuc = 'no one likes this'\n",
    "    return sonuc\n",
    "\n",
    "likes([\"Alex\", \"Jacob\", \"Mark\", \"Max\"])"
   ]
  }
 ],
 "metadata": {
  "kernelspec": {
   "display_name": "Python 3",
   "language": "python",
   "name": "python3"
  },
  "language_info": {
   "codemirror_mode": {
    "name": "ipython",
    "version": 3
   },
   "file_extension": ".py",
   "mimetype": "text/x-python",
   "name": "python",
   "nbconvert_exporter": "python",
   "pygments_lexer": "ipython3",
   "version": "3.8.8"
  }
 },
 "nbformat": 4,
 "nbformat_minor": 5
}
