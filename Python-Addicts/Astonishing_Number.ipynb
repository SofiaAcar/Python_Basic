{
 "cells": [
  {
   "cell_type": "code",
   "execution_count": null,
   "id": "84d29fc8",
   "metadata": {},
   "outputs": [],
   "source": [
    "In this challenge, you have to establish if a given integer is an Astonishing number. \n",
    "An Astonishing number is an integer that, when partitioned into two parts a (left) and b (right), \n",
    "is equal to the sum of the consecutive numbers from a up to b (if a is lower than b), \n",
    "or from b up to a (if a is greater than b).\n",
    "\n",
    "Given a positive integer num, implement a function that returns:\n",
    "\n",
    "The string \"AB-Astonishing\" if num is an Astonishing number and the partition a is lower than b.\n",
    "The string \"BA-Astonishing\" if num is an Astonishing number and the partition a is greater than b.\n",
    "False if num is not an Astonishing number.\n",
    "Examples\n",
    "is_astonishing(15) ➞ \"AB-Astonishing\"\n",
    "# There is only one possible partition: a = 1 and b = 5\n",
    "# Sum from a up to b: 1 + 2 + 3 + 4 + 5 = 15\n",
    "# It's Astonishing and partition a is lower than partition b\n",
    "\n",
    "is_astonishing(4020) ➞ False\n",
    "# There are three possible partitions\n",
    "# Partition 1: a = 4 and b = 020 = 20 (leading zeros are not considered)\n",
    "# Sum from a up to b: 4 + 5 + 6 + ... + 20 = 204\n",
    "# Partition 2: a = 40 and b = 20\n",
    "# Sum from b up to a: 20 + 21 + 22 + ... + 40 = 630\n",
    "#Partition 3: a = 402 and b = 0\n",
    "# Sum from b to a: 0 + 1 + 2 + ... + 402 = 81003\n",
    "# It's not Astonishing\n",
    "\n",
    "is_astonishing(2002077) ➞ \"BA-Astonishing\"\n",
    "# There are six possible partitions\n",
    "# Partition 1: a = 2 and b = 002077 = 2077 (leading zeros are not considered)\n",
    "# Sum from a up to b: 2 + 3 + 4 + ... + 2077 = 2158002\n",
    "# Partition 2: a = 20 and b = 02077 = 2077\n",
    "# Sum from a up to b: 20 + 21 + 22 + ... + 2077 = 2157813\n",
    "# Partition 3: a = 200 and b = 2077\n",
    "# Sum from a up to b: 200 + 201 + 202 + ... + 2077 = 2138103\n",
    "# Partition 4: a = 2002 and b = 077 = 77\n",
    "# Sum from b up to a: 77 + 78 + 79 + ... + 2002 = 2002077\n",
    "# It's Astonishing and partition a is greater than partition b\n",
    "Notes\n",
    "Leading zeros in the b partition are not considered (see examples #2 and #3).\n",
    "A valid partition has at least a number into it, and this number can be also 0 (see example #2).\n",
    "You can expect positive integers greater than 9 as input (a single-digit number can't be partitioned)."
   ]
  },
  {
   "cell_type": "code",
   "execution_count": 18,
   "id": "5b2a2968",
   "metadata": {},
   "outputs": [
    {
     "data": {
      "text/plain": [
       "6"
      ]
     },
     "execution_count": 18,
     "metadata": {},
     "output_type": "execute_result"
    }
   ],
   "source": [
    "num = 2002077 \n",
    "num = str(num)\n",
    "e = len(str(num))-1\n",
    "e"
   ]
  },
  {
   "cell_type": "code",
   "execution_count": 25,
   "id": "18326136",
   "metadata": {},
   "outputs": [
    {
     "name": "stdout",
     "output_type": "stream",
     "text": [
      "['2', '002077', '20', '02077', '200', '2077', '2002', '077', '20020', '77', '200207', '7']\n"
     ]
    }
   ],
   "source": [
    "lst=[]\n",
    "for i in range(e):\n",
    "    lst.append((num[:i+1]))\n",
    "    lst.append((num[i+1:]))\n",
    "print(lst)\n",
    "\n",
    "    "
   ]
  },
  {
   "cell_type": "code",
   "execution_count": 34,
   "id": "ff2cd622",
   "metadata": {},
   "outputs": [
    {
     "name": "stdout",
     "output_type": "stream",
     "text": [
      "BA-Astonishing\n"
     ]
    }
   ],
   "source": [
    "for j in range(len(lst)-1):\n",
    "    if int(lst[j]) > int(lst[j+1]):\n",
    "        a = sum([k for k in range(int(lst[j+1]),int(lst[j])+1)])\n",
    "        if a == int(num):\n",
    "            print(\"BA-Astonishing\" )\n",
    "\n",
    "    if int(lst[j+1]) > int(lst[j]):\n",
    "        b = sum([k for k in range(int(lst[j]),int(lst[j+1])+1)])\n",
    "        if b == int(num):\n",
    "            print(\"AB-Astonishing\" )"
   ]
  },
  {
   "cell_type": "code",
   "execution_count": 109,
   "id": "f755f3bd",
   "metadata": {},
   "outputs": [
    {
     "name": "stdout",
     "output_type": "stream",
     "text": [
      "2002077\n"
     ]
    }
   ],
   "source": [
    "top=0\n",
    "for i in range(77, 2003):\n",
    "    top +=i\n",
    "print(top)"
   ]
  },
  {
   "cell_type": "code",
   "execution_count": null,
   "id": "7410ba9c",
   "metadata": {},
   "outputs": [],
   "source": [
    "def astonish(number):\n",
    "  str_num = str(number)\n",
    "  lst = []\n",
    "  k= 0\n",
    "  while k < len(str_num) -1:\n",
    "    a = int(str_num[:k+1])\n",
    "    b = int(str_num[k+1:])\n",
    "    lst.append((a,b))\n",
    "    k += 1\n",
    "  for k in lst:\n",
    "    if k[0] > k[1]:\n",
    "      ba_total = 0\n",
    "      for ard in range(k[1], k[0] +1):\n",
    "        ba_total += ard\n",
    "      if number == ba_total:\n",
    "        print(\"BA-Astonishing\")\n",
    "        break\n",
    "    elif k[0] < k[1]:\n",
    "      ab_total = 0\n",
    "      for ard in range(k[0], k[1] +1):\n",
    "        ab_total += ard\n",
    "      if number == ab_total:\n",
    "        print(\"AB-Astonishing\")\n",
    "        break\n",
    "\n",
    "  else:\n",
    "    print(False)\n",
    "\n",
    "astonish(2002077)   "
   ]
  },
  {
   "cell_type": "code",
   "execution_count": null,
   "id": "d8a35aaa",
   "metadata": {},
   "outputs": [],
   "source": [
    "num = 4020 \n",
    "num = str(num)\n",
    "lst=[]\n",
    "for i in range(len(str(num))-1):\n",
    "    lst.append((num[:i+1]))\n",
    "    lst.append((num[i+1:]))\n",
    "\n",
    "for j in range(len(lst)-1):\n",
    "    if int(lst[j]) > int(lst[j+1]):\n",
    "        a = sum([k for k in range(int(lst[j+1]),int(lst[j])+1)])\n",
    "        if a == int(num):\n",
    "            print(\"BA-Astonishing\" )\n",
    "\n",
    "    if int(lst[j+1]) > int(lst[j]):\n",
    "        b = sum([k for k in range(int(lst[j]),int(lst[j+1])+1)])\n",
    "        if b == int(num):\n",
    "            print(\"AB-Astonishing\" )"
   ]
  },
  {
   "cell_type": "code",
   "execution_count": 6,
   "id": "ddb5bc2e",
   "metadata": {},
   "outputs": [
    {
     "name": "stdout",
     "output_type": "stream",
     "text": [
      "BA-Astonishing\n"
     ]
    }
   ],
   "source": [
    "num = 2002077 \n",
    "num = str(num)\n",
    "lst=[]\n",
    "for i in range(len(str(num))-1):\n",
    "    lst.append((num[:i+1]))\n",
    "    lst.append((num[i+1:]))\n",
    "\n",
    "for j in range(len(lst)-1):\n",
    "    if int(lst[j]) > int(lst[j+1]):\n",
    "        a = sum([k for k in range(int(lst[j+1]),int(lst[j])+1)])\n",
    "        if a == int(num):\n",
    "            print(\"BA-Astonishing\" )\n",
    "            break\n",
    "    if int(lst[j+1]) > int(lst[j]):\n",
    "        b = sum([k for k in range(int(lst[j]),int(lst[j+1])+1)])\n",
    "        if b == int(num):\n",
    "            print(\"AB-Astonishing\" )\n",
    "            break\n",
    "if a != int(num) and b != int(num):\n",
    "    print(False)\n"
   ]
  },
  {
   "cell_type": "code",
   "execution_count": null,
   "id": "4440f4ed",
   "metadata": {},
   "outputs": [],
   "source": []
  }
 ],
 "metadata": {
  "kernelspec": {
   "display_name": "Python 3",
   "language": "python",
   "name": "python3"
  },
  "language_info": {
   "codemirror_mode": {
    "name": "ipython",
    "version": 3
   },
   "file_extension": ".py",
   "mimetype": "text/x-python",
   "name": "python",
   "nbconvert_exporter": "python",
   "pygments_lexer": "ipython3",
   "version": "3.8.8"
  }
 },
 "nbformat": 4,
 "nbformat_minor": 5
}
