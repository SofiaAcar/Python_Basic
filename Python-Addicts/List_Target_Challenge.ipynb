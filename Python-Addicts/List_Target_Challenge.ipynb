{
 "cells": [
  {
   "cell_type": "code",
   "execution_count": null,
   "id": "24c029af",
   "metadata": {},
   "outputs": [],
   "source": [
    "Given an list of integers nums and an integer target, return indices of the two numbers such that they add up to target.      \n",
    " nums = [2, 7, 11, 15]                         \n",
    " target = 17      \n",
    " The indices 0 and 3 are returned here as the values in the input list 2 and 15 add up to the target value 17.  \n",
    "output:    (0, 3) ."
   ]
  },
  {
   "cell_type": "code",
   "execution_count": 6,
   "id": "5a1bc1fc",
   "metadata": {},
   "outputs": [
    {
     "name": "stdout",
     "output_type": "stream",
     "text": [
      "(0, 3)\n"
     ]
    }
   ],
   "source": [
    "lst = [2, 7, 11, 15]\n",
    "target = 17\n",
    "for i in range(len(lst)):\n",
    "    for j in range(i+1, len(lst)):\n",
    "        if lst[i] + lst[j] == target:\n",
    "            print((i, j))"
   ]
  },
  {
   "cell_type": "code",
   "execution_count": 9,
   "id": "00ea6166",
   "metadata": {},
   "outputs": [
    {
     "data": {
      "text/plain": [
       "(0, 3)"
      ]
     },
     "execution_count": 9,
     "metadata": {},
     "output_type": "execute_result"
    }
   ],
   "source": [
    "def top_target(lst, target):\n",
    "    for i in range(len(lst)):\n",
    "        for j in range(i+1, len(lst)):\n",
    "            if lst[i] + lst[j] == target:\n",
    "                return (i, j)\n",
    "top_target([2, 7, 11, 15], 17)"
   ]
  },
  {
   "cell_type": "code",
   "execution_count": 10,
   "id": "aff1ebc5",
   "metadata": {},
   "outputs": [
    {
     "data": {
      "text/plain": [
       "[(0, 3), (3, 0), (4, 5), (5, 4)]"
      ]
     },
     "execution_count": 10,
     "metadata": {},
     "output_type": "execute_result"
    }
   ],
   "source": [
    "def indeksleme(target, liste):\n",
    "    yeni = []\n",
    "    for i in liste:\n",
    "        other = target - i\n",
    "        if other in liste:\n",
    "            a = (liste.index(i), liste.index(other))\n",
    "            yeni.append(a)\n",
    "    return yeni\n",
    "\n",
    "indeksleme(17, [2, 7, 11, 15, 8, 9])"
   ]
  },
  {
   "cell_type": "code",
   "execution_count": 11,
   "id": "e5aa900a",
   "metadata": {},
   "outputs": [
    {
     "name": "stdout",
     "output_type": "stream",
     "text": [
      "0 and 3\n",
      "1 and 2\n",
      "2 and 1\n",
      "3 and 0\n",
      "4 and 5\n",
      "5 and 4\n"
     ]
    }
   ],
   "source": [
    "def target(liste,targetnumber):\n",
    "    a = []\n",
    "    b = []\n",
    "    for i in liste:\n",
    "        for j in liste:\n",
    "            if i + j == targetnumber:\n",
    "                a.append(liste.index(i))\n",
    "                b.append(liste.index(j))\n",
    "    k = 0\n",
    "    while k < len(a):\n",
    "        print(f\"{a[k]} and {b[k]}\") \n",
    "        k += 1 \n",
    "target([2, 8, 9, 15,5,12], 17)"
   ]
  },
  {
   "cell_type": "code",
   "execution_count": null,
   "id": "871e612e",
   "metadata": {},
   "outputs": [],
   "source": []
  }
 ],
 "metadata": {
  "kernelspec": {
   "display_name": "Python 3",
   "language": "python",
   "name": "python3"
  },
  "language_info": {
   "codemirror_mode": {
    "name": "ipython",
    "version": 3
   },
   "file_extension": ".py",
   "mimetype": "text/x-python",
   "name": "python",
   "nbconvert_exporter": "python",
   "pygments_lexer": "ipython3",
   "version": "3.8.8"
  }
 },
 "nbformat": 4,
 "nbformat_minor": 5
}
