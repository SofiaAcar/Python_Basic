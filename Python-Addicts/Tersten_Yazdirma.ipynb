{
 "cells": [
  {
   "cell_type": "code",
   "execution_count": null,
   "id": "eb11a188",
   "metadata": {},
   "outputs": [],
   "source": [
    "Bir foksiyon tanımlayın ve foksiyonun sonucunda girilen her kelimeyi kendi içinde\n",
    "tersten yazdırın: given str =\"My Name is Muhammet\" expected_out_put: 'yM emaN si temmahuM'"
   ]
  },
  {
   "cell_type": "code",
   "execution_count": 9,
   "id": "66450fde",
   "metadata": {},
   "outputs": [
    {
     "name": "stdout",
     "output_type": "stream",
     "text": [
      "yM emaN si temmahuM \n"
     ]
    }
   ],
   "source": [
    "string =\"My Name is Muhammet\"\n",
    "lst = string.split(\" \")\n",
    "lst_new = \"\"\n",
    "for i in lst:\n",
    "    lst_new += i[::-1] + \" \" \n",
    "print(lst_new)"
   ]
  },
  {
   "cell_type": "code",
   "execution_count": 12,
   "id": "9c796f11",
   "metadata": {},
   "outputs": [],
   "source": [
    "def reverse_word(sentence) :\n",
    "    wordlst = sentence.split(\" \")\n",
    "    new_sentence = \"\"\n",
    "    for i in wordlst :\n",
    "        new_sentence += i[::-1] \n",
    "        new_sentence += \" \"\n",
    "        \n",
    "        \n",
    "    return new_sentence"
   ]
  },
  {
   "cell_type": "code",
   "execution_count": 13,
   "id": "8e3aab5c",
   "metadata": {},
   "outputs": [
    {
     "data": {
      "text/plain": [
       "'yM emaN si temmahuM'"
      ]
     },
     "execution_count": 13,
     "metadata": {},
     "output_type": "execute_result"
    }
   ],
   "source": [
    "def reverse(text):\n",
    "    new = text.split(' ')\n",
    "    lst = [i[::-1] for i in new]\n",
    "    string= \" \".join(lst)\n",
    "    return string\n",
    "reverse(\"My Name is Muhammet\")"
   ]
  },
  {
   "cell_type": "code",
   "execution_count": null,
   "id": "9c549d52",
   "metadata": {},
   "outputs": [],
   "source": []
  }
 ],
 "metadata": {
  "kernelspec": {
   "display_name": "Python 3",
   "language": "python",
   "name": "python3"
  },
  "language_info": {
   "codemirror_mode": {
    "name": "ipython",
    "version": 3
   },
   "file_extension": ".py",
   "mimetype": "text/x-python",
   "name": "python",
   "nbconvert_exporter": "python",
   "pygments_lexer": "ipython3",
   "version": "3.8.8"
  }
 },
 "nbformat": 4,
 "nbformat_minor": 5
}
